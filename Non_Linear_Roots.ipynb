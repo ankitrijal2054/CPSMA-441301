{
  "nbformat": 4,
  "nbformat_minor": 0,
  "metadata": {
    "colab": {
      "name": "Non-Linear_Roots.ipynb",
      "provenance": [],
      "include_colab_link": true
    },
    "kernelspec": {
      "name": "python3",
      "display_name": "Python 3"
    }
  },
  "cells": [
    {
      "cell_type": "markdown",
      "metadata": {
        "id": "view-in-github",
        "colab_type": "text"
      },
      "source": [
        "<a href=\"https://colab.research.google.com/github/ankitrijal2054/CPSMA-441301/blob/main/Non_Linear_Roots.ipynb\" target=\"_parent\"><img src=\"https://colab.research.google.com/assets/colab-badge.svg\" alt=\"Open In Colab\"/></a>"
      ]
    },
    {
      "cell_type": "code",
      "metadata": {
        "id": "aumI9FYOCYiZ"
      },
      "source": [
        "def newton_formula(function, derivative, value):\r\n",
        "  root = value - function(value)/derivative(value)\r\n",
        "  return root\r\n",
        "\r\n",
        "def newton(function, derivative, initial, tolerrance, max_itrn):\r\n",
        "  x = initial\r\n",
        "  for count in range(max_itrn):\r\n",
        "    if derivative(x) == 0:\r\n",
        "      return None\r\n",
        "    if abs(function(x))< tolerrance:\r\n",
        "      return [x,count]\r\n",
        "    x = newton_formula(function, derivative, x)\r\n",
        "  return None"
      ],
      "execution_count": null,
      "outputs": []
    },
    {
      "cell_type": "code",
      "metadata": {
        "id": "wdF9OFwD0por"
      },
      "source": [
        "\r\n",
        "initial_seeds = [-20,-3,-2,-1,0,1,2,3,20]\r\n",
        "roots = []\r\n",
        "iterations = []\r\n",
        "for seed in initial_seeds:\r\n",
        "  newton_root = newton(math.exp,math.exp,seed,1e-10,20)\r\n",
        "  if newton_root == None:\r\n",
        "    roots.append('None')\r\n",
        "    iterations.append('>20')\r\n",
        "  else:\r\n",
        "    roots.append(newton_root[0])\r\n",
        "    iterations.append(newton_root[1])"
      ],
      "execution_count": null,
      "outputs": []
    },
    {
      "cell_type": "code",
      "metadata": {
        "id": "JQDQgtni4L22"
      },
      "source": [
        "#1(c) Table here"
      ],
      "execution_count": null,
      "outputs": []
    },
    {
      "cell_type": "markdown",
      "metadata": {
        "id": "0kwOgWK941QW"
      },
      "source": [
        "Secant Method"
      ]
    },
    {
      "cell_type": "code",
      "metadata": {
        "id": "qFKOLVi30v8S"
      },
      "source": [
        "def secant(function, olderValue, oldValue):\r\n",
        "  x = oldValue - function(oldValue)*(oldValue - olderValue)/(function(oldValue)-function(olderValue))\r\n",
        "  return x\r\n",
        "\r\n",
        "def secantMethod(function, firstValue, secondValue, iterations):\r\n",
        "  x = [firstValue, secondValue]\r\n",
        "  for i in range(iterations): \r\n",
        "    x.append(secant(function,x[-2],x[-1]))\r\n",
        "  return x"
      ],
      "execution_count": null,
      "outputs": []
    },
    {
      "cell_type": "markdown",
      "metadata": {
        "id": "AbTKDjLo9VHR"
      },
      "source": [
        "Lagrange Interpolation "
      ]
    },
    {
      "cell_type": "code",
      "metadata": {
        "id": "Vy4fCfcS9UO9"
      },
      "source": [
        "def lagrangeCoefficient(input,output,entry,x):\r\n",
        "  lc = 1\r\n",
        "  for i in range(len(input)):\r\n",
        "    if i != entry:\r\n",
        "      lc = lc*(x - input[i])/(input[entry]-input[i])\r\n",
        "  return lc\r\n",
        "\r\n",
        "def lagrangeInterpolator(input, output, x):\r\n",
        "  li = 0\r\n",
        "  for i in range(len(input)):\r\n",
        "    li = li + lagrangeCoefficient(input,output,i,x)*output[i]\r\n",
        "  return li"
      ],
      "execution_count": null,
      "outputs": []
    },
    {
      "cell_type": "code",
      "metadata": {
        "id": "NLoW8X4Y9ehP"
      },
      "source": [
        "#calculating true output for each input and adding it on the list\r\n",
        "input = [3, 3+0.1, 3+0.2, 3*2]\r\n",
        "output = []\r\n",
        "for x in input:\r\n",
        "  output.append(math.exp(x))"
      ],
      "execution_count": null,
      "outputs": []
    },
    {
      "cell_type": "code",
      "metadata": {
        "id": "1sLuzzic-e1T"
      },
      "source": [
        "#2(c)Graph here"
      ],
      "execution_count": null,
      "outputs": []
    }
  ]
}