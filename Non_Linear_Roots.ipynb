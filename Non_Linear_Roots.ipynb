{
  "nbformat": 4,
  "nbformat_minor": 0,
  "metadata": {
    "colab": {
      "name": "Non-Linear_Roots.ipynb",
      "provenance": [],
      "include_colab_link": true
    },
    "kernelspec": {
      "name": "python3",
      "display_name": "Python 3"
    }
  },
  "cells": [
    {
      "cell_type": "markdown",
      "metadata": {
        "id": "view-in-github",
        "colab_type": "text"
      },
      "source": [
        "<a href=\"https://colab.research.google.com/github/ankitrijal2054/CPSMA-441301/blob/main/Non_Linear_Roots.ipynb\" target=\"_parent\"><img src=\"https://colab.research.google.com/assets/colab-badge.svg\" alt=\"Open In Colab\"/></a>"
      ]
    },
    {
      "cell_type": "code",
      "metadata": {
        "id": "aumI9FYOCYiZ"
      },
      "source": [
        "def newton_formula(function, derivative, value):\r\n",
        "  root = value - function(value)/derivative(value)\r\n",
        "  return root\r\n",
        "\r\n",
        "def newton(function, derivative, initial, tolerrance, max_itrn):\r\n",
        "  x = initial\r\n",
        "  for counter in range(max_itrn):\r\n",
        "    if derivative(x) == 0:\r\n",
        "    #  print('Zero derivative, no solution')\r\n",
        "      return None\r\n",
        "    if abs(function(x))< tolerrance:\r\n",
        "      return [x,counter]\r\n",
        "    x = newtonIterator(function, derivative, x)\r\n",
        " # print('Max iterations exceeded')\r\n",
        "  return None"
      ],
      "execution_count": null,
      "outputs": []
    },
    {
      "cell_type": "code",
      "metadata": {
        "id": "wdF9OFwD0por"
      },
      "source": [
        "\r\n",
        "seedValues = [pi/4,pi/2,pi/4+.1,1,3,10,15,3*pi/2+.01,pi+.01]\r\n",
        "roots = []\r\n",
        "iterations = []\r\n",
        "for seed in seedValues:\r\n",
        "  newton_root = newton(math.exp,math.exp,seed,1e-10,20)\r\n",
        "  if newton_root == None:\r\n",
        "    roots.append('None Found')\r\n",
        "    iterations.append('>20')\r\n",
        "  else:\r\n",
        "    roots.append(newton_root[0])\r\n",
        "    iterations.append(newton_root[1])"
      ],
      "execution_count": null,
      "outputs": []
    },
    {
      "cell_type": "code",
      "metadata": {
        "id": "qFKOLVi30v8S"
      },
      "source": [
        "def secant(function, olderValue, oldValue):\r\n",
        "  x = oldValue - function(oldValue)*(oldValue - olderValue)/(function(oldValue)-function(olderValue))\r\n",
        "  return x\r\n",
        "\r\n",
        "def secantMethod(function, firstValue, secondValue, iterations):\r\n",
        "  x = [firstValue, secondValue]\r\n",
        "  for i in range(iterations):\r\n",
        "    x.append(secant(function,x[-2],x[-1]))\r\n",
        "  return x"
      ],
      "execution_count": null,
      "outputs": []
    }
  ]
}