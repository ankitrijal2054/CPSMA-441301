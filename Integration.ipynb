{
  "nbformat": 4,
  "nbformat_minor": 0,
  "metadata": {
    "colab": {
      "name": "Copy of Copy of Integration.ipynb",
      "provenance": [],
      "toc_visible": true,
      "include_colab_link": true
    },
    "kernelspec": {
      "name": "python3",
      "display_name": "Python 3"
    }
  },
  "cells": [
    {
      "cell_type": "markdown",
      "metadata": {
        "id": "view-in-github",
        "colab_type": "text"
      },
      "source": [
        "<a href=\"https://colab.research.google.com/github/ankitrijal2054/CPSMA-441301/blob/main/Integration.ipynb\" target=\"_parent\"><img src=\"https://colab.research.google.com/assets/colab-badge.svg\" alt=\"Open In Colab\"/></a>"
      ]
    },
    {
      "cell_type": "markdown",
      "metadata": {
        "id": "TT5-WgF53uJY"
      },
      "source": [
        "# Project Module 7: Integration\n",
        "\n",
        "\n",
        "\n",
        "$Ankit Rijal$\n",
        "\n",
        "$Min Sun Kim$\n",
        "\n",
        "$Tylar Gifford$\n",
        "\n",
        "$CPSMA - 441301$\n",
        "\n",
        "$Dr. Nicolas Jacob$"
      ]
    },
    {
      "cell_type": "markdown",
      "metadata": {
        "id": "7Gl5z0qZcgBP"
      },
      "source": [
        "First, I am going to import necessary package for this project."
      ]
    },
    {
      "cell_type": "code",
      "metadata": {
        "id": "UVSc-sp5bYxQ"
      },
      "source": [
        "import numpy as np\r\n",
        "from scipy import integrate\r\n",
        "import matplotlib.pyplot as plt\r\n",
        "import math"
      ],
      "execution_count": null,
      "outputs": []
    },
    {
      "cell_type": "markdown",
      "metadata": {
        "id": "uAUyEtshc-er"
      },
      "source": [
        "For this project, we will be using our original function from project 1. i.e.\r\n",
        "$$\r\n",
        "f(x) = e^x\r\n",
        "$$\r\n",
        "The, Let's graph the function:"
      ]
    },
    {
      "cell_type": "code",
      "metadata": {
        "colab": {
          "base_uri": "https://localhost:8080/",
          "height": 299
        },
        "id": "7viHrXEWeCDf",
        "outputId": "441ced2f-1f19-44d8-a234-8d0e1fe8d591"
      },
      "source": [
        "x = np.arange( 0,5,.1)\r\n",
        "plt.plot(x,np.e**x)\r\n",
        "plt.title(\"Function $e^x$\")"
      ],
      "execution_count": null,
      "outputs": [
        {
          "output_type": "execute_result",
          "data": {
            "text/plain": [
              "Text(0.5, 1.0, 'Function $e^x$')"
            ]
          },
          "metadata": {
            "tags": []
          },
          "execution_count": 154
        },
        {
          "output_type": "display_data",
          "data": {
            "image/png": "[encoded data removed]",
            "text/plain": [
              "<Figure size 432x288 with 1 Axes>"
            ]
          },
          "metadata": {
            "tags": [],
            "needs_background": "light"
          }
        }
      ]
    },
    {
      "cell_type": "markdown",
      "metadata": {
        "id": "XoRCIvjXeqP_"
      },
      "source": [
        "Now, using method from calculus, let's calculate the are under the curve 1 and 4 by hand.\r\n",
        "$$\r\n",
        "\\begin{align}\r\n",
        "Area &= \\int_1^4 e^x \\ dx\\\\\r\n",
        "&= e^x\\vert_1^4\\\\\r\n",
        "&= e^4-e^1\\\\\r\n",
        "&= 51.87986 \r\n",
        "\\end{align}\r\n",
        "$$\r\n",
        "So, Let's check our answer using pthon builtin integration function."
      ]
    },
    {
      "cell_type": "code",
      "metadata": {
        "colab": {
          "base_uri": "https://localhost:8080/"
        },
        "id": "TmZoHyRJgCwt",
        "outputId": "c6202682-e5fc-4613-93b6-6b3da9472eff"
      },
      "source": [
        "actual_value = integrate.quad(np.exp ,1,4)[0]\r\n",
        "print(actual_value)"
      ],
      "execution_count": null,
      "outputs": [
        {
          "output_type": "stream",
          "text": [
            "51.879868204685195\n"
          ],
          "name": "stdout"
        }
      ]
    },
    {
      "cell_type": "code",
      "metadata": {
        "id": "dTEdepEis8ls"
      },
      "source": [
        "#function to compute error\r\n",
        "def error(estimate_value):\r\n",
        "  error = (actual_value - estimate_value)/estimate_value\r\n",
        "  return abs(error)*100"
      ],
      "execution_count": null,
      "outputs": []
    },
    {
      "cell_type": "markdown",
      "metadata": {
        "id": "qLXkPfGqnql7"
      },
      "source": [
        "##Riemann Sum\n",
        "\n",
        "The Reimann sum is a calculation of the actual area underneath the graph of a curve f(x) which is resulted by dividing it into multiple shapes like rectangles. \n",
        "\n",
        "Below, I am going to define some functions. "
      ]
    },
    {
      "cell_type": "markdown",
      "metadata": {
        "id": "2t1UmRLVSzf4"
      },
      "source": [
        "$$\r\n",
        "\\sum_{i=1}^n f(x_{i-1})\\Delta x\r\n",
        "$$"
      ]
    },
    {
      "cell_type": "markdown",
      "metadata": {
        "id": "WdbRIMy8T4QH"
      },
      "source": [
        "$$\r\n",
        "\\sum_{i=1}^n f(x_{i})\\Delta x\r\n",
        "$$"
      ]
    },
    {
      "cell_type": "markdown",
      "metadata": {
        "id": "PeO7RWGET1-f"
      },
      "source": [
        "$$\r\n",
        "\\sum_{i=1}^n f(\\frac{x_{i}+x_{i-1}}2)\\Delta x\r\n",
        "$$"
      ]
    },
    {
      "cell_type": "code",
      "metadata": {
        "id": "SX00kA5ont66"
      },
      "source": [
        "def delx(a,b,n):\r\n",
        "  return (b-a)/n\r\n",
        "\r\n",
        "def riemannSum(function,a,b,n,endpoint):\r\n",
        "  dx = delx(a,b,n)\r\n",
        "  if endpoint == 'left':\r\n",
        "    start = 0\r\n",
        "  elif endpoint == 'right':\r\n",
        "    start = 1\r\n",
        "  elif endpoint == 'mid':\r\n",
        "    start = 0.5\r\n",
        "  rSum = 0\r\n",
        "  for i in np.arange(start,n+start):\r\n",
        "    rSum += function(a + i*dx)*dx\r\n",
        "  return rSum"
      ],
      "execution_count": null,
      "outputs": []
    },
    {
      "cell_type": "markdown",
      "metadata": {
        "id": "g2O_cvutot2P"
      },
      "source": [
        "Now, let's calculate the riemann sum using the above functions."
      ]
    },
    {
      "cell_type": "code",
      "metadata": {
        "colab": {
          "base_uri": "https://localhost:8080/"
        },
        "id": "a_Bvc_AJo14X",
        "outputId": "c0f52e40-c649-4879-b4f4-2a670d422537"
      },
      "source": [
        "riemannSum(np.exp, 1, 4, 10, 'left')"
      ],
      "execution_count": null,
      "outputs": [
        {
          "output_type": "execute_result",
          "data": {
            "text/plain": [
              "44.486404584868005"
            ]
          },
          "metadata": {
            "tags": []
          },
          "execution_count": 158
        }
      ]
    },
    {
      "cell_type": "code",
      "metadata": {
        "id": "CsA8nkKNdU-P",
        "colab": {
          "base_uri": "https://localhost:8080/",
          "height": 298
        },
        "outputId": "4f46606a-5429-486f-e71b-402448f04853"
      },
      "source": [
        "no_of_rectangle = [i for i in range(1,10,1)]\r\n",
        "estimate_value = [riemannSum(np.exp, 1, 4, i, 'left') for i in range(1,10,1)]\r\n",
        "\r\n",
        "plt.bar(no_of_rectangle, estimate_value)\r\n",
        "\r\n",
        "plt.title(\"Left Endpoint\")"
      ],
      "execution_count": null,
      "outputs": [
        {
          "output_type": "execute_result",
          "data": {
            "text/plain": [
              "Text(0.5, 1.0, 'Left Endpoint')"
            ]
          },
          "metadata": {
            "tags": []
          },
          "execution_count": 159
        },
        {
          "output_type": "display_data",
          "data": {
            "image/png": "[encoded data removed]",
            "text/plain": [
              "<Figure size 432x288 with 1 Axes>"
            ]
          },
          "metadata": {
            "tags": [],
            "needs_background": "light"
          }
        }
      ]
    },
    {
      "cell_type": "code",
      "metadata": {
        "colab": {
          "base_uri": "https://localhost:8080/"
        },
        "id": "zS-dZHJvpCDf",
        "outputId": "a4672713-0f07-4f03-aeda-2e21e691a5f3"
      },
      "source": [
        "riemannSum(np.exp, 1, 4, 10, 'right')"
      ],
      "execution_count": null,
      "outputs": [
        {
          "output_type": "execute_result",
          "data": {
            "text/plain": [
              "60.050365046273555"
            ]
          },
          "metadata": {
            "tags": []
          },
          "execution_count": 160
        }
      ]
    },
    {
      "cell_type": "code",
      "metadata": {
        "id": "YdzPfBxrdWYf",
        "colab": {
          "base_uri": "https://localhost:8080/",
          "height": 298
        },
        "outputId": "254361bf-efe9-41c4-ce0f-ad22ecde05e6"
      },
      "source": [
        "no_of_rectangle = [i for i in range(1,10,1)]\r\n",
        "estimate_value = [riemannSum(np.exp, 1, 4, i, 'right') for i in range(1,10,1)]\r\n",
        "\r\n",
        "plt.bar(no_of_rectangle, estimate_value)\r\n",
        "\r\n",
        "plt.title(\"Midpoint\")"
      ],
      "execution_count": null,
      "outputs": [
        {
          "output_type": "execute_result",
          "data": {
            "text/plain": [
              "Text(0.5, 1.0, 'Midpoint')"
            ]
          },
          "metadata": {
            "tags": []
          },
          "execution_count": 161
        },
        {
          "output_type": "display_data",
          "data": {
            "image/png": "[encoded data removed]",
            "text/plain": [
              "<Figure size 432x288 with 1 Axes>"
            ]
          },
          "metadata": {
            "tags": [],
            "needs_background": "light"
          }
        }
      ]
    },
    {
      "cell_type": "code",
      "metadata": {
        "colab": {
          "base_uri": "https://localhost:8080/"
        },
        "id": "1094XNP1pCYa",
        "outputId": "dc2f4122-bb0a-4892-bd66-cf9b245ebed5"
      },
      "source": [
        "riemannSum(np.exp, 1, 4, 10, 'mid')"
      ],
      "execution_count": null,
      "outputs": [
        {
          "output_type": "execute_result",
          "data": {
            "text/plain": [
              "51.68582818256414"
            ]
          },
          "metadata": {
            "tags": []
          },
          "execution_count": 162
        }
      ]
    },
    {
      "cell_type": "code",
      "metadata": {
        "id": "wdjIY-Hgddr3",
        "colab": {
          "base_uri": "https://localhost:8080/",
          "height": 298
        },
        "outputId": "6566e458-8411-4275-8815-bb22a6bbeab0"
      },
      "source": [
        "no_of_rectangle = [i for i in range(1,10,1)]\r\n",
        "estimate_value = [riemannSum(np.exp, 1, 4, i, 'mid') for i in range(1,10,1)]\r\n",
        "\r\n",
        "plt.bar(no_of_rectangle, estimate_value)\r\n",
        "\r\n",
        "plt.title(\"Right Endpoint\")"
      ],
      "execution_count": null,
      "outputs": [
        {
          "output_type": "execute_result",
          "data": {
            "text/plain": [
              "Text(0.5, 1.0, 'Right Endpoint')"
            ]
          },
          "metadata": {
            "tags": []
          },
          "execution_count": 163
        },
        {
          "output_type": "display_data",
          "data": {
            "image/png": "[encoded data removed]",
            "text/plain": [
              "<Figure size 432x288 with 1 Axes>"
            ]
          },
          "metadata": {
            "tags": [],
            "needs_background": "light"
          }
        }
      ]
    },
    {
      "cell_type": "markdown",
      "metadata": {
        "id": "7m1bcA-ku7KA"
      },
      "source": [
        "Let's compute the error for mid riemann sum using different number of rectangle."
      ]
    },
    {
      "cell_type": "code",
      "metadata": {
        "id": "a3xrqZCyqdJ6"
      },
      "source": [
        "no_of_rectangle = [i for i in range(5,55,5)]\r\n",
        "actual_value_list = [integrate.quad(np.exp ,1,4)[0] for i in range(5,55,5)]\r\n",
        "estimate_value = [riemannSum(np.exp, 1, 4, i, 'mid') for i in range(5,55,5)]\r\n",
        "error_percentage = [error(est) for est in estimate_value]"
      ],
      "execution_count": null,
      "outputs": []
    },
    {
      "cell_type": "code",
      "metadata": {
        "colab": {
          "base_uri": "https://localhost:8080/",
          "height": 837
        },
        "id": "tnKRz5BuwZ_V",
        "outputId": "f6b197de-353e-41ef-e134-4ce9d8951606"
      },
      "source": [
        "import plotly.graph_objects as go\r\n",
        "fig = go.Figure(data=[go.Table(\r\n",
        "    header=dict(values=['No of Rectangle', 'Actual Value', 'Estimated Value','Percentage Error'],\r\n",
        "                line_color='darkslategray',\r\n",
        "                fill_color='lightgreen',\r\n",
        "                align='left'),\r\n",
        "    cells=dict(values=[no_of_rectangle, actual_value_list, estimate_value, error_percentage], \r\n",
        "               line_color='darkslategray',\r\n",
        "               fill_color='white',\r\n",
        "               align='left'))\r\n",
        "])\r\n",
        "\r\n",
        "fig.update_layout(width=1500, height=800)\r\n",
        "fig.show()"
      ],
      "execution_count": null,
      "outputs": [
        {
          "output_type": "display_data",
          "data": {
            "text/html": [
              "<html>\n",
              "<head><meta charset=\"utf-8\" /></head>\n",
              "<body>\n",
              "    <div>\n",
              "            <script src=\"https://cdnjs.cloudflare.com/ajax/libs/mathjax/2.7.5/MathJax.js?config=TeX-AMS-MML_SVG\"></script><script type=\"text/javascript\">if (window.MathJax) {MathJax.Hub.Config({SVG: {font: \"STIX-Web\"}});}</script>\n",
              "                <script type=\"text/javascript\">window.PlotlyConfig = {MathJaxConfig: 'local'};</script>\n",
              "        <script src=\"https://cdn.plot.ly/plotly-latest.min.js\"></script>    \n",
              "            <div id=\"b4fd905d-8fd6-442c-8429-38ad19143210\" class=\"plotly-graph-div\" style=\"height:800px; width:1500px;\"></div>\n",
              "            <script type=\"text/javascript\">\n",
              "                \n",
              "                    window.PLOTLYENV=window.PLOTLYENV || {};\n",
              "                    \n",
              "                if (document.getElementById(\"b4fd905d-8fd6-442c-8429-38ad19143210\")) {\n",
              "                    Plotly.newPlot(\n",
              "                        'b4fd905d-8fd6-442c-8429-38ad19143210',\n",
              "                        [{\"cells\": {\"align\": \"left\", \"fill\": {\"color\": \"white\"}, \"line\": {\"color\": \"darkslategray\"}, \"values\": [[5, 10, 15, 20, 25, 30, 35, 40, 45, 50], [51.879868204685195, 51.879868204685195, 51.879868204685195, 51.879868204685195, 51.879868204685195, 51.879868204685195, 51.879868204685195, 51.879868204685195, 51.879868204685195, 51.879868204685195], [51.1097644272666, 51.68582818256414, 51.79350252894028, 51.831262727601356, 51.84875335252831, 51.85825789611677, 51.863990014917015, 51.86771085517134, 51.87026206693993, 51.87208704148487], [1.5067644823808937, 0.37542210107511864, 0.16675001984400847, 0.09377637071912544, 0.0600108009257762, 0.04167187531003608, 0.030615056349528276, 0.02343914800443551, 0.018519547352331994, 0.015000675014491902]]}, \"header\": {\"align\": \"left\", \"fill\": {\"color\": \"lightgreen\"}, \"line\": {\"color\": \"darkslategray\"}, \"values\": [\"No of Rectangle\", \"Actual Value\", \"Estimated Value\", \"Percentage Error\"]}, \"type\": \"table\"}],\n",
              "                        {\"height\": 800, \"template\": {\"data\": {\"bar\": [{\"error_x\": {\"color\": \"#2a3f5f\"}, \"error_y\": {\"color\": \"#2a3f5f\"}, \"marker\": {\"line\": {\"color\": \"#E5ECF6\", \"width\": 0.5}}, \"type\": \"bar\"}], \"barpolar\": [{\"marker\": {\"line\": {\"color\": \"#E5ECF6\", \"width\": 0.5}}, \"type\": \"barpolar\"}], \"carpet\": [{\"aaxis\": {\"endlinecolor\": \"#2a3f5f\", \"gridcolor\": \"white\", \"linecolor\": \"white\", \"minorgridcolor\": \"white\", \"startlinecolor\": \"#2a3f5f\"}, \"baxis\": {\"endlinecolor\": \"#2a3f5f\", \"gridcolor\": \"white\", \"linecolor\": \"white\", \"minorgridcolor\": \"white\", \"startlinecolor\": \"#2a3f5f\"}, \"type\": \"carpet\"}], \"choropleth\": [{\"colorbar\": {\"outlinewidth\": 0, \"ticks\": \"\"}, \"type\": \"choropleth\"}], \"contour\": [{\"colorbar\": {\"outlinewidth\": 0, \"ticks\": \"\"}, \"colorscale\": [[0.0, \"#0d0887\"], [0.1111111111111111, \"#46039f\"], [0.2222222222222222, \"#7201a8\"], [0.3333333333333333, \"#9c179e\"], [0.4444444444444444, \"#bd3786\"], [0.5555555555555556, \"#d8576b\"], [0.6666666666666666, \"#ed7953\"], [0.7777777777777778, \"#fb9f3a\"], [0.8888888888888888, \"#fdca26\"], [1.0, \"#f0f921\"]], \"type\": \"contour\"}], \"contourcarpet\": [{\"colorbar\": {\"outlinewidth\": 0, \"ticks\": \"\"}, \"type\": \"contourcarpet\"}], \"heatmap\": [{\"colorbar\": {\"outlinewidth\": 0, \"ticks\": \"\"}, \"colorscale\": [[0.0, \"#0d0887\"], [0.1111111111111111, \"#46039f\"], [0.2222222222222222, \"#7201a8\"], [0.3333333333333333, \"#9c179e\"], [0.4444444444444444, \"#bd3786\"], [0.5555555555555556, \"#d8576b\"], [0.6666666666666666, \"#ed7953\"], [0.7777777777777778, \"#fb9f3a\"], [0.8888888888888888, \"#fdca26\"], [1.0, \"#f0f921\"]], \"type\": \"heatmap\"}], \"heatmapgl\": [{\"colorbar\": {\"outlinewidth\": 0, \"ticks\": \"\"}, \"colorscale\": [[0.0, \"#0d0887\"], [0.1111111111111111, \"#46039f\"], [0.2222222222222222, \"#7201a8\"], [0.3333333333333333, \"#9c179e\"], [0.4444444444444444, \"#bd3786\"], [0.5555555555555556, \"#d8576b\"], [0.6666666666666666, \"#ed7953\"], [0.7777777777777778, \"#fb9f3a\"], [0.8888888888888888, \"#fdca26\"], [1.0, \"#f0f921\"]], \"type\": \"heatmapgl\"}], \"histogram\": [{\"marker\": {\"colorbar\": {\"outlinewidth\": 0, \"ticks\": \"\"}}, \"type\": \"histogram\"}], \"histogram2d\": [{\"colorbar\": {\"outlinewidth\": 0, \"ticks\": \"\"}, \"colorscale\": [[0.0, \"#0d0887\"], [0.1111111111111111, \"#46039f\"], [0.2222222222222222, \"#7201a8\"], [0.3333333333333333, \"#9c179e\"], [0.4444444444444444, \"#bd3786\"], [0.5555555555555556, \"#d8576b\"], [0.6666666666666666, \"#ed7953\"], [0.7777777777777778, \"#fb9f3a\"], [0.8888888888888888, \"#fdca26\"], [1.0, \"#f0f921\"]], \"type\": \"histogram2d\"}], \"histogram2dcontour\": [{\"colorbar\": {\"outlinewidth\": 0, \"ticks\": \"\"}, \"colorscale\": [[0.0, \"#0d0887\"], [0.1111111111111111, \"#46039f\"], [0.2222222222222222, \"#7201a8\"], [0.3333333333333333, \"#9c179e\"], [0.4444444444444444, \"#bd3786\"], [0.5555555555555556, \"#d8576b\"], [0.6666666666666666, \"#ed7953\"], [0.7777777777777778, \"#fb9f3a\"], [0.8888888888888888, \"#fdca26\"], [1.0, \"#f0f921\"]], \"type\": \"histogram2dcontour\"}], \"mesh3d\": [{\"colorbar\": {\"outlinewidth\": 0, \"ticks\": \"\"}, \"type\": \"mesh3d\"}], \"parcoords\": [{\"line\": {\"colorbar\": {\"outlinewidth\": 0, \"ticks\": \"\"}}, \"type\": \"parcoords\"}], \"pie\": [{\"automargin\": true, \"type\": \"pie\"}], \"scatter\": [{\"marker\": {\"colorbar\": {\"outlinewidth\": 0, \"ticks\": \"\"}}, \"type\": \"scatter\"}], \"scatter3d\": [{\"line\": {\"colorbar\": {\"outlinewidth\": 0, \"ticks\": \"\"}}, \"marker\": {\"colorbar\": {\"outlinewidth\": 0, \"ticks\": \"\"}}, \"type\": \"scatter3d\"}], \"scattercarpet\": [{\"marker\": {\"colorbar\": {\"outlinewidth\": 0, \"ticks\": \"\"}}, \"type\": \"scattercarpet\"}], \"scattergeo\": [{\"marker\": {\"colorbar\": {\"outlinewidth\": 0, \"ticks\": \"\"}}, \"type\": \"scattergeo\"}], \"scattergl\": [{\"marker\": {\"colorbar\": {\"outlinewidth\": 0, \"ticks\": \"\"}}, \"type\": \"scattergl\"}], \"scattermapbox\": [{\"marker\": {\"colorbar\": {\"outlinewidth\": 0, \"ticks\": \"\"}}, \"type\": \"scattermapbox\"}], \"scatterpolar\": [{\"marker\": {\"colorbar\": {\"outlinewidth\": 0, \"ticks\": \"\"}}, \"type\": \"scatterpolar\"}], \"scatterpolargl\": [{\"marker\": {\"colorbar\": {\"outlinewidth\": 0, \"ticks\": \"\"}}, \"type\": \"scatterpolargl\"}], \"scatterternary\": [{\"marker\": {\"colorbar\": {\"outlinewidth\": 0, \"ticks\": \"\"}}, \"type\": \"scatterternary\"}], \"surface\": [{\"colorbar\": {\"outlinewidth\": 0, \"ticks\": \"\"}, \"colorscale\": [[0.0, \"#0d0887\"], [0.1111111111111111, \"#46039f\"], [0.2222222222222222, \"#7201a8\"], [0.3333333333333333, \"#9c179e\"], [0.4444444444444444, \"#bd3786\"], [0.5555555555555556, \"#d8576b\"], [0.6666666666666666, \"#ed7953\"], [0.7777777777777778, \"#fb9f3a\"], [0.8888888888888888, \"#fdca26\"], [1.0, \"#f0f921\"]], \"type\": \"surface\"}], \"table\": [{\"cells\": {\"fill\": {\"color\": \"#EBF0F8\"}, \"line\": {\"color\": \"white\"}}, \"header\": {\"fill\": {\"color\": \"#C8D4E3\"}, \"line\": {\"color\": \"white\"}}, \"type\": \"table\"}]}, \"layout\": {\"annotationdefaults\": {\"arrowcolor\": \"#2a3f5f\", \"arrowhead\": 0, \"arrowwidth\": 1}, \"coloraxis\": {\"colorbar\": {\"outlinewidth\": 0, \"ticks\": \"\"}}, \"colorscale\": {\"diverging\": [[0, \"#8e0152\"], [0.1, \"#c51b7d\"], [0.2, \"#de77ae\"], [0.3, \"#f1b6da\"], [0.4, \"#fde0ef\"], [0.5, \"#f7f7f7\"], [0.6, \"#e6f5d0\"], [0.7, \"#b8e186\"], [0.8, \"#7fbc41\"], [0.9, \"#4d9221\"], [1, \"#276419\"]], \"sequential\": [[0.0, \"#0d0887\"], [0.1111111111111111, \"#46039f\"], [0.2222222222222222, \"#7201a8\"], [0.3333333333333333, \"#9c179e\"], [0.4444444444444444, \"#bd3786\"], [0.5555555555555556, \"#d8576b\"], [0.6666666666666666, \"#ed7953\"], [0.7777777777777778, \"#fb9f3a\"], [0.8888888888888888, \"#fdca26\"], [1.0, \"#f0f921\"]], \"sequentialminus\": [[0.0, \"#0d0887\"], [0.1111111111111111, \"#46039f\"], [0.2222222222222222, \"#7201a8\"], [0.3333333333333333, \"#9c179e\"], [0.4444444444444444, \"#bd3786\"], [0.5555555555555556, \"#d8576b\"], [0.6666666666666666, \"#ed7953\"], [0.7777777777777778, \"#fb9f3a\"], [0.8888888888888888, \"#fdca26\"], [1.0, \"#f0f921\"]]}, \"colorway\": [\"#636efa\", \"#EF553B\", \"#00cc96\", \"#ab63fa\", \"#FFA15A\", \"#19d3f3\", \"#FF6692\", \"#B6E880\", \"#FF97FF\", \"#FECB52\"], \"font\": {\"color\": \"#2a3f5f\"}, \"geo\": {\"bgcolor\": \"white\", \"lakecolor\": \"white\", \"landcolor\": \"#E5ECF6\", \"showlakes\": true, \"showland\": true, \"subunitcolor\": \"white\"}, \"hoverlabel\": {\"align\": \"left\"}, \"hovermode\": \"closest\", \"mapbox\": {\"style\": \"light\"}, \"paper_bgcolor\": \"white\", \"plot_bgcolor\": \"#E5ECF6\", \"polar\": {\"angularaxis\": {\"gridcolor\": \"white\", \"linecolor\": \"white\", \"ticks\": \"\"}, \"bgcolor\": \"#E5ECF6\", \"radialaxis\": {\"gridcolor\": \"white\", \"linecolor\": \"white\", \"ticks\": \"\"}}, \"scene\": {\"xaxis\": {\"backgroundcolor\": \"#E5ECF6\", \"gridcolor\": \"white\", \"gridwidth\": 2, \"linecolor\": \"white\", \"showbackground\": true, \"ticks\": \"\", \"zerolinecolor\": \"white\"}, \"yaxis\": {\"backgroundcolor\": \"#E5ECF6\", \"gridcolor\": \"white\", \"gridwidth\": 2, \"linecolor\": \"white\", \"showbackground\": true, \"ticks\": \"\", \"zerolinecolor\": \"white\"}, \"zaxis\": {\"backgroundcolor\": \"#E5ECF6\", \"gridcolor\": \"white\", \"gridwidth\": 2, \"linecolor\": \"white\", \"showbackground\": true, \"ticks\": \"\", \"zerolinecolor\": \"white\"}}, \"shapedefaults\": {\"line\": {\"color\": \"#2a3f5f\"}}, \"ternary\": {\"aaxis\": {\"gridcolor\": \"white\", \"linecolor\": \"white\", \"ticks\": \"\"}, \"baxis\": {\"gridcolor\": \"white\", \"linecolor\": \"white\", \"ticks\": \"\"}, \"bgcolor\": \"#E5ECF6\", \"caxis\": {\"gridcolor\": \"white\", \"linecolor\": \"white\", \"ticks\": \"\"}}, \"title\": {\"x\": 0.05}, \"xaxis\": {\"automargin\": true, \"gridcolor\": \"white\", \"linecolor\": \"white\", \"ticks\": \"\", \"title\": {\"standoff\": 15}, \"zerolinecolor\": \"white\", \"zerolinewidth\": 2}, \"yaxis\": {\"automargin\": true, \"gridcolor\": \"white\", \"linecolor\": \"white\", \"ticks\": \"\", \"title\": {\"standoff\": 15}, \"zerolinecolor\": \"white\", \"zerolinewidth\": 2}}}, \"width\": 1500},\n",
              "                        {\"responsive\": true}\n",
              "                    ).then(function(){\n",
              "                            \n",
              "var gd = document.getElementById('b4fd905d-8fd6-442c-8429-38ad19143210');\n",
              "var x = new MutationObserver(function (mutations, observer) {{\n",
              "        var display = window.getComputedStyle(gd).display;\n",
              "        if (!display || display === 'none') {{\n",
              "            console.log([gd, 'removed!']);\n",
              "            Plotly.purge(gd);\n",
              "            observer.disconnect();\n",
              "        }}\n",
              "}});\n",
              "\n",
              "// Listen for the removal of the full notebook cells\n",
              "var notebookContainer = gd.closest('#notebook-container');\n",
              "if (notebookContainer) {{\n",
              "    x.observe(notebookContainer, {childList: true});\n",
              "}}\n",
              "\n",
              "// Listen for the clearing of the current output cell\n",
              "var outputEl = gd.closest('.output');\n",
              "if (outputEl) {{\n",
              "    x.observe(outputEl, {childList: true});\n",
              "}}\n",
              "\n",
              "                        })\n",
              "                };\n",
              "                \n",
              "            </script>\n",
              "        </div>\n",
              "</body>\n",
              "</html>"
            ]
          },
          "metadata": {
            "tags": []
          }
        }
      ]
    },
    {
      "cell_type": "markdown",
      "metadata": {
        "id": "rD09sYIoxrZn"
      },
      "source": [
        "From the above table, we can conclude that, the more number of rectangle we use, the more accurate value we get. "
      ]
    },
    {
      "cell_type": "markdown",
      "metadata": {
        "id": "9ms5WweMq50p"
      },
      "source": [
        "## Trapazoid Rule\n",
        "\n",
        "Trapezoid Rule is a form of Riemann's Summs, but it uses trapezoids not rectangles. And it uses the average between points to approximate the line that the graph makes between the two points."
      ]
    },
    {
      "cell_type": "markdown",
      "metadata": {
        "id": "iFbKGA_rvpsD"
      },
      "source": [
        "$$\r\n",
        "\\int_a^b f(x)\\ dx\\approx(b-a)*\\frac{f(a)+f(b)}2\r\n",
        "$$"
      ]
    },
    {
      "cell_type": "markdown",
      "metadata": {
        "id": "UMGxg46m7cx1"
      },
      "source": [
        "I am going to write required function for the trapazoid rule. "
      ]
    },
    {
      "cell_type": "code",
      "metadata": {
        "id": "X2Yh8GEhq9L3"
      },
      "source": [
        "def trapazoid (function, a, b, n):\r\n",
        "  dx = delx(a,b,n)\r\n",
        "  sum = 0\r\n",
        "  for i in range(1,n):\r\n",
        "    sum += 2*function(a+i*dx)\r\n",
        "\r\n",
        "  sum = (dx/2)*(sum +function(a)+function(b))\r\n",
        "  return sum\r\n",
        "\r\n"
      ],
      "execution_count": null,
      "outputs": []
    },
    {
      "cell_type": "code",
      "metadata": {
        "colab": {
          "base_uri": "https://localhost:8080/"
        },
        "id": "RxfOZkDorl-I",
        "outputId": "755ed930-902d-4e93-ff3a-cff4fbc1b38a"
      },
      "source": [
        "trap_sum = trapazoid(np.exp, 1 , 4, 10)\r\n",
        "print(trap_sum)"
      ],
      "execution_count": null,
      "outputs": [
        {
          "output_type": "stream",
          "text": [
            "52.26838481557078\n"
          ],
          "name": "stdout"
        }
      ]
    },
    {
      "cell_type": "code",
      "metadata": {
        "colab": {
          "base_uri": "https://localhost:8080/"
        },
        "id": "8D3eYiEWtlWd",
        "outputId": "ca57af1f-702f-42e2-e631-235abdda07d4"
      },
      "source": [
        "print(f\"Percentage error = {error(trap_sum)}\")"
      ],
      "execution_count": null,
      "outputs": [
        {
          "output_type": "stream",
          "text": [
            "Percentage error = 0.7433109177880106\n"
          ],
          "name": "stdout"
        }
      ]
    }
  ]
}