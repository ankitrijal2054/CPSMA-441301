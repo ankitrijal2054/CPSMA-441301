{
  "nbformat": 4,
  "nbformat_minor": 0,
  "metadata": {
    "colab": {
      "name": "Derivatives.ipynb",
      "provenance": [],
      "authorship_tag": "ABX9TyNBhv+0tphA/S3WTpK2iFUj",
      "include_colab_link": true
    },
    "kernelspec": {
      "name": "python3",
      "display_name": "Python 3"
    }
  },
  "cells": [
    {
      "cell_type": "markdown",
      "metadata": {
        "id": "view-in-github",
        "colab_type": "text"
      },
      "source": [
        "<a href=\"https://colab.research.google.com/github/ankitrijal2054/CPSMA-441301/blob/main/Derivatives.ipynb\" target=\"_parent\"><img src=\"https://colab.research.google.com/assets/colab-badge.svg\" alt=\"Open In Colab\"/></a>"
      ]
    },
    {
      "cell_type": "markdown",
      "metadata": {
        "id": "G5mnGBRikYtc"
      },
      "source": [
        "Project 2"
      ]
    },
    {
      "cell_type": "code",
      "metadata": {
        "id": "eLfdt5qFm7y7"
      },
      "source": [
        "def fwd_diff(function,initial,step):\r\n",
        "  f_diff = (function(initial+step)-function(initial))/step\r\n",
        "  return f_diff\r\n",
        "\r\n",
        "def back_diff(function,initial,step):\r\n",
        "  b_diff = (function(initial)-function(initial-step))/step\r\n",
        "  return b_diff\r\n",
        "\r\n",
        "def central_diff(function,initial,step):\r\n",
        "  c_diff = (function(initial+step)-function(initial-step))/(2*step)\r\n",
        "  return c_diff\r\n",
        "\r\n",
        "def finite_diff(function,initial,step):\r\n",
        "  fi_diff = (function(initial+2*step)-2*function(initial+step)+function(initial))/step**2\r\n",
        "  return fi_diff\r\n",
        "\r\n",
        "def abs_error(estimate, actual_value):\r\n",
        "  a_error = actual_value - estimate\r\n",
        "  return a_error\r\n",
        "\r\n",
        "def rel_error(estimate, actual_value):\r\n",
        "  r_error = (actual_value - estimate)/actual_value\r\n",
        "  return r_error"
      ],
      "execution_count": 9,
      "outputs": []
    },
    {
      "cell_type": "code",
      "metadata": {
        "colab": {
          "base_uri": "https://localhost:8080/"
        },
        "id": "dJq3aXEwo8D_",
        "outputId": "d6837550-66e0-478c-b778-70fbae3715ca"
      },
      "source": [
        "import math\r\n",
        "\r\n",
        "stepSizes = [1, .1 , .01 , .001,.0001]\r\n",
        "forward = []\r\n",
        "backward = []\r\n",
        "central = []\r\n",
        "finite = []\r\n",
        "\r\n",
        "for step in stepSizes:\r\n",
        "  forward.append(fwd_diff(math.exp, 3, step)) \r\n",
        "  backward.append(back_diff(math.exp, 3, step)) \r\n",
        "  central.append(central_diff(math.exp, 3, step))\r\n",
        "  finite.append(finite_diff(math.exp, 3, step))\r\n",
        "\r\n",
        "actual = math.exp(3)\r\n",
        "actualSecond = math.exp(3)\r\n",
        "abs_forward = []\r\n",
        "rel_forward = []\r\n",
        "abs_backward = []\r\n",
        "rel_backward = []\r\n",
        "abs_central = []\r\n",
        "rel_central = []\r\n",
        "abs_finite = []\r\n",
        "rel_finite = []\r\n",
        "\r\n",
        "for n in range(0,len(stepSizes)):\r\n",
        "  abs_forward.append(abs_error(forward[n], actual)) \r\n",
        "  rel_forward.append(rel_error(forward[n], actual)) \r\n",
        "\r\n",
        "  abs_backward.append(abs_error(backward[n], actual)) \r\n",
        "  rel_backward.append(rel_error(backward[n], actual)) \r\n",
        "\r\n",
        "  abs_central.append(abs_error(central[n], actual)) \r\n",
        "  rel_central.append(rel_error(central[n], actual)) \r\n",
        "\r\n",
        "  abs_finite.append(abs_error(finite[n],actualSecond)) \r\n",
        "  rel_finite.append(rel_error(finite[n], actualSecond))\r\n",
        "\r\n",
        "print(abs_forward)"
      ],
      "execution_count": 10,
      "outputs": [
        {
          "output_type": "stream",
          "text": [
            "[-14.4270761867689, -1.0386066593520127, -0.10076328213816765, -0.01004611688674828, -0.0010043103583612378]\n"
          ],
          "name": "stdout"
        }
      ]
    }
  ]
}