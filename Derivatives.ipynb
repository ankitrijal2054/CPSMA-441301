{
  "nbformat": 4,
  "nbformat_minor": 0,
  "metadata": {
    "colab": {
      "name": "Derivatives.ipynb",
      "provenance": [],
      "include_colab_link": true
    },
    "kernelspec": {
      "name": "python3",
      "display_name": "Python 3"
    }
  },
  "cells": [
    {
      "cell_type": "markdown",
      "metadata": {
        "id": "view-in-github",
        "colab_type": "text"
      },
      "source": [
        "<a href=\"https://colab.research.google.com/github/ankitrijal2054/CPSMA-441301/blob/main/Derivatives.ipynb\" target=\"_parent\"><img src=\"https://colab.research.google.com/assets/colab-badge.svg\" alt=\"Open In Colab\"/></a>"
      ]
    },
    {
      "cell_type": "markdown",
      "metadata": {
        "id": "G5mnGBRikYtc"
      },
      "source": [
        "Project 2"
      ]
    },
    {
      "cell_type": "code",
      "metadata": {
        "id": "eLfdt5qFm7y7"
      },
      "source": [
        "def fwd_diff(function,initial,step):\r\n",
        "  f_diff = (function(initial+step)-function(initial))/step\r\n",
        "  return f_diff\r\n",
        "\r\n",
        "def back_diff(function,initial,step):\r\n",
        "  b_diff = (function(initial)-function(initial-step))/step\r\n",
        "  return b_diff\r\n",
        "\r\n",
        "def central_diff(function,initial,step):\r\n",
        "  c_diff = (function(initial+step)-function(initial-step))/(2*step)\r\n",
        "  return c_diff\r\n",
        "\r\n",
        "def finite_diff(function,initial,step):\r\n",
        "  fi_diff = (function(initial+2*step)-2*function(initial+step)+function(initial))/step**2\r\n",
        "  return fi_diff\r\n",
        "\r\n",
        "def abs_error(estimate, actual_value):\r\n",
        "  a_error = actual_value - estimate\r\n",
        "  return a_error\r\n",
        "\r\n",
        "def rel_error(estimate, actual_value):\r\n",
        "  r_error = (actual_value - estimate)/actual_value\r\n",
        "  return r_error"
      ],
      "execution_count": 1,
      "outputs": []
    },
    {
      "cell_type": "code",
      "metadata": {
        "colab": {
          "base_uri": "https://localhost:8080/"
        },
        "id": "dJq3aXEwo8D_",
        "outputId": "acbbfac6-bc6c-4537-85f2-de693d00c758"
      },
      "source": [
        "import math\r\n",
        "\r\n",
        "stepSizes = [1, .1 , .01 , .001,.0001]\r\n",
        "forward = []\r\n",
        "backward = []\r\n",
        "central = []\r\n",
        "finite = []\r\n",
        "\r\n",
        "for step in stepSizes:\r\n",
        "  forward.append(fwd_diff(math.exp, 3, step)) \r\n",
        "  backward.append(back_diff(math.exp, 3, step)) \r\n",
        "  central.append(central_diff(math.exp, 3, step))\r\n",
        "  finite.append(finite_diff(math.exp, 3, step))\r\n",
        "\r\n",
        "actual = math.exp(3)\r\n",
        "actualSecond = math.exp(3)\r\n",
        "abs_forward = []\r\n",
        "rel_forward = []\r\n",
        "abs_backward = []\r\n",
        "rel_backward = []\r\n",
        "abs_central = []\r\n",
        "rel_central = []\r\n",
        "abs_finite = []\r\n",
        "rel_finite = []\r\n",
        "\r\n",
        "for n in range(0,len(stepSizes)):\r\n",
        "  abs_forward.append(abs_error(forward[n], actual)) \r\n",
        "  rel_forward.append(rel_error(forward[n], actual)) \r\n",
        "\r\n",
        "  abs_backward.append(abs_error(backward[n], actual)) \r\n",
        "  rel_backward.append(rel_error(backward[n], actual)) \r\n",
        "\r\n",
        "  abs_central.append(abs_error(central[n], actual)) \r\n",
        "  rel_central.append(rel_error(central[n], actual)) \r\n",
        "\r\n",
        "  abs_finite.append(abs_error(finite[n],actualSecond)) \r\n",
        "  rel_finite.append(rel_error(finite[n], actualSecond))\r\n",
        "\r\n",
        "print(abs_forward)"
      ],
      "execution_count": 2,
      "outputs": [
        {
          "output_type": "stream",
          "text": [
            "[-14.4270761867689, -1.0386066593520127, -0.10076328213816765, -0.01004611688674828, -0.0010043103583612378]\n"
          ],
          "name": "stdout"
        }
      ]
    },
    {
      "cell_type": "code",
      "metadata": {
        "id": "U2ayJEL04OSg"
      },
      "source": [
        "#Table for above[1(c)] here"
      ],
      "execution_count": null,
      "outputs": []
    },
    {
      "cell_type": "code",
      "metadata": {
        "id": "roQZk5VW4TJj"
      },
      "source": [
        "def lagrangeCoefficient(input,output,entry,x):\r\n",
        "  lc = 1\r\n",
        "  for i in range(len(input)):\r\n",
        "    if i != entry:\r\n",
        "      lc = lc*(x - input[i])/(input[entry]-input[i])\r\n",
        "  return lc\r\n",
        "\r\n",
        "def lagrangeInterpolator(input, output, x):\r\n",
        "  li = 0\r\n",
        "  for i in range(len(input)):\r\n",
        "    li = li + lagrangeCoefficient(input,output,i,x)*output[i]\r\n",
        "  return li"
      ],
      "execution_count": 3,
      "outputs": []
    },
    {
      "cell_type": "code",
      "metadata": {
        "id": "HIpN-XuX-uUY"
      },
      "source": [
        "input = [3, 3+0.1, 3/2]\r\n",
        "output = []\r\n",
        "for x in input:\r\n",
        "  output.append(math.exp(x))"
      ],
      "execution_count": 4,
      "outputs": []
    },
    {
      "cell_type": "code",
      "metadata": {
        "id": "hhSte5rXAWRJ"
      },
      "source": [
        "#Graph [2(d)] here"
      ],
      "execution_count": null,
      "outputs": []
    },
    {
      "cell_type": "code",
      "metadata": {
        "id": "6PhJW6AeAa6V"
      },
      "source": [
        "actual_value = math.exp(3+0.2)\r\n",
        "interpolator_value = lagrangeInterpolator(input, output, 3+0.2)\r\n",
        "second_actual_value = math.exp(3+0.2)\r\n",
        "second_interpolator_value = 2*output[0]/((input[0]-input[1])*(input[0]-input[2]))+2*output[1]/((input[1]-input[0])*(input[1]-input[2]))+2*output[2]/((input[2]-input[0])*(input[2]-input[1]))"
      ],
      "execution_count": 5,
      "outputs": []
    },
    {
      "cell_type": "code",
      "metadata": {
        "id": "GEL5ajABEWXT"
      },
      "source": [
        "abs_interpolator_error = abs_error(interpolator_value, actual_value)\r\n",
        "rel__interpolator_error = rel_error(interpolator_value, actual_value)\r\n",
        "abs_secondInterpolator_error = abs_error(second_interpolator_value, second_actual_value)\r\n",
        "eal_secondInterpolator_error = rel_error(second_interpolator_value, second_actual_value)"
      ],
      "execution_count": 6,
      "outputs": []
    },
    {
      "cell_type": "code",
      "metadata": {
        "id": "PL-72zNXE-nT",
        "outputId": "f842ecd6-6efb-4b5c-f243-622e158e39b4",
        "colab": {
          "base_uri": "https://localhost:8080/"
        }
      },
      "source": [
        "print(f\"Absolute and relative error for the interpolation at (center + 0.2) are {abs_interpolator_error} and {rel__interpolator_error} respectively.\")\r\n",
        "print(\"\\n\")\r\n",
        "print(f\"Absolute and relative error for the second derivative of the interpolation at (center + 0.2) are {abs_secondInterpolator_error} and {eal_secondInterpolator_error} respectively\")"
      ],
      "execution_count": 7,
      "outputs": [
        {
          "output_type": "stream",
          "text": [
            "Absolute and relative error for the interpolation at (center + 0.2) are 0.0881448280724193 and 0.0035929774615259757 respectively.\n",
            "\n",
            "\n",
            "Absolute and relative error for the second derivative of the interpolation at (center + 0.2) are 11.130557262976087 and 0.45370604554631677 respectively\n"
          ],
          "name": "stdout"
        }
      ]
    }
  ]
}