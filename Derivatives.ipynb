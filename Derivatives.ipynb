{
  "nbformat": 4,
  "nbformat_minor": 0,
  "metadata": {
    "colab": {
      "name": "Copy of Copy of Derivatives.ipynb",
      "provenance": [],
      "collapsed_sections": [],
      "include_colab_link": true
    },
    "kernelspec": {
      "name": "python3",
      "display_name": "Python 3"
    }
  },
  "cells": [
    {
      "cell_type": "markdown",
      "metadata": {
        "id": "view-in-github",
        "colab_type": "text"
      },
      "source": [
        "<a href=\"https://colab.research.google.com/github/ankitrijal2054/CPSMA-441301/blob/main/Derivatives.ipynb\" target=\"_parent\"><img src=\"https://colab.research.google.com/assets/colab-badge.svg\" alt=\"Open In Colab\"/></a>"
      ]
    },
    {
      "cell_type": "markdown",
      "metadata": {
        "id": "G5mnGBRikYtc"
      },
      "source": [
        "# Project Module 2: Derivatives\n",
        "\n",
        "\n",
        "\n",
        "$Ankit Rijal$\n",
        "\n",
        "$Min Sun Kim$\n",
        "\n",
        "$Tylar Gifford$\n",
        "\n",
        "$CPSMA - 441301$\n",
        "\n",
        "$Dr. Nicolas Jacob$\n"
      ]
    },
    {
      "cell_type": "markdown",
      "metadata": {
        "id": "nJNlPfkvKs_0"
      },
      "source": [
        "In the previous project, the functions of the computing errors were defined along with Taylor series expantion  for $e^{x}$ centered at c=3. \n",
        "\n",
        "Now, I am going to list some functions for computing the forward difference, backward difference, central difference for the derivative."
      ]
    },
    {
      "cell_type": "code",
      "metadata": {
        "id": "eLfdt5qFm7y7"
      },
      "source": [
        "#forward difference for derivatives\r\n",
        "def fwd_diff(function,initial,step):\r\n",
        "  f_diff = (function(initial+step)-function(initial))/step\r\n",
        "  return f_diff\r\n",
        "\r\n",
        "#backward difference for derivatives\r\n",
        "def back_diff(function,initial,step):\r\n",
        "  b_diff = (function(initial)-function(initial-step))/step\r\n",
        "  return b_diff\r\n",
        "\r\n",
        "#central difference for derivatives\r\n",
        "def central_diff(function,initial,step):\r\n",
        "  c_diff = (function(initial+step)-function(initial-step))/(2*step)\r\n",
        "  return c_diff\r\n",
        "\r\n",
        "#finite difference for second order derivatives\r\n",
        "def finite_diff(function,initial,step):\r\n",
        "  fi_diff = (function(initial+2*step)-2*function(initial+step)+function(initial))/step**2\r\n",
        "  return fi_diff\r\n",
        "\r\n",
        "#absolute error\r\n",
        "def abs_error(estimate, actual_value):\r\n",
        "  a_error = actual_value - estimate\r\n",
        "  return a_error\r\n",
        "\r\n",
        "#relative error\r\n",
        "def rel_error(estimate, actual_value):\r\n",
        "  r_error = (actual_value - estimate)/actual_value\r\n",
        "  return r_error"
      ],
      "execution_count": null,
      "outputs": []
    },
    {
      "cell_type": "markdown",
      "metadata": {
        "id": "dzDznTPaI7dq"
      },
      "source": [
        "## Derivative Functions \n",
        "\n",
        "Following are the three derivative estimation functions that we will define:-\n",
        "\n",
        "1) Forward difference:\n",
        "\n",
        "2) Backward difference:\n",
        "\n",
        "3) Central difference:\n",
        "\n",
        "In addition,\n",
        " \n",
        "I am going to write the definition for the finite difference of the second order derivative: \n",
        "\n",
        "\n"
      ]
    },
    {
      "cell_type": "markdown",
      "metadata": {
        "id": "Cg6xzZG0UuSx"
      },
      "source": [
        "I will now import the math package to compute the above."
      ]
    },
    {
      "cell_type": "code",
      "metadata": {
        "colab": {
          "base_uri": "https://localhost:8080/"
        },
        "id": "dJq3aXEwo8D_",
        "outputId": "0e4741df-372d-41bf-a2b0-a82b033db762"
      },
      "source": [
        "import math\r\n",
        "\r\n",
        "stepSizes = [1, .1 , .01 , .001,.0001]\r\n",
        "forward = []\r\n",
        "backward = []\r\n",
        "central = []\r\n",
        "finite = []\r\n",
        "\r\n",
        "#calculating all derivatives for each step sizes and adding it on the list\r\n",
        "for step in stepSizes:\r\n",
        "  forward.append(fwd_diff(math.exp, 3, step)) \r\n",
        "  backward.append(back_diff(math.exp, 3, step)) \r\n",
        "  central.append(central_diff(math.exp, 3, step))\r\n",
        "  finite.append(finite_diff(math.exp, 3, step))\r\n",
        "\r\n",
        "actual = math.exp(3)\r\n",
        "actualSecond = math.exp(3)\r\n",
        "abs_forward = []\r\n",
        "rel_forward = []\r\n",
        "abs_backward = []\r\n",
        "rel_backward = []\r\n",
        "abs_central = []\r\n",
        "rel_central = []\r\n",
        "abs_finite = []\r\n",
        "rel_finite = []\r\n",
        "\r\n",
        "#calculating errors for each derivatives and adding it on the list\r\n",
        "for n in range(0,len(stepSizes)):\r\n",
        "  abs_forward.append(abs_error(forward[n], actual)) \r\n",
        "  rel_forward.append(rel_error(forward[n], actual)) \r\n",
        "\r\n",
        "  abs_backward.append(abs_error(backward[n], actual)) \r\n",
        "  rel_backward.append(rel_error(backward[n], actual)) \r\n",
        "\r\n",
        "  abs_central.append(abs_error(central[n], actual)) \r\n",
        "  rel_central.append(rel_error(central[n], actual)) \r\n",
        "\r\n",
        "  abs_finite.append(abs_error(finite[n],actualSecond)) \r\n",
        "  rel_finite.append(rel_error(finite[n], actualSecond))\r\n",
        "\r\n",
        "print(abs_forward)"
      ],
      "execution_count": null,
      "outputs": [
        {
          "output_type": "stream",
          "text": [
            "[-14.4270761867689, -1.0386066593520127, -0.10076328213816765, -0.01004611688674828, -0.0010043103583612378]\n"
          ],
          "name": "stdout"
        }
      ]
    },
    {
      "cell_type": "markdown",
      "metadata": {
        "id": "cXBJCk0fUXpJ"
      },
      "source": [
        "By using package plotly, I am going to create a table that is useful while making visualizations."
      ]
    },
    {
      "cell_type": "code",
      "metadata": {
        "colab": {
          "base_uri": "https://localhost:8080/",
          "height": 537
        },
        "id": "sC_fj7VnB1Rg",
        "outputId": "34e7b6f8-e15b-43c6-a0ef-935eb557a135"
      },
      "source": [
        "import plotly.graph_objects as go\r\n",
        "\r\n",
        "from plotly.subplots import make_subplots\r\n",
        "\r\n",
        "fig = make_subplots(\r\n",
        "    \r\n",
        "  rows = 2, cols = 1,\r\n",
        "    \r\n",
        "  shared_xaxes=True,\r\n",
        "\r\n",
        "  shared_yaxes=True,\r\n",
        "    \r\n",
        "  vertical_spacing=.01,\r\n",
        "    \r\n",
        "  specs = [[{\"type\": \"table\"}],\r\n",
        "           \r\n",
        "          [{\"type\": \"table\"}]]\r\n",
        "\r\n",
        ")\r\n",
        "\r\n",
        "fig.add_trace(go.Table(\r\n",
        "                \r\n",
        "  header = dict(values=['Step Size', 'Forward Estimate', 'Absolute Error','Relative Error', '','Step Size', 'Backward Estimate', 'Absolute Error','Relative Error'],\r\n",
        "                \r\n",
        "    fill=dict(color=['lightskyblue', 'lightskyblue','lightskyblue','lightskyblue','white','lightskyblue','lightskyblue','lightskyblue','lightskyblue']),\r\n",
        "\r\n",
        "    line_color = 'white',\r\n",
        "\r\n",
        "    font_size = 13.5,\r\n",
        "                \r\n",
        "    align='left'),            \r\n",
        "  \r\n",
        "  cells = dict(values = [stepSizes,forward,abs_forward,rel_forward,'',stepSizes,backward,abs_backward,rel_backward],\r\n",
        "               \r\n",
        "    fill=dict(color=['paleturquoise','lightcyan','lightcyan','lightcyan','white','paleturquoise','lightcyan','lightcyan','lightcyan']),\r\n",
        "\r\n",
        "    line_color = 'white',\r\n",
        "               \r\n",
        "    align = 'left')),\r\n",
        "  \r\n",
        "    row = 1, col = 1)     \r\n",
        "                     \r\n",
        "fig.add_trace(go.Table(\r\n",
        "                \r\n",
        "  header = dict(values=['Step Size', 'Central Estimate', 'Absolute Error','Relative Error', '','Step Size', 'Finite Estimate', 'Absolute Error','Relative Error'],\r\n",
        "                \r\n",
        "    fill = dict(color=['lightskyblue', 'lightskyblue','lightskyblue','lightskyblue','white','lightskyblue','lightskyblue','lightskyblue','lightskyblue']),\r\n",
        "\r\n",
        "    line_color = 'white',\r\n",
        "\r\n",
        "    font_size = 13.5,\r\n",
        "                \r\n",
        "    align = 'left'),\r\n",
        "                 \r\n",
        "  cells = dict(values = [stepSizes, central, abs_central, rel_central,'',stepSizes, finite, abs_finite, rel_finite],\r\n",
        "               \r\n",
        "    fill=dict(color=['paleturquoise','lightcyan','lightcyan','lightcyan','white','paleturquoise','lightcyan','lightcyan','lightcyan']),\r\n",
        "\r\n",
        "    line_color = 'white',\r\n",
        "               \r\n",
        "    align = 'left')),\r\n",
        "  \r\n",
        "    row = 2, col = 1)\r\n",
        "\r\n",
        "fig.update_layout(width=1850, height=500)\r\n",
        "\r\n",
        "fig.show()"
      ],
      "execution_count": null,
      "outputs": [
        {
          "output_type": "display_data",
          "data": {
            "text/html": [
              "<html>\n",
              "<head><meta charset=\"utf-8\" /></head>\n",
              "<body>\n",
              "    <div>\n",
              "            <script src=\"https://cdnjs.cloudflare.com/ajax/libs/mathjax/2.7.5/MathJax.js?config=TeX-AMS-MML_SVG\"></script><script type=\"text/javascript\">if (window.MathJax) {MathJax.Hub.Config({SVG: {font: \"STIX-Web\"}});}</script>\n",
              "                <script type=\"text/javascript\">window.PlotlyConfig = {MathJaxConfig: 'local'};</script>\n",
              "        <script src=\"https://cdn.plot.ly/plotly-latest.min.js\"></script>    \n",
              "            <div id=\"a09d5a0f-6fb0-44bb-b73a-9ea6dabb35cb\" class=\"plotly-graph-div\" style=\"height:500px; width:1850px;\"></div>\n",
              "            <script type=\"text/javascript\">\n",
              "                \n",
              "                    window.PLOTLYENV=window.PLOTLYENV || {};\n",
              "                    \n",
              "                if (document.getElementById(\"a09d5a0f-6fb0-44bb-b73a-9ea6dabb35cb\")) {\n",
              "                    Plotly.newPlot(\n",
              "                        'a09d5a0f-6fb0-44bb-b73a-9ea6dabb35cb',\n",
              "                        [{\"cells\": {\"align\": \"left\", \"fill\": {\"color\": [\"paleturquoise\", \"lightcyan\", \"lightcyan\", \"lightcyan\", \"white\", \"paleturquoise\", \"lightcyan\", \"lightcyan\", \"lightcyan\"]}, \"line\": {\"color\": \"white\"}, \"values\": [[1, 0.1, 0.01, 0.001, 0.0001], [34.51261310995657, 21.12414358253968, 20.186300205325836, 20.095583040074416, 20.08654123354603], [-14.4270761867689, -1.0386066593520127, -0.10076328213816765, -0.01004611688674828, -0.0010043103583612378], [-0.7182818284590451, -0.05170918075647743, -0.005016708416783317, -0.0005001667082720891, -5.000166847428488e-05], \"\", [1, 0.1, 0.01, 0.001, 0.0001], [12.696480824257018, 19.113915537446076, 19.985443162293848, 20.075497501476747, 20.084532679867095], [7.38905609893065, 0.9716213857415923, 0.10009376089382016, 0.010039421710921204, 0.0010042433205725843], [0.36787944117144233, 0.048374180359595356, 0.00498337491681725, 0.0004998333750954515, 4.999833085931796e-05]]}, \"domain\": {\"x\": [0.0, 1.0], \"y\": [0.505, 1.0]}, \"header\": {\"align\": \"left\", \"fill\": {\"color\": [\"lightskyblue\", \"lightskyblue\", \"lightskyblue\", \"lightskyblue\", \"white\", \"lightskyblue\", \"lightskyblue\", \"lightskyblue\", \"lightskyblue\"]}, \"font\": {\"size\": 13.5}, \"line\": {\"color\": \"white\"}, \"values\": [\"Step Size\", \"Forward Estimate\", \"Absolute Error\", \"Relative Error\", \"\", \"Step Size\", \"Backward Estimate\", \"Absolute Error\", \"Relative Error\"]}, \"type\": \"table\"}, {\"cells\": {\"align\": \"left\", \"fill\": {\"color\": [\"paleturquoise\", \"lightcyan\", \"lightcyan\", \"lightcyan\", \"white\", \"paleturquoise\", \"lightcyan\", \"lightcyan\", \"lightcyan\"]}, \"line\": {\"color\": \"white\"}, \"values\": [[1, 0.1, 0.01, 0.001, 0.0001], [23.604546967106792, 20.119029559992878, 20.08587168380984, 20.08554027077558, 20.085536956706562], [-3.519010043919124, -0.033492636805210196, -0.00033476062217374647, -3.3475879135380637e-06, -3.351889432678945e-08], [-0.17520119364380132, -0.0016675001984410363, -1.6666749983032986e-05, -1.666665883187546e-07, -1.6688074834630732e-09], \"\", [1, 0.1, 0.01, 0.001, 0.0001], [59.302395959475795, 22.216455741374826, 20.287568987562565, 20.105634181533105, 20.08754478310948], [-39.21685903628813, -2.1309188181871583, -0.2020320643748974, -0.020097258345437297, -0.0020078599218109616], [-1.9524924420125598, -0.10609220088745189, -0.010058584201533707, -0.001000583575250911, -9.99654592002963e-05]]}, \"domain\": {\"x\": [0.0, 1.0], \"y\": [0.0, 0.495]}, \"header\": {\"align\": \"left\", \"fill\": {\"color\": [\"lightskyblue\", \"lightskyblue\", \"lightskyblue\", \"lightskyblue\", \"white\", \"lightskyblue\", \"lightskyblue\", \"lightskyblue\", \"lightskyblue\"]}, \"font\": {\"size\": 13.5}, \"line\": {\"color\": \"white\"}, \"values\": [\"Step Size\", \"Central Estimate\", \"Absolute Error\", \"Relative Error\", \"\", \"Step Size\", \"Finite Estimate\", \"Absolute Error\", \"Relative Error\"]}, \"type\": \"table\"}],\n",
              "                        {\"height\": 500, \"template\": {\"data\": {\"bar\": [{\"error_x\": {\"color\": \"#2a3f5f\"}, \"error_y\": {\"color\": \"#2a3f5f\"}, \"marker\": {\"line\": {\"color\": \"#E5ECF6\", \"width\": 0.5}}, \"type\": \"bar\"}], \"barpolar\": [{\"marker\": {\"line\": {\"color\": \"#E5ECF6\", \"width\": 0.5}}, \"type\": \"barpolar\"}], \"carpet\": [{\"aaxis\": {\"endlinecolor\": \"#2a3f5f\", \"gridcolor\": \"white\", \"linecolor\": \"white\", \"minorgridcolor\": \"white\", \"startlinecolor\": \"#2a3f5f\"}, \"baxis\": {\"endlinecolor\": \"#2a3f5f\", \"gridcolor\": \"white\", \"linecolor\": \"white\", \"minorgridcolor\": \"white\", \"startlinecolor\": \"#2a3f5f\"}, \"type\": \"carpet\"}], \"choropleth\": [{\"colorbar\": {\"outlinewidth\": 0, \"ticks\": \"\"}, \"type\": \"choropleth\"}], \"contour\": [{\"colorbar\": {\"outlinewidth\": 0, \"ticks\": \"\"}, \"colorscale\": [[0.0, \"#0d0887\"], [0.1111111111111111, \"#46039f\"], [0.2222222222222222, \"#7201a8\"], [0.3333333333333333, \"#9c179e\"], [0.4444444444444444, \"#bd3786\"], [0.5555555555555556, \"#d8576b\"], [0.6666666666666666, \"#ed7953\"], [0.7777777777777778, \"#fb9f3a\"], [0.8888888888888888, \"#fdca26\"], [1.0, \"#f0f921\"]], \"type\": \"contour\"}], \"contourcarpet\": [{\"colorbar\": {\"outlinewidth\": 0, \"ticks\": \"\"}, \"type\": \"contourcarpet\"}], \"heatmap\": [{\"colorbar\": {\"outlinewidth\": 0, \"ticks\": \"\"}, \"colorscale\": [[0.0, \"#0d0887\"], [0.1111111111111111, \"#46039f\"], [0.2222222222222222, \"#7201a8\"], [0.3333333333333333, \"#9c179e\"], [0.4444444444444444, \"#bd3786\"], [0.5555555555555556, \"#d8576b\"], [0.6666666666666666, \"#ed7953\"], [0.7777777777777778, \"#fb9f3a\"], [0.8888888888888888, \"#fdca26\"], [1.0, \"#f0f921\"]], \"type\": \"heatmap\"}], \"heatmapgl\": [{\"colorbar\": {\"outlinewidth\": 0, \"ticks\": \"\"}, \"colorscale\": [[0.0, \"#0d0887\"], [0.1111111111111111, \"#46039f\"], [0.2222222222222222, \"#7201a8\"], [0.3333333333333333, \"#9c179e\"], [0.4444444444444444, \"#bd3786\"], [0.5555555555555556, \"#d8576b\"], [0.6666666666666666, \"#ed7953\"], [0.7777777777777778, \"#fb9f3a\"], [0.8888888888888888, \"#fdca26\"], [1.0, \"#f0f921\"]], \"type\": \"heatmapgl\"}], \"histogram\": [{\"marker\": {\"colorbar\": {\"outlinewidth\": 0, \"ticks\": \"\"}}, \"type\": \"histogram\"}], \"histogram2d\": [{\"colorbar\": {\"outlinewidth\": 0, \"ticks\": \"\"}, \"colorscale\": [[0.0, \"#0d0887\"], [0.1111111111111111, \"#46039f\"], [0.2222222222222222, \"#7201a8\"], [0.3333333333333333, \"#9c179e\"], [0.4444444444444444, \"#bd3786\"], [0.5555555555555556, \"#d8576b\"], [0.6666666666666666, \"#ed7953\"], [0.7777777777777778, \"#fb9f3a\"], [0.8888888888888888, \"#fdca26\"], [1.0, \"#f0f921\"]], \"type\": \"histogram2d\"}], \"histogram2dcontour\": [{\"colorbar\": {\"outlinewidth\": 0, \"ticks\": \"\"}, \"colorscale\": [[0.0, \"#0d0887\"], [0.1111111111111111, \"#46039f\"], [0.2222222222222222, \"#7201a8\"], [0.3333333333333333, \"#9c179e\"], [0.4444444444444444, \"#bd3786\"], [0.5555555555555556, \"#d8576b\"], [0.6666666666666666, \"#ed7953\"], [0.7777777777777778, \"#fb9f3a\"], [0.8888888888888888, \"#fdca26\"], [1.0, \"#f0f921\"]], \"type\": \"histogram2dcontour\"}], \"mesh3d\": [{\"colorbar\": {\"outlinewidth\": 0, \"ticks\": \"\"}, \"type\": \"mesh3d\"}], \"parcoords\": [{\"line\": {\"colorbar\": {\"outlinewidth\": 0, \"ticks\": \"\"}}, \"type\": \"parcoords\"}], \"pie\": [{\"automargin\": true, \"type\": \"pie\"}], \"scatter\": [{\"marker\": {\"colorbar\": {\"outlinewidth\": 0, \"ticks\": \"\"}}, \"type\": \"scatter\"}], \"scatter3d\": [{\"line\": {\"colorbar\": {\"outlinewidth\": 0, \"ticks\": \"\"}}, \"marker\": {\"colorbar\": {\"outlinewidth\": 0, \"ticks\": \"\"}}, \"type\": \"scatter3d\"}], \"scattercarpet\": [{\"marker\": {\"colorbar\": {\"outlinewidth\": 0, \"ticks\": \"\"}}, \"type\": \"scattercarpet\"}], \"scattergeo\": [{\"marker\": {\"colorbar\": {\"outlinewidth\": 0, \"ticks\": \"\"}}, \"type\": \"scattergeo\"}], \"scattergl\": [{\"marker\": {\"colorbar\": {\"outlinewidth\": 0, \"ticks\": \"\"}}, \"type\": \"scattergl\"}], \"scattermapbox\": [{\"marker\": {\"colorbar\": {\"outlinewidth\": 0, \"ticks\": \"\"}}, \"type\": \"scattermapbox\"}], \"scatterpolar\": [{\"marker\": {\"colorbar\": {\"outlinewidth\": 0, \"ticks\": \"\"}}, \"type\": \"scatterpolar\"}], \"scatterpolargl\": [{\"marker\": {\"colorbar\": {\"outlinewidth\": 0, \"ticks\": \"\"}}, \"type\": \"scatterpolargl\"}], \"scatterternary\": [{\"marker\": {\"colorbar\": {\"outlinewidth\": 0, \"ticks\": \"\"}}, \"type\": \"scatterternary\"}], \"surface\": [{\"colorbar\": {\"outlinewidth\": 0, \"ticks\": \"\"}, \"colorscale\": [[0.0, \"#0d0887\"], [0.1111111111111111, \"#46039f\"], [0.2222222222222222, \"#7201a8\"], [0.3333333333333333, \"#9c179e\"], [0.4444444444444444, \"#bd3786\"], [0.5555555555555556, \"#d8576b\"], [0.6666666666666666, \"#ed7953\"], [0.7777777777777778, \"#fb9f3a\"], [0.8888888888888888, \"#fdca26\"], [1.0, \"#f0f921\"]], \"type\": \"surface\"}], \"table\": [{\"cells\": {\"fill\": {\"color\": \"#EBF0F8\"}, \"line\": {\"color\": \"white\"}}, \"header\": {\"fill\": {\"color\": \"#C8D4E3\"}, \"line\": {\"color\": \"white\"}}, \"type\": \"table\"}]}, \"layout\": {\"annotationdefaults\": {\"arrowcolor\": \"#2a3f5f\", \"arrowhead\": 0, \"arrowwidth\": 1}, \"coloraxis\": {\"colorbar\": {\"outlinewidth\": 0, \"ticks\": \"\"}}, \"colorscale\": {\"diverging\": [[0, \"#8e0152\"], [0.1, \"#c51b7d\"], [0.2, \"#de77ae\"], [0.3, \"#f1b6da\"], [0.4, \"#fde0ef\"], [0.5, \"#f7f7f7\"], [0.6, \"#e6f5d0\"], [0.7, \"#b8e186\"], [0.8, \"#7fbc41\"], [0.9, \"#4d9221\"], [1, \"#276419\"]], \"sequential\": [[0.0, \"#0d0887\"], [0.1111111111111111, \"#46039f\"], [0.2222222222222222, \"#7201a8\"], [0.3333333333333333, \"#9c179e\"], [0.4444444444444444, \"#bd3786\"], [0.5555555555555556, \"#d8576b\"], [0.6666666666666666, \"#ed7953\"], [0.7777777777777778, \"#fb9f3a\"], [0.8888888888888888, \"#fdca26\"], [1.0, \"#f0f921\"]], \"sequentialminus\": [[0.0, \"#0d0887\"], [0.1111111111111111, \"#46039f\"], [0.2222222222222222, \"#7201a8\"], [0.3333333333333333, \"#9c179e\"], [0.4444444444444444, \"#bd3786\"], [0.5555555555555556, \"#d8576b\"], [0.6666666666666666, \"#ed7953\"], [0.7777777777777778, \"#fb9f3a\"], [0.8888888888888888, \"#fdca26\"], [1.0, \"#f0f921\"]]}, \"colorway\": [\"#636efa\", \"#EF553B\", \"#00cc96\", \"#ab63fa\", \"#FFA15A\", \"#19d3f3\", \"#FF6692\", \"#B6E880\", \"#FF97FF\", \"#FECB52\"], \"font\": {\"color\": \"#2a3f5f\"}, \"geo\": {\"bgcolor\": \"white\", \"lakecolor\": \"white\", \"landcolor\": \"#E5ECF6\", \"showlakes\": true, \"showland\": true, \"subunitcolor\": \"white\"}, \"hoverlabel\": {\"align\": \"left\"}, \"hovermode\": \"closest\", \"mapbox\": {\"style\": \"light\"}, \"paper_bgcolor\": \"white\", \"plot_bgcolor\": \"#E5ECF6\", \"polar\": {\"angularaxis\": {\"gridcolor\": \"white\", \"linecolor\": \"white\", \"ticks\": \"\"}, \"bgcolor\": \"#E5ECF6\", \"radialaxis\": {\"gridcolor\": \"white\", \"linecolor\": \"white\", \"ticks\": \"\"}}, \"scene\": {\"xaxis\": {\"backgroundcolor\": \"#E5ECF6\", \"gridcolor\": \"white\", \"gridwidth\": 2, \"linecolor\": \"white\", \"showbackground\": true, \"ticks\": \"\", \"zerolinecolor\": \"white\"}, \"yaxis\": {\"backgroundcolor\": \"#E5ECF6\", \"gridcolor\": \"white\", \"gridwidth\": 2, \"linecolor\": \"white\", \"showbackground\": true, \"ticks\": \"\", \"zerolinecolor\": \"white\"}, \"zaxis\": {\"backgroundcolor\": \"#E5ECF6\", \"gridcolor\": \"white\", \"gridwidth\": 2, \"linecolor\": \"white\", \"showbackground\": true, \"ticks\": \"\", \"zerolinecolor\": \"white\"}}, \"shapedefaults\": {\"line\": {\"color\": \"#2a3f5f\"}}, \"ternary\": {\"aaxis\": {\"gridcolor\": \"white\", \"linecolor\": \"white\", \"ticks\": \"\"}, \"baxis\": {\"gridcolor\": \"white\", \"linecolor\": \"white\", \"ticks\": \"\"}, \"bgcolor\": \"#E5ECF6\", \"caxis\": {\"gridcolor\": \"white\", \"linecolor\": \"white\", \"ticks\": \"\"}}, \"title\": {\"x\": 0.05}, \"xaxis\": {\"automargin\": true, \"gridcolor\": \"white\", \"linecolor\": \"white\", \"ticks\": \"\", \"title\": {\"standoff\": 15}, \"zerolinecolor\": \"white\", \"zerolinewidth\": 2}, \"yaxis\": {\"automargin\": true, \"gridcolor\": \"white\", \"linecolor\": \"white\", \"ticks\": \"\", \"title\": {\"standoff\": 15}, \"zerolinecolor\": \"white\", \"zerolinewidth\": 2}}}, \"width\": 1850},\n",
              "                        {\"responsive\": true}\n",
              "                    ).then(function(){\n",
              "                            \n",
              "var gd = document.getElementById('a09d5a0f-6fb0-44bb-b73a-9ea6dabb35cb');\n",
              "var x = new MutationObserver(function (mutations, observer) {{\n",
              "        var display = window.getComputedStyle(gd).display;\n",
              "        if (!display || display === 'none') {{\n",
              "            console.log([gd, 'removed!']);\n",
              "            Plotly.purge(gd);\n",
              "            observer.disconnect();\n",
              "        }}\n",
              "}});\n",
              "\n",
              "// Listen for the removal of the full notebook cells\n",
              "var notebookContainer = gd.closest('#notebook-container');\n",
              "if (notebookContainer) {{\n",
              "    x.observe(notebookContainer, {childList: true});\n",
              "}}\n",
              "\n",
              "// Listen for the clearing of the current output cell\n",
              "var outputEl = gd.closest('.output');\n",
              "if (outputEl) {{\n",
              "    x.observe(outputEl, {childList: true});\n",
              "}}\n",
              "\n",
              "                        })\n",
              "                };\n",
              "                \n",
              "            </script>\n",
              "        </div>\n",
              "</body>\n",
              "</html>"
            ]
          },
          "metadata": {
            "tags": []
          }
        }
      ]
    },
    {
      "cell_type": "markdown",
      "metadata": {
        "id": "z-nkPJvxJP3c"
      },
      "source": [
        "### Lagrange Interpolation"
      ]
    },
    {
      "cell_type": "markdown",
      "metadata": {
        "id": "gd9vY5ryVKdD"
      },
      "source": [
        "Here, I am going to define some functions that will be required for performing Lagrange Interpolation. \n",
        "\n",
        "The first function allows in computing the coefficients that apprears in Lagrange interpolating polynomials while the second function constructs the Lagrage Interpolator. "
      ]
    },
    {
      "cell_type": "code",
      "metadata": {
        "id": "roQZk5VW4TJj"
      },
      "source": [
        "#function for lagrange interpolation\r\n",
        "def lagrangeCoefficient(input,output,entry,x):\r\n",
        "  lc = 1\r\n",
        "  for i in range(len(input)):\r\n",
        "    if i != entry:\r\n",
        "      lc = lc*(x - input[i])/(input[entry]-input[i])\r\n",
        "  return lc\r\n",
        "\r\n",
        "def lagrangeInterpolator(input, output, x):\r\n",
        "  li = 0\r\n",
        "  for i in range(len(input)):\r\n",
        "    li = li + lagrangeCoefficient(input,output,i,x)*output[i]\r\n",
        "  return li"
      ],
      "execution_count": null,
      "outputs": []
    },
    {
      "cell_type": "code",
      "metadata": {
        "id": "HIpN-XuX-uUY"
      },
      "source": [
        "#calculating true output for each input and adding it on the list\r\n",
        "input = [3, 3+0.1, 3/2]\r\n",
        "output = []\r\n",
        "for x in input:\r\n",
        "  output.append(math.exp(x))"
      ],
      "execution_count": null,
      "outputs": []
    },
    {
      "cell_type": "code",
      "metadata": {
        "colab": {
          "base_uri": "https://localhost:8080/",
          "height": 298
        },
        "id": "79NIcChyicTW",
        "outputId": "9f3ccb9c-5dc9-4426-c61d-c3776b69d6f0"
      },
      "source": [
        "from matplotlib import pyplot as plot\r\n",
        "import numpy as npy\r\n",
        "\r\n",
        "#creating a lagrange interpolation graph\r\n",
        "\r\n",
        "x = npy.arange(0, 4, .001)\r\n",
        "\r\n",
        "y = 6.8*((x-1.5)**2) + 4.6\r\n",
        "\r\n",
        "fig, ax = plot.subplots()\r\n",
        "\r\n",
        "ax.plot(x,y, label = r'6$\\frac{8}{10}$x-$1.5^2$')\r\n",
        "\r\n",
        "ax.plot(x, lagrangeInterpolator(input,output,x), label='Lagrange Interpolator')\r\n",
        "\r\n",
        "ax.scatter(input, output)\r\n",
        "\r\n",
        "ax.plot(x, .5*(npy.exp(x)*2), label=r'$\\frac{1}{2}$ exp(x)*2')\r\n",
        "\r\n",
        "ax.set_title('Lagrange Interpolator')\r\n",
        "\r\n",
        "ax.legend()"
      ],
      "execution_count": null,
      "outputs": [
        {
          "output_type": "execute_result",
          "data": {
            "text/plain": [
              "<matplotlib.legend.Legend at 0x7f8aa15027b8>"
            ]
          },
          "metadata": {
            "tags": []
          },
          "execution_count": 306
        },
        {
          "output_type": "display_data",
          "data": {
            "image/png": "[encoded data removed]",
            "text/plain": [
              "<Figure size 432x288 with 1 Axes>"
            ]
          },
          "metadata": {
            "tags": [],
            "needs_background": "light"
          }
        }
      ]
    },
    {
      "cell_type": "code",
      "metadata": {
        "id": "6PhJW6AeAa6V"
      },
      "source": [
        "actual_value = math.exp(3+0.2)\r\n",
        "interpolator_value = lagrangeInterpolator(input, output, 3+0.2)\r\n",
        "second_actual_value = math.exp(3+0.2)\r\n",
        "second_interpolator_value = 2*output[0]/((input[0]-input[1])*(input[0]-input[2]))+2*output[1]/((input[1]-input[0])*(input[1]-input[2]))+2*output[2]/((input[2]-input[0])*(input[2]-input[1]))"
      ],
      "execution_count": null,
      "outputs": []
    },
    {
      "cell_type": "code",
      "metadata": {
        "id": "GEL5ajABEWXT"
      },
      "source": [
        "abs_interpolator_error = abs_error(interpolator_value, actual_value)\r\n",
        "rel__interpolator_error = rel_error(interpolator_value, actual_value)\r\n",
        "abs_secondInterpolator_error = abs_error(second_interpolator_value, second_actual_value)\r\n",
        "eal_secondInterpolator_error = rel_error(second_interpolator_value, second_actual_value)"
      ],
      "execution_count": null,
      "outputs": []
    },
    {
      "cell_type": "code",
      "metadata": {
        "id": "PL-72zNXE-nT",
        "colab": {
          "base_uri": "https://localhost:8080/"
        },
        "outputId": "a1703130-ee9b-4da4-a791-7ef2188d42c8"
      },
      "source": [
        "print(f\"Absolute and relative error for the interpolation at (center + 0.2) are {abs_interpolator_error} and {rel__interpolator_error} respectively.\")\r\n",
        "print(\"\\n\")\r\n",
        "print(f\"Absolute and relative error for the second derivative of the interpolation at (center + 0.2) are {abs_secondInterpolator_error} and {eal_secondInterpolator_error} respectively\")"
      ],
      "execution_count": null,
      "outputs": [
        {
          "output_type": "stream",
          "text": [
            "Absolute and relative error for the interpolation at (center + 0.2) are 0.0881448280724193 and 0.0035929774615259757 respectively.\n",
            "\n",
            "\n",
            "Absolute and relative error for the second derivative of the interpolation at (center + 0.2) are 11.130557262976087 and 0.45370604554631677 respectively\n"
          ],
          "name": "stdout"
        }
      ]
    }
  ]
}