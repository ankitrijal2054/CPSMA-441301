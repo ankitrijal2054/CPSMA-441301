{
  "nbformat": 4,
  "nbformat_minor": 0,
  "metadata": {
    "colab": {
      "name": "Interpolation.ipynb",
      "provenance": [],
      "authorship_tag": "ABX9TyMWoMyCE8Jpdz2alE/vb4rw",
      "include_colab_link": true
    },
    "kernelspec": {
      "name": "python3",
      "display_name": "Python 3"
    }
  },
  "cells": [
    {
      "cell_type": "markdown",
      "metadata": {
        "id": "view-in-github",
        "colab_type": "text"
      },
      "source": [
        "<a href=\"https://colab.research.google.com/github/ankitrijal2054/CPSMA-441301/blob/main/Interpolation.ipynb\" target=\"_parent\"><img src=\"https://colab.research.google.com/assets/colab-badge.svg\" alt=\"Open In Colab\"/></a>"
      ]
    },
    {
      "cell_type": "markdown",
      "metadata": {
        "id": "z2_UxoLb0S51"
      },
      "source": [
        "Gauss-Jordan from previous project"
      ]
    },
    {
      "cell_type": "code",
      "metadata": {
        "id": "wyY3eiYjzd9J"
      },
      "source": [
        "#importing necessary modules\r\n",
        "import math\r\n",
        "import numpy as np\r\n",
        "\r\n",
        "def swap(matrix, row1, row2):\r\n",
        "  swapped_matrix = []\r\n",
        "  size = len(matrix)      #to find the size of a matrix\r\n",
        "  for i in range(size):   #using loop to go through each row\r\n",
        "    if i == row1:\r\n",
        "      swapped_matrix.append(matrix[row2,:])   \r\n",
        "    elif i == row2:\r\n",
        "      swapped_matrix.append(matrix[row1,:])\r\n",
        "    else:\r\n",
        "      swapped_matrix.append(matrix[i,:])\r\n",
        "  return np.array(swapped_matrix)\r\n",
        "\r\n",
        "\r\n",
        "def add_rows(matrix, target_row, adding_row, multiplier):\r\n",
        "  added_matrix = []\r\n",
        "  size = len(matrix)\r\n",
        "  for i in range(size):   #using loop to go through each row\r\n",
        "    if i == target_row:\r\n",
        "      old_row = matrix[target_row,:]\r\n",
        "      adding_values = multiplier * matrix[adding_row,:]\r\n",
        "      new_row = old_row + adding_values\r\n",
        "      added_matrix.append(new_row)\r\n",
        "    else:\r\n",
        "      added_matrix.append(matrix[i,:])\r\n",
        "  return np.array(added_matrix)\r\n",
        "\r\n",
        "def multiply(matrix, target_row, constant):\r\n",
        "  new_matrix = []\r\n",
        "  size = len(matrix)\r\n",
        "  for i in range(size):   #using loop to go through each row\r\n",
        "    if i == target_row:\r\n",
        "      new_matrix.append(constant * matrix[target_row,:])\r\n",
        "    else:\r\n",
        "      new_matrix.append(matrix[i,:])\r\n",
        "  return np.array(new_matrix)\r\n",
        "\r\n",
        "def max_value_row(matrix, column):\r\n",
        "  col = matrix[column:,column]\r\n",
        "  max = 0\r\n",
        "  for i in range(len(col)):\r\n",
        "    if col[max] < col[i]:\r\n",
        "      max = i\r\n",
        "  max_row = max + column\r\n",
        "  return max_row\r\n",
        "\r\n",
        "def gaussJordan(matrix):\r\n",
        "  for i in range(len(matrix)):  #using loop to go through each row\r\n",
        "    pos = max_value_row(matrix, i)  #using max_value_row function to find the row with largest leftmost value   \r\n",
        "    matrix = swap(matrix, pos, i)   #swapping current row with row found on previous step   \r\n",
        "    constant = 1/matrix[i,i]        \r\n",
        "    matrix = multiply(matrix,i,constant)  #using multiply function to make the diagonal 1\r\n",
        "    for column in range(0,i):             \r\n",
        "      matrix = add_rows(matrix,column,i,-matrix[column,i])    #using add_rows function to make all values except diagonal 0\r\n",
        "    for column in range(i+1,len(matrix)):\r\n",
        "      matrix = add_rows(matrix,column,i,-matrix[column,i])    #using add_rows function to make all values except diagonal 0\r\n",
        "  return np.array(matrix)"
      ],
      "execution_count": 129,
      "outputs": []
    },
    {
      "cell_type": "markdown",
      "metadata": {
        "id": "Ovaiolkk0i8r"
      },
      "source": [
        "Direct Method\r\n",
        "$$\r\n",
        "$$\r\n",
        "Function used: 2x^3+3x^2-4x+10"
      ]
    },
    {
      "cell_type": "code",
      "metadata": {
        "id": "I_89wK9K0k0F"
      },
      "source": [
        "def createRow(input,output,order):\r\n",
        "  array = []\r\n",
        "  for i in range(order+1):\r\n",
        "    array.append(input**i)\r\n",
        "  array.append(output)\r\n",
        "  return array\r\n",
        "\r\n",
        "def augmented_matrix(data):\r\n",
        "  matrix = []\r\n",
        "  order = len(data)-1\r\n",
        "  for i in range(len(data)):\r\n",
        "    matrix.append(createRow(data[i][0],data[i][1],order))\r\n",
        "  return np.array(matrix)\r\n"
      ],
      "execution_count": 130,
      "outputs": []
    },
    {
      "cell_type": "code",
      "metadata": {
        "id": "S-9k539j4MjK"
      },
      "source": [
        "def direct_interpolation(data):\r\n",
        "  answer = gaussJordan(augmented_matrix(data))[:,-1]\r\n",
        "  end = -len(answer)-1\r\n",
        "  degree = len(answer)-1\r\n",
        "  function = ''\r\n",
        "  super_map = {\"0\": \"⁰\", \"1\": \"¹\", \"2\": \"²\", \"3\": \"³\", \"4\": \"⁴\", \"5\": \"⁵\", \"6\": \"⁶\", \"7\": \"⁷\", \"8\": \"⁸\", \"9\": \"⁹\"}\r\n",
        "\r\n",
        "  for i in range(-1,end,-1):\r\n",
        "    power = super_map.get(str(degree))\r\n",
        "    function += f\"+ ({(answer[i])})x{power} \"\r\n",
        "    degree -= 1\r\n",
        "\r\n",
        "  print(\"The function is:\")\r\n",
        "  print(function)\r\n"
      ],
      "execution_count": 131,
      "outputs": []
    },
    {
      "cell_type": "code",
      "metadata": {
        "colab": {
          "base_uri": "https://localhost:8080/"
        },
        "id": "ooyK0LZWHTge",
        "outputId": "e5b68bdb-543b-4660-f8dd-5526e6542c66"
      },
      "source": [
        "data =[[0,10],[1,11],[2,30],[3,79],[4,170]]\r\n",
        "direct_interpolation(data)"
      ],
      "execution_count": 132,
      "outputs": [
        {
          "output_type": "stream",
          "text": [
            "The function is:\n",
            "+ (0.0)x⁴ + (2.0)x³ + (3.0)x² + (-4.0)x¹ + (10.0)x⁰ \n"
          ],
          "name": "stdout"
        }
      ]
    },
    {
      "cell_type": "code",
      "metadata": {
        "id": "JRjNVg3FFznW"
      },
      "source": [
        "def direct_spline(data, x_value):\r\n",
        "  coefficient = gaussJordan(augmented_matrix(data))[:,-1]\r\n",
        "  answer = 0\r\n",
        "  for i in range(len(coefficient)):\r\n",
        "    value = coefficient[i]*(x_value)**i\r\n",
        "    answer += value\r\n",
        "  return answer"
      ],
      "execution_count": 133,
      "outputs": []
    },
    {
      "cell_type": "code",
      "metadata": {
        "colab": {
          "base_uri": "https://localhost:8080/"
        },
        "id": "jJC4zGngIjBg",
        "outputId": "065ac513-fb33-42fa-e764-5c42f9cb0a7d"
      },
      "source": [
        "direct_spline(data, 3)"
      ],
      "execution_count": 134,
      "outputs": [
        {
          "output_type": "execute_result",
          "data": {
            "text/plain": [
              "79.0"
            ]
          },
          "metadata": {
            "tags": []
          },
          "execution_count": 134
        }
      ]
    },
    {
      "cell_type": "code",
      "metadata": {
        "id": "HF_6R1E1Iwfi"
      },
      "source": [
        "#Graph of 1(b) here"
      ],
      "execution_count": null,
      "outputs": []
    },
    {
      "cell_type": "markdown",
      "metadata": {
        "id": "RVAEZuxDI2f4"
      },
      "source": [
        "Linear Splines"
      ]
    }
  ]
}