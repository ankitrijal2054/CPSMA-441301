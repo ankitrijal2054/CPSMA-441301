{
  "nbformat": 4,
  "nbformat_minor": 0,
  "metadata": {
    "colab": {
      "name": "Copy of Interpolation.ipynb",
      "provenance": []
    },
    "kernelspec": {
      "name": "python3",
      "display_name": "Python 3"
    }
  },
  "cells": [
    {
      "cell_type": "markdown",
      "metadata": {
        "id": "V2cveZjr1ISj"
      },
      "source": [
        "#Project 5: Interpolation\n",
        "\n",
        "$Ankit Rijal$\n",
        "\n",
        "$Min Sun Kim$\n",
        "\n",
        "$Tylar Gifford$\n",
        "\n",
        "$CPSMA - 441301$\n",
        "\n",
        "$Dr. Nicolas Jacob$"
      ]
    },
    {
      "cell_type": "markdown",
      "metadata": {
        "id": "z2_UxoLb0S51"
      },
      "source": [
        "First, I am going to import Gauss-Jordan algorithm from our previous project. "
      ]
    },
    {
      "cell_type": "code",
      "metadata": {
        "id": "wyY3eiYjzd9J"
      },
      "source": [
        "#importing necessary modules\r\n",
        "import math\r\n",
        "import numpy as np\r\n",
        "\r\n",
        "def swap(matrix, row1, row2):\r\n",
        "  swapped_matrix = []\r\n",
        "  size = len(matrix)      #to find the size of a matrix\r\n",
        "  for i in range(size):   #using loop to go through each row\r\n",
        "    if i == row1:\r\n",
        "      swapped_matrix.append(matrix[row2,:])   \r\n",
        "    elif i == row2:\r\n",
        "      swapped_matrix.append(matrix[row1,:])\r\n",
        "    else:\r\n",
        "      swapped_matrix.append(matrix[i,:])\r\n",
        "  return np.array(swapped_matrix)\r\n",
        "\r\n",
        "\r\n",
        "def add_rows(matrix, target_row, adding_row, multiplier):\r\n",
        "  added_matrix = []\r\n",
        "  size = len(matrix)\r\n",
        "  for i in range(size):   #using loop to go through each row\r\n",
        "    if i == target_row:\r\n",
        "      old_row = matrix[target_row,:]\r\n",
        "      adding_values = multiplier * matrix[adding_row,:]\r\n",
        "      new_row = old_row + adding_values\r\n",
        "      added_matrix.append(new_row)\r\n",
        "    else:\r\n",
        "      added_matrix.append(matrix[i,:])\r\n",
        "  return np.array(added_matrix)\r\n",
        "\r\n",
        "def multiply(matrix, target_row, constant):\r\n",
        "  new_matrix = []\r\n",
        "  size = len(matrix)\r\n",
        "  for i in range(size):   #using loop to go through each row\r\n",
        "    if i == target_row:\r\n",
        "      new_matrix.append(constant * matrix[target_row,:])\r\n",
        "    else:\r\n",
        "      new_matrix.append(matrix[i,:])\r\n",
        "  return np.array(new_matrix)\r\n",
        "\r\n",
        "def max_value_row(matrix, column):\r\n",
        "  col = matrix[column:,column]\r\n",
        "  max = 0\r\n",
        "  for i in range(len(col)):\r\n",
        "    if col[max] < col[i]:\r\n",
        "      max = i\r\n",
        "  max_row = max + column\r\n",
        "  return max_row\r\n",
        "\r\n",
        "def gaussJordan(matrix):\r\n",
        "  for i in range(len(matrix)):  #using loop to go through each row\r\n",
        "    pos = max_value_row(matrix, i)  #using max_value_row function to find the row with largest leftmost value   \r\n",
        "    matrix = swap(matrix, pos, i)   #swapping current row with row found on previous step   \r\n",
        "    constant = 1/matrix[i,i]        \r\n",
        "    matrix = multiply(matrix,i,constant)  #using multiply function to make the diagonal 1\r\n",
        "    for column in range(0,i):             \r\n",
        "      matrix = add_rows(matrix,column,i,-matrix[column,i])    #using add_rows function to make all values except diagonal 0\r\n",
        "    for column in range(i+1,len(matrix)):\r\n",
        "      matrix = add_rows(matrix,column,i,-matrix[column,i])    #using add_rows function to make all values except diagonal 0\r\n",
        "  return np.array(matrix)"
      ],
      "execution_count": null,
      "outputs": []
    },
    {
      "cell_type": "markdown",
      "metadata": {
        "id": "Ovaiolkk0i8r"
      },
      "source": [
        "##Direct Method\r\n",
        "\r\n",
        "Function used: \r\n",
        "$$\r\n",
        "2x^3+3x^2-4x+10\r\n",
        "$$"
      ]
    },
    {
      "cell_type": "markdown",
      "metadata": {
        "id": "8fr9IvmP26_y"
      },
      "source": [
        "Now, I am going to list some functions for direct method of interpolation. "
      ]
    },
    {
      "cell_type": "code",
      "metadata": {
        "id": "I_89wK9K0k0F"
      },
      "source": [
        "def createRow(input,output,order):\r\n",
        "  array = []\r\n",
        "  for i in range(order+1):\r\n",
        "    array.append(input**i)\r\n",
        "  array.append(output)\r\n",
        "  return array\r\n",
        "\r\n",
        "def augmented_matrix(data):\r\n",
        "  matrix = []\r\n",
        "  order = len(data)-1\r\n",
        "  for i in range(len(data)):\r\n",
        "    matrix.append(createRow(data[i][0],data[i][1],order))\r\n",
        "  return np.array(matrix)\r\n"
      ],
      "execution_count": null,
      "outputs": []
    },
    {
      "cell_type": "code",
      "metadata": {
        "id": "S-9k539j4MjK"
      },
      "source": [
        "def direct_interpolation(data):\r\n",
        "  answer = gaussJordan(augmented_matrix(data))[:,-1]\r\n",
        "  end = -len(answer)-1\r\n",
        "  degree = len(answer)-1\r\n",
        "  function = ''\r\n",
        "  super_map = {\"0\": \"⁰\", \"1\": \"¹\", \"2\": \"²\", \"3\": \"³\", \"4\": \"⁴\", \"5\": \"⁵\", \"6\": \"⁶\", \"7\": \"⁷\", \"8\": \"⁸\", \"9\": \"⁹\"}\r\n",
        "\r\n",
        "  for i in range(-1,end,-1):\r\n",
        "    power = super_map.get(str(degree))\r\n",
        "    function += f\"+ ({(answer[i])})x{power} \"\r\n",
        "    degree -= 1\r\n",
        "\r\n",
        "  print(\"The function is:\")\r\n",
        "  print(function)\r\n"
      ],
      "execution_count": null,
      "outputs": []
    },
    {
      "cell_type": "code",
      "metadata": {
        "colab": {
          "base_uri": "https://localhost:8080/"
        },
        "id": "ooyK0LZWHTge",
        "outputId": "3d13b56a-893a-430d-9002-1aaab1e51c64"
      },
      "source": [
        "data =[[0,10],[1,11],[2,30],[3,79],[4,170]]\r\n",
        "direct_interpolation(data)"
      ],
      "execution_count": null,
      "outputs": [
        {
          "output_type": "stream",
          "text": [
            "The function is:\n",
            "+ (0.0)x⁴ + (2.0)x³ + (3.0)x² + (-4.0)x¹ + (10.0)x⁰ \n"
          ],
          "name": "stdout"
        }
      ]
    },
    {
      "cell_type": "code",
      "metadata": {
        "id": "JRjNVg3FFznW"
      },
      "source": [
        "def direct_spline(data, x_value):\r\n",
        "  coefficient = gaussJordan(augmented_matrix(data))[:,-1]\r\n",
        "  answer = 0\r\n",
        "  for i in range(len(coefficient)):\r\n",
        "    value = coefficient[i]*(x_value)**i\r\n",
        "    answer += value\r\n",
        "  return answer"
      ],
      "execution_count": null,
      "outputs": []
    },
    {
      "cell_type": "code",
      "metadata": {
        "colab": {
          "base_uri": "https://localhost:8080/"
        },
        "id": "jJC4zGngIjBg",
        "outputId": "4f535dec-fda2-4d60-e3dd-3ebdf94bce29"
      },
      "source": [
        "direct_spline(data, 3)"
      ],
      "execution_count": null,
      "outputs": [
        {
          "output_type": "execute_result",
          "data": {
            "text/plain": [
              "79.0"
            ]
          },
          "metadata": {
            "tags": []
          },
          "execution_count": 51
        }
      ]
    },
    {
      "cell_type": "code",
      "metadata": {
        "id": "Ydgr-wG2ZFoN",
        "colab": {
          "base_uri": "https://localhost:8080/",
          "height": 298
        },
        "outputId": "21f45789-5222-4ce9-da98-7a99b7d35412"
      },
      "source": [
        "from matplotlib import pyplot as plot\r\n",
        "\r\n",
        "import numpy as npy\r\n",
        "\r\n",
        "x = npy.arange( -4,4.5,.1)\r\n",
        "\r\n",
        "fig, ax = plot.subplots()\r\n",
        "\r\n",
        "ax.plot(x, direct_spline(data, x), label='DS')\r\n",
        "\r\n",
        "ax.scatter(npy.array(data)[:,0],npy.array(data)[:,1])\r\n",
        "\r\n",
        "ax.legend([\"Direct Spline\", \"Data Points\"])\r\n",
        "\r\n",
        "ax.set_title('Direct_spline Graph')"
      ],
      "execution_count": null,
      "outputs": [
        {
          "output_type": "execute_result",
          "data": {
            "text/plain": [
              "Text(0.5, 1.0, 'Direct_spline Graph')"
            ]
          },
          "metadata": {
            "tags": []
          },
          "execution_count": 75
        },
        {
          "output_type": "display_data",
          "data": {
            "image/png": "[encoded data removed]",
            "text/plain": [
              "<Figure size 432x288 with 1 Axes>"
            ]
          },
          "metadata": {
            "tags": [],
            "needs_background": "light"
          }
        }
      ]
    },
    {
      "cell_type": "markdown",
      "metadata": {
        "id": "RVAEZuxDI2f4"
      },
      "source": [
        "###Linear Splines\n",
        "\n",
        "Splines are the piecewise functions of interpolation and the linear splines represent a set of line segments between the two adjacent data points. "
      ]
    },
    {
      "cell_type": "code",
      "metadata": {
        "id": "Tq0YEvlNJrUA"
      },
      "source": [
        "import numpy as np\r\n",
        "import math\r\n",
        "\r\n",
        "def even_interval(function,lower,upper,numberOfDivisions):\r\n",
        "  interval = (upper - lower)/(numberOfDivisions - 1)\r\n",
        "  points = []\r\n",
        "  for i in range(numberOfDivisions):\r\n",
        "    x_value = lower + i*interval\r\n",
        "    points.append([x_value,function(x_value)])\r\n",
        "  return np.array(points)\r\n",
        "\r\n",
        "def slope(init_point, final_point):\r\n",
        "  return (final_point[1]-init_point[1])/(final_point[0]-init_point[0])"
      ],
      "execution_count": null,
      "outputs": []
    },
    {
      "cell_type": "code",
      "metadata": {
        "id": "PYAAvo1kNHnP"
      },
      "source": [
        "def linerSpline(points,input):\r\n",
        "  x = points[:,0]\r\n",
        "  y = points[:,1]\r\n",
        "  for i in range(len(x)-1):\r\n",
        "    if (x[i]< input) & (input < x[i+1]):\r\n",
        "      return y[i]+ slope(points[i,:],points[i+1,:])*(input - x[i])\r\n",
        "    else:\r\n",
        "      continue"
      ],
      "execution_count": null,
      "outputs": []
    },
    {
      "cell_type": "code",
      "metadata": {
        "colab": {
          "base_uri": "https://localhost:8080/",
          "height": 195
        },
        "id": "NlTwJdUKNR3f",
        "outputId": "8dfc2a9e-758e-47d1-af7a-5ee2296a5473"
      },
      "source": [
        "points = divideIntervalEvenly(np.cos,0,np.pi,5)\r\n",
        "\r\n",
        "linerSpline(points,1)"
      ],
      "execution_count": null,
      "outputs": [
        {
          "output_type": "error",
          "ename": "NameError",
          "evalue": "ignored",
          "traceback": [
            "\u001b[0;31m---------------------------------------------------------------------------\u001b[0m",
            "\u001b[0;31mNameError\u001b[0m                                 Traceback (most recent call last)",
            "\u001b[0;32m<ipython-input-57-4fbce358e099>\u001b[0m in \u001b[0;36m<module>\u001b[0;34m()\u001b[0m\n\u001b[0;32m----> 1\u001b[0;31m \u001b[0mpoints\u001b[0m \u001b[0;34m=\u001b[0m \u001b[0mdivideIntervalEvenly\u001b[0m\u001b[0;34m(\u001b[0m\u001b[0mnp\u001b[0m\u001b[0;34m.\u001b[0m\u001b[0mcos\u001b[0m\u001b[0;34m,\u001b[0m\u001b[0;36m0\u001b[0m\u001b[0;34m,\u001b[0m\u001b[0mnp\u001b[0m\u001b[0;34m.\u001b[0m\u001b[0mpi\u001b[0m\u001b[0;34m,\u001b[0m\u001b[0;36m5\u001b[0m\u001b[0;34m)\u001b[0m\u001b[0;34m\u001b[0m\u001b[0;34m\u001b[0m\u001b[0m\n\u001b[0m\u001b[1;32m      2\u001b[0m \u001b[0;34m\u001b[0m\u001b[0m\n\u001b[1;32m      3\u001b[0m \u001b[0mlinerSpline\u001b[0m\u001b[0;34m(\u001b[0m\u001b[0mpoints\u001b[0m\u001b[0;34m,\u001b[0m\u001b[0;36m1\u001b[0m\u001b[0;34m)\u001b[0m\u001b[0;34m\u001b[0m\u001b[0;34m\u001b[0m\u001b[0m\n",
            "\u001b[0;31mNameError\u001b[0m: name 'divideIntervalEvenly' is not defined"
          ]
        }
      ]
    }
  ]
}
