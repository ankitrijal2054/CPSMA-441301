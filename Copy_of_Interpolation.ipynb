{
  "nbformat": 4,
  "nbformat_minor": 0,
  "metadata": {
    "colab": {
      "name": "Interpolation.ipynb",
      "provenance": [],
      "include_colab_link": true
    },
    "kernelspec": {
      "name": "python3",
      "display_name": "Python 3"
    }
  },
  "cells": [
    {
      "cell_type": "markdown",
      "metadata": {
        "id": "view-in-github",
        "colab_type": "text"
      },
      "source": [
        "<a href=\"https://colab.research.google.com/github/ankitrijal2054/CPSMA-441301/blob/main/Copy_of_Interpolation.ipynb\" target=\"_parent\"><img src=\"https://colab.research.google.com/assets/colab-badge.svg\" alt=\"Open In Colab\"/></a>"
      ]
    },
    {
      "cell_type": "markdown",
      "metadata": {
        "id": "V2cveZjr1ISj"
      },
      "source": [
        "#Project 5: Interpolation\n",
        "\n",
        "$Ankit Rijal$\n",
        "\n",
        "$Min Sun Kim$\n",
        "\n",
        "$Tylar Gifford$\n",
        "\n",
        "$CPSMA - 441301$\n",
        "\n",
        "$Dr. Nicolas Jacob$"
      ]
    },
    {
      "cell_type": "markdown",
      "metadata": {
        "id": "z2_UxoLb0S51"
      },
      "source": [
        "First, I am going to import Gauss-Jordan algorithm from our previous project. "
      ]
    },
    {
      "cell_type": "code",
      "metadata": {
        "id": "wyY3eiYjzd9J"
      },
      "source": [
        "#importing necessary modules\r\n",
        "import math\r\n",
        "import numpy as np\r\n",
        "import scipy.linalg as la\r\n",
        "\r\n",
        "def swap(matrix, row1, row2):\r\n",
        "  swapped_matrix = []\r\n",
        "  size = len(matrix)      #to find the size of a matrix\r\n",
        "  for i in range(size):   #using loop to go through each row\r\n",
        "    if i == row1:\r\n",
        "      swapped_matrix.append(matrix[row2,:])   \r\n",
        "    elif i == row2:\r\n",
        "      swapped_matrix.append(matrix[row1,:])\r\n",
        "    else:\r\n",
        "      swapped_matrix.append(matrix[i,:])\r\n",
        "  return np.array(swapped_matrix)\r\n",
        "\r\n",
        "\r\n",
        "def add_rows(matrix, target_row, adding_row, multiplier):\r\n",
        "  added_matrix = []\r\n",
        "  size = len(matrix)\r\n",
        "  for i in range(size):   #using loop to go through each row\r\n",
        "    if i == target_row:\r\n",
        "      old_row = matrix[target_row,:]\r\n",
        "      adding_values = multiplier * matrix[adding_row,:]\r\n",
        "      new_row = old_row + adding_values\r\n",
        "      added_matrix.append(new_row)\r\n",
        "    else:\r\n",
        "      added_matrix.append(matrix[i,:])\r\n",
        "  return np.array(added_matrix)\r\n",
        "\r\n",
        "def multiply(matrix, target_row, constant):\r\n",
        "  new_matrix = []\r\n",
        "  size = len(matrix)\r\n",
        "  for i in range(size):   #using loop to go through each row\r\n",
        "    if i == target_row:\r\n",
        "      new_matrix.append(constant * matrix[target_row,:])\r\n",
        "    else:\r\n",
        "      new_matrix.append(matrix[i,:])\r\n",
        "  return np.array(new_matrix)\r\n",
        "\r\n",
        "def max_value_row(matrix, column):\r\n",
        "  col = matrix[column:,column]\r\n",
        "  max = 0\r\n",
        "  for i in range(len(col)):\r\n",
        "    if col[max] < col[i]:\r\n",
        "      max = i\r\n",
        "  max_row = max + column\r\n",
        "  return max_row\r\n",
        "\r\n",
        "def gaussJordan(matrix):\r\n",
        "  for i in range(len(matrix)):  #using loop to go through each row\r\n",
        "    pos = max_value_row(matrix, i)  #using max_value_row function to find the row with largest leftmost value   \r\n",
        "    matrix = swap(matrix, pos, i)   #swapping current row with row found on previous step   \r\n",
        "    constant = 1/matrix[i,i]        \r\n",
        "    matrix = multiply(matrix,i,constant)  #using multiply function to make the diagonal 1\r\n",
        "    for column in range(0,i):             \r\n",
        "      matrix = add_rows(matrix,column,i,-matrix[column,i])    #using add_rows function to make all values except diagonal 0\r\n",
        "    for column in range(i+1,len(matrix)):\r\n",
        "      matrix = add_rows(matrix,column,i,-matrix[column,i])    #using add_rows function to make all values except diagonal 0\r\n",
        "  return np.array(matrix)"
      ],
      "execution_count": 135,
      "outputs": []
    },
    {
      "cell_type": "markdown",
      "metadata": {
        "id": "Ovaiolkk0i8r"
      },
      "source": [
        "##Direct Method\r\n",
        "Direct Method can be used to find the interpolation of the given points. The polynomial function on those points is denoted by the form:\r\n",
        "$$\r\n",
        "f(x) = a_0+a_1x+a_2x^2+\\cdots + a_n x^n\r\n",
        "$$\r\n",
        "\r\n",
        "Let's assume, the passing points on the function is $(x_0,y_0)$. Substituting the points on the function, our function will be:\r\n",
        "\r\n",
        "$$\r\n",
        "a_0+a_1x_0+a_2 x_0^2+\\cdots +a_n x_0^n = y_0\r\n",
        "$$\r\n",
        "\r\n",
        "\r\n",
        "Lets arrange them in matrix in order to apply the gaussian elimination.\r\n",
        "\r\n",
        "$$\r\n",
        "\\left[\r\n",
        "\\begin{array}{ccccc|c}\r\n",
        "1&x_0&x_0^2&\\cdots&x_0^n&y_0\\\\\r\n",
        "\\vdots&&\\ddots&&\\vdots\\\\\r\n",
        "1&x_{n-1}&x_{n-1}^2&\\dots& x_{n-1}^n&y_{n-1}\r\n",
        "\\end{array}\r\n",
        "\\right]\r\n",
        "$$\r\n",
        "Now we can use the Gaussian Elimination method on the above matrix to solve the function.\r\n",
        "\r\n",
        "##Function used: \r\n",
        "We are going to use the function below for our demonstration.\r\n",
        "$$\r\n",
        "2x^3+3x^2-4x+10\r\n",
        "$$\r\n",
        "We solved the above equation as x = 0,1,2,3 and 4. So, out data set will be\r\n",
        "$$\r\n",
        "[[0,10],[1,11],[2,30],[3,79],[4,170]]\r\n",
        "$$"
      ]
    },
    {
      "cell_type": "code",
      "metadata": {
        "id": "MtelfkoWQ5wY"
      },
      "source": [
        "data =[[0,10],[1,11],[2,30],[3,79],[4,170]]"
      ],
      "execution_count": 136,
      "outputs": []
    },
    {
      "cell_type": "markdown",
      "metadata": {
        "id": "8fr9IvmP26_y"
      },
      "source": [
        "Now, I am going to list some functions for direct method of interpolation. "
      ]
    },
    {
      "cell_type": "code",
      "metadata": {
        "id": "I_89wK9K0k0F"
      },
      "source": [
        "def createRow(input,output,order): #function to create a row using each data points and order of polynomial\r\n",
        "  array = []\r\n",
        "  for i in range(order+1):\r\n",
        "    array.append(input**i)\r\n",
        "  array.append(output)\r\n",
        "  return array\r\n",
        "\r\n",
        "def create_matrix(data): #function to create a matrix using all the row created from each data points\r\n",
        "  matrix = []\r\n",
        "  order = len(data)-1\r\n",
        "  for i in range(len(data)):\r\n",
        "    matrix.append(createRow(data[i][0],data[i][1],order))\r\n",
        "  return np.array(matrix)\r\n"
      ],
      "execution_count": 137,
      "outputs": []
    },
    {
      "cell_type": "code",
      "metadata": {
        "id": "S-9k539j4MjK"
      },
      "source": [
        "def direct_interpolation(data):\r\n",
        "  answer = gaussJordan(create_matrix(data))[:,-1] #gives the last column of the matrix returned by gauss jordan method\r\n",
        "  end = -len(answer)-1\r\n",
        "  degree = len(answer)-1\r\n",
        "  function = ''\r\n",
        "  super_map = {\"0\": \"⁰\", \"1\": \"¹\", \"2\": \"²\", \"3\": \"³\", \"4\": \"⁴\", \"5\": \"⁵\", \"6\": \"⁶\", \"7\": \"⁷\", \"8\": \"⁸\", \"9\": \"⁹\"}   #superscript to use while displaying our function to make it look nice\r\n",
        "\r\n",
        "  for i in range(-1,end,-1):    #loop to use all the cofficient to make a polynomial function\r\n",
        "    power = super_map.get(str(degree))\r\n",
        "    function += f\"+ ({(answer[i])})x{power} \"\r\n",
        "    degree -= 1\r\n",
        "\r\n",
        "  print(\"The function is:\")\r\n",
        "  print(function)\r\n"
      ],
      "execution_count": 138,
      "outputs": []
    },
    {
      "cell_type": "markdown",
      "metadata": {
        "id": "4wT7g1WOTEmq"
      },
      "source": [
        "Now, lets use the function to find the polynimial passing through our data points."
      ]
    },
    {
      "cell_type": "code",
      "metadata": {
        "colab": {
          "base_uri": "https://localhost:8080/"
        },
        "id": "ooyK0LZWHTge",
        "outputId": "5596372d-e4d9-4731-cc23-8bd932e60cd9"
      },
      "source": [
        "direct_interpolation(data)"
      ],
      "execution_count": 139,
      "outputs": [
        {
          "output_type": "stream",
          "text": [
            "The function is:\n",
            "+ (0.0)x⁴ + (2.0)x³ + (3.0)x² + (-4.0)x¹ + (10.0)x⁰ \n"
          ],
          "name": "stdout"
        }
      ]
    },
    {
      "cell_type": "markdown",
      "metadata": {
        "id": "yAvza11nTjvZ"
      },
      "source": [
        "Lets create a direct spline function to find f(x) for each x value using the given data points."
      ]
    },
    {
      "cell_type": "code",
      "metadata": {
        "id": "JRjNVg3FFznW"
      },
      "source": [
        "def direct_spline(data, x_value): #function to find f(x) for each x using only the data points.\r\n",
        "  coefficient = gaussJordan(create_matrix(data))[:,-1]\r\n",
        "  answer = 0\r\n",
        "  for i in range(len(coefficient)):\r\n",
        "    value = coefficient[i]*(x_value)**i\r\n",
        "    answer += value\r\n",
        "  return answer"
      ],
      "execution_count": 140,
      "outputs": []
    },
    {
      "cell_type": "code",
      "metadata": {
        "colab": {
          "base_uri": "https://localhost:8080/"
        },
        "id": "jJC4zGngIjBg",
        "outputId": "67f24159-328b-4e7f-a6fa-6feebc5ecda7"
      },
      "source": [
        "direct_spline(data, 3)"
      ],
      "execution_count": 141,
      "outputs": [
        {
          "output_type": "execute_result",
          "data": {
            "text/plain": [
              "79.0"
            ]
          },
          "metadata": {
            "tags": []
          },
          "execution_count": 141
        }
      ]
    },
    {
      "cell_type": "code",
      "metadata": {
        "id": "Ydgr-wG2ZFoN",
        "colab": {
          "base_uri": "https://localhost:8080/",
          "height": 298
        },
        "outputId": "1cf351fe-072c-446d-b65f-e43b7fe9552c"
      },
      "source": [
        "from matplotlib import pyplot as plot\r\n",
        "\r\n",
        "import numpy as npy\r\n",
        "\r\n",
        "x = npy.arange( -4,4.5,.1)\r\n",
        "\r\n",
        "fig, ax = plot.subplots()\r\n",
        "\r\n",
        "ax.plot(x, direct_spline(data, x), label='DS')\r\n",
        "\r\n",
        "ax.scatter(npy.array(data)[:,0],npy.array(data)[:,1])\r\n",
        "\r\n",
        "ax.legend([\"Direct Spline\", \"Data Points\"])\r\n",
        "\r\n",
        "ax.set_title('Direct_spline Graph')"
      ],
      "execution_count": 142,
      "outputs": [
        {
          "output_type": "execute_result",
          "data": {
            "text/plain": [
              "Text(0.5, 1.0, 'Direct_spline Graph')"
            ]
          },
          "metadata": {
            "tags": []
          },
          "execution_count": 142
        },
        {
          "output_type": "display_data",
          "data": {
            "image/png": "[encoded data removed]",
            "text/plain": [
              "<Figure size 432x288 with 1 Axes>"
            ]
          },
          "metadata": {
            "tags": [],
            "needs_background": "light"
          }
        }
      ]
    },
    {
      "cell_type": "markdown",
      "metadata": {
        "id": "RVAEZuxDI2f4"
      },
      "source": [
        "###Linear Splines\n",
        "\n",
        "Splines are the piecewise functions of interpolation and the linear splines represent a set of line segments between the two adjacent data points.\n",
        "So, to find a linear spline, first we need to divide the limit of polynomial into equal interval.\n",
        "$$\n",
        "$$\n",
        "Let's create a function to create a equal interval points. "
      ]
    },
    {
      "cell_type": "code",
      "metadata": {
        "id": "Tq0YEvlNJrUA"
      },
      "source": [
        "import numpy as np\r\n",
        "import math\r\n",
        "\r\n",
        "def even_interval(function,lower,upper,numberOfDivisions): #function to divide the limit into equal interval\r\n",
        "  interval = (upper - lower)/(numberOfDivisions - 1)\r\n",
        "  points = []\r\n",
        "  for i in range(numberOfDivisions):\r\n",
        "    x_value = lower + i*interval\r\n",
        "    points.append([x_value,function(x_value)])\r\n",
        "  return np.array(points)\r\n",
        "\r\n",
        "def slope(init_point, final_point): #function to calculate slope\r\n",
        "  return (final_point[1]-init_point[1])/(final_point[0]-init_point[0])"
      ],
      "execution_count": 143,
      "outputs": []
    },
    {
      "cell_type": "markdown",
      "metadata": {
        "id": "CI68EY_FklEQ"
      },
      "source": [
        "Now, let's make a function to calculate linear spline using above function."
      ]
    },
    {
      "cell_type": "code",
      "metadata": {
        "id": "PYAAvo1kNHnP"
      },
      "source": [
        "def linerSpline(points,input):\r\n",
        "  x = points[:,0]\r\n",
        "  y = points[:,1]\r\n",
        "  for i in range(len(x)-1):\r\n",
        "    if (x[i]< input) & (input < x[i+1]):\r\n",
        "      return y[i]+ slope(points[i,:],points[i+1,:])*(input - x[i])\r\n",
        "    else:\r\n",
        "      continue"
      ],
      "execution_count": 144,
      "outputs": []
    },
    {
      "cell_type": "code",
      "metadata": {
        "colab": {
          "base_uri": "https://localhost:8080/"
        },
        "id": "NlTwJdUKNR3f",
        "outputId": "b1acb985-e85a-465c-ab36-2b646dcccab7"
      },
      "source": [
        "points = even_interval(np.cos,0,2*np.pi,5)\r\n",
        "\r\n",
        "linerSpline(points,1)"
      ],
      "execution_count": 145,
      "outputs": [
        {
          "output_type": "execute_result",
          "data": {
            "text/plain": [
              "0.36338022763241873"
            ]
          },
          "metadata": {
            "tags": []
          },
          "execution_count": 145
        }
      ]
    },
    {
      "cell_type": "markdown",
      "metadata": {
        "id": "y6MzL9A3k6sv"
      },
      "source": [
        "Let's create a graph of the function and linear spline using the five points we used above."
      ]
    },
    {
      "cell_type": "code",
      "metadata": {
        "id": "ECQYeLkVUBvV"
      },
      "source": [
        "x = np.arange(0,6.35,0.1)\r\n",
        "y = [linerSpline(points,x) for x in x]"
      ],
      "execution_count": 146,
      "outputs": []
    },
    {
      "cell_type": "code",
      "metadata": {
        "id": "O84q5NDuUGPS",
        "outputId": "92607411-eb06-415d-8117-507f12ccfe68",
        "colab": {
          "base_uri": "https://localhost:8080/",
          "height": 281
        }
      },
      "source": [
        "plot.scatter(points[:,0],points[:,1])\r\n",
        "plot.plot(x,y)\r\n",
        "plot.plot(x, np.cos(x))\r\n",
        "plot.title('Graph of Linear Spline with 5 Points')\r\n",
        "plot.legend(['Spline','Cosine'])\r\n",
        "\r\n",
        "\r\n",
        "plot.show()"
      ],
      "execution_count": 147,
      "outputs": [
        {
          "output_type": "display_data",
          "data": {
            "image/png": "[encoded data removed]",
            "text/plain": [
              "<Figure size 432x288 with 1 Axes>"
            ]
          },
          "metadata": {
            "tags": [],
            "needs_background": "light"
          }
        }
      ]
    },
    {
      "cell_type": "markdown",
      "metadata": {
        "id": "sbtL5hoQldcj"
      },
      "source": [
        "Now, let's try to create a similar graph but insted of 5 points, lets use 20 points. "
      ]
    },
    {
      "cell_type": "code",
      "metadata": {
        "id": "MJbrFdxYUISy",
        "outputId": "42118c08-a577-4f69-ed83-716fdb422d08",
        "colab": {
          "base_uri": "https://localhost:8080/",
          "height": 281
        }
      },
      "source": [
        "twentypoints = even_interval(np.cos,0,2*np.pi,20)\r\n",
        "x = np.arange(0,6.35,0.1)\r\n",
        "y = [linerSpline(twentypoints,x) for x in x]\r\n",
        "plot.scatter(twentypoints[:,0],twentypoints[:,1])\r\n",
        "plot.plot(x,y)\r\n",
        "plot.plot(x, np.cos(x))\r\n",
        "plot.title('Graph of Linear Spline with 20 Points')\r\n",
        "plot.legend(['Spline','Cosine'])\r\n",
        "\r\n",
        "\r\n",
        "plot.show()"
      ],
      "execution_count": 148,
      "outputs": [
        {
          "output_type": "display_data",
          "data": {
            "image/png": "[encoded data removed]",
            "text/plain": [
              "<Figure size 432x288 with 1 Axes>"
            ]
          },
          "metadata": {
            "tags": [],
            "needs_background": "light"
          }
        }
      ]
    },
    {
      "cell_type": "markdown",
      "metadata": {
        "id": "wN1Ta1Ekl0RV"
      },
      "source": [
        "Looking at the graph, we can conclude that the accuracy of linear spline graph increase as we increase the number of interval between the point"
      ]
    },
    {
      "cell_type": "markdown",
      "metadata": {
        "id": "wvlEUTFxnWds"
      },
      "source": [
        "Now let's graph the direct spline with those 20 points and this time let's increase the windows of the graph. "
      ]
    },
    {
      "cell_type": "code",
      "metadata": {
        "id": "fDh-UeilUKbY",
        "outputId": "a55f24af-54d3-40c3-dd97-422b1c432a2f",
        "colab": {
          "base_uri": "https://localhost:8080/",
          "height": 298
        }
      },
      "source": [
        "x = np.arange(-4.5,10.5,0.1)\r\n",
        "\r\n",
        "plot.scatter(twentypoints[:,0],twentypoints[:,1])\r\n",
        "plot.plot(x,direct_spline(twentypoints,x))\r\n",
        "plot.plot(x, np.cos(x))\r\n",
        "plot.title('Graph of Direct Interpolation with 20 Points')\r\n",
        "plot.legend(['Direct Interploation','Cosine'])"
      ],
      "execution_count": 149,
      "outputs": [
        {
          "output_type": "execute_result",
          "data": {
            "text/plain": [
              "<matplotlib.legend.Legend at 0x7f92f2ba70f0>"
            ]
          },
          "metadata": {
            "tags": []
          },
          "execution_count": 149
        },
        {
          "output_type": "display_data",
          "data": {
            "image/png": "[encoded data removed]",
            "text/plain": [
              "<Figure size 432x288 with 1 Axes>"
            ]
          },
          "metadata": {
            "tags": [],
            "needs_background": "light"
          }
        }
      ]
    },
    {
      "cell_type": "markdown",
      "metadata": {
        "id": "y9DB5WWjnTmE"
      },
      "source": [
        "As we can see on the graph above, the graph of direct interpolation starts to deviate from the graph of function as we extend the window of the graph."
      ]
    }
  ]
}