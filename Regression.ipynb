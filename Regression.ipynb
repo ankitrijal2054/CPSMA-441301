{
  "nbformat": 4,
  "nbformat_minor": 0,
  "metadata": {
    "colab": {
      "name": "Regression.ipynb",
      "provenance": [],
      "collapsed_sections": [],
      "include_colab_link": true
    },
    "kernelspec": {
      "name": "python3",
      "display_name": "Python 3"
    }
  },
  "cells": [
    {
      "cell_type": "markdown",
      "metadata": {
        "id": "view-in-github",
        "colab_type": "text"
      },
      "source": [
        "<a href=\"https://colab.research.google.com/github/ankitrijal2054/CPSMA-441301/blob/main/Regression.ipynb\" target=\"_parent\"><img src=\"https://colab.research.google.com/assets/colab-badge.svg\" alt=\"Open In Colab\"/></a>"
      ]
    },
    {
      "cell_type": "markdown",
      "metadata": {
        "id": "PuueualS2Lz1"
      },
      "source": [
        "#Project Module 6: Regression\n",
        "\n",
        "$Ankit Rijal$\n",
        "\n",
        "$Min Sun Kim$\n",
        "\n",
        "$Tylar Gifford$\n",
        "\n",
        "$CPSMA - 441301$\n",
        "\n",
        "$Dr. Nicolas Jacob$"
      ]
    },
    {
      "cell_type": "markdown",
      "metadata": {
        "id": "b8Nw-Uli2rRJ"
      },
      "source": [
        "\n",
        "First, I am going to import the necessary package below. "
      ]
    },
    {
      "cell_type": "code",
      "metadata": {
        "id": "xm-TmwkjZnR9"
      },
      "source": [
        "import numpy as np\r\n",
        "from scipy import stats\r\n",
        "import matplotlib.pyplot as plt\r\n",
        "import pandas as pa\r\n",
        "\r\n",
        "%matplotlib inline"
      ],
      "execution_count": null,
      "outputs": []
    },
    {
      "cell_type": "markdown",
      "metadata": {
        "id": "5PztQNThhgqy"
      },
      "source": [
        "Let's get the raw data using panda function."
      ]
    },
    {
      "cell_type": "code",
      "metadata": {
        "id": "Yi_5sUgHfy3a"
      },
      "source": [
        "data = pa.read_csv('https://raw.githubusercontent.com/nurfnick/Applied_Stats_Jupyter_Notebooks/master/student.csv')"
      ],
      "execution_count": null,
      "outputs": []
    },
    {
      "cell_type": "markdown",
      "metadata": {
        "id": "Zy7Tfag4ha10"
      },
      "source": [
        "Let's look at our data."
      ]
    },
    {
      "cell_type": "code",
      "metadata": {
        "colab": {
          "base_uri": "https://localhost:8080/",
          "height": 419
        },
        "id": "WbN3Ayaag0lC",
        "outputId": "8860510e-54b3-4ab2-edd3-29c1376f193f"
      },
      "source": [
        "data"
      ],
      "execution_count": null,
      "outputs": [
        {
          "output_type": "execute_result",
          "data": {
            "text/html": [
              "<div>\n",
              "<style scoped>\n",
              "    .dataframe tbody tr th:only-of-type {\n",
              "        vertical-align: middle;\n",
              "    }\n",
              "\n",
              "    .dataframe tbody tr th {\n",
              "        vertical-align: top;\n",
              "    }\n",
              "\n",
              "    .dataframe thead th {\n",
              "        text-align: right;\n",
              "    }\n",
              "</style>\n",
              "<table border=\"1\" class=\"dataframe\">\n",
              "  <thead>\n",
              "    <tr style=\"text-align: right;\">\n",
              "      <th></th>\n",
              "      <th>Year</th>\n",
              "      <th>Gender</th>\n",
              "      <th>Smoke</th>\n",
              "      <th>Award</th>\n",
              "      <th>HigherSAT</th>\n",
              "      <th>Exercise</th>\n",
              "      <th>TV</th>\n",
              "      <th>Height</th>\n",
              "      <th>Weight</th>\n",
              "      <th>Siblings</th>\n",
              "      <th>BirthOrder</th>\n",
              "      <th>VerbalSAT</th>\n",
              "      <th>MathSAT</th>\n",
              "      <th>SAT</th>\n",
              "      <th>GPA</th>\n",
              "      <th>Pulse</th>\n",
              "      <th>Piercings</th>\n",
              "    </tr>\n",
              "  </thead>\n",
              "  <tbody>\n",
              "    <tr>\n",
              "      <th>0</th>\n",
              "      <td>Senior</td>\n",
              "      <td>M</td>\n",
              "      <td>No</td>\n",
              "      <td>Olympic</td>\n",
              "      <td>Math</td>\n",
              "      <td>10.0</td>\n",
              "      <td>1.0</td>\n",
              "      <td>71.0</td>\n",
              "      <td>180.0</td>\n",
              "      <td>4</td>\n",
              "      <td>4.0</td>\n",
              "      <td>540</td>\n",
              "      <td>670</td>\n",
              "      <td>1210</td>\n",
              "      <td>3.13</td>\n",
              "      <td>54</td>\n",
              "      <td>0.0</td>\n",
              "    </tr>\n",
              "    <tr>\n",
              "      <th>1</th>\n",
              "      <td>Sophomore</td>\n",
              "      <td>F</td>\n",
              "      <td>Yes</td>\n",
              "      <td>Academy</td>\n",
              "      <td>Math</td>\n",
              "      <td>4.0</td>\n",
              "      <td>7.0</td>\n",
              "      <td>66.0</td>\n",
              "      <td>120.0</td>\n",
              "      <td>2</td>\n",
              "      <td>2.0</td>\n",
              "      <td>520</td>\n",
              "      <td>630</td>\n",
              "      <td>1150</td>\n",
              "      <td>2.50</td>\n",
              "      <td>66</td>\n",
              "      <td>3.0</td>\n",
              "    </tr>\n",
              "    <tr>\n",
              "      <th>2</th>\n",
              "      <td>FirstYear</td>\n",
              "      <td>M</td>\n",
              "      <td>No</td>\n",
              "      <td>Nobel</td>\n",
              "      <td>Math</td>\n",
              "      <td>14.0</td>\n",
              "      <td>5.0</td>\n",
              "      <td>72.0</td>\n",
              "      <td>208.0</td>\n",
              "      <td>2</td>\n",
              "      <td>1.0</td>\n",
              "      <td>550</td>\n",
              "      <td>560</td>\n",
              "      <td>1110</td>\n",
              "      <td>2.55</td>\n",
              "      <td>130</td>\n",
              "      <td>0.0</td>\n",
              "    </tr>\n",
              "    <tr>\n",
              "      <th>3</th>\n",
              "      <td>Junior</td>\n",
              "      <td>M</td>\n",
              "      <td>No</td>\n",
              "      <td>Nobel</td>\n",
              "      <td>Math</td>\n",
              "      <td>3.0</td>\n",
              "      <td>1.0</td>\n",
              "      <td>63.0</td>\n",
              "      <td>110.0</td>\n",
              "      <td>1</td>\n",
              "      <td>1.0</td>\n",
              "      <td>490</td>\n",
              "      <td>630</td>\n",
              "      <td>1120</td>\n",
              "      <td>3.10</td>\n",
              "      <td>78</td>\n",
              "      <td>0.0</td>\n",
              "    </tr>\n",
              "    <tr>\n",
              "      <th>4</th>\n",
              "      <td>Sophomore</td>\n",
              "      <td>F</td>\n",
              "      <td>No</td>\n",
              "      <td>Nobel</td>\n",
              "      <td>Verbal</td>\n",
              "      <td>3.0</td>\n",
              "      <td>3.0</td>\n",
              "      <td>65.0</td>\n",
              "      <td>150.0</td>\n",
              "      <td>1</td>\n",
              "      <td>1.0</td>\n",
              "      <td>720</td>\n",
              "      <td>450</td>\n",
              "      <td>1170</td>\n",
              "      <td>2.70</td>\n",
              "      <td>40</td>\n",
              "      <td>6.0</td>\n",
              "    </tr>\n",
              "    <tr>\n",
              "      <th>...</th>\n",
              "      <td>...</td>\n",
              "      <td>...</td>\n",
              "      <td>...</td>\n",
              "      <td>...</td>\n",
              "      <td>...</td>\n",
              "      <td>...</td>\n",
              "      <td>...</td>\n",
              "      <td>...</td>\n",
              "      <td>...</td>\n",
              "      <td>...</td>\n",
              "      <td>...</td>\n",
              "      <td>...</td>\n",
              "      <td>...</td>\n",
              "      <td>...</td>\n",
              "      <td>...</td>\n",
              "      <td>...</td>\n",
              "      <td>...</td>\n",
              "    </tr>\n",
              "    <tr>\n",
              "      <th>357</th>\n",
              "      <td>Sophomore</td>\n",
              "      <td>F</td>\n",
              "      <td>Yes</td>\n",
              "      <td>Nobel</td>\n",
              "      <td>Verbal</td>\n",
              "      <td>2.0</td>\n",
              "      <td>0.0</td>\n",
              "      <td>83.0</td>\n",
              "      <td>130.0</td>\n",
              "      <td>1</td>\n",
              "      <td>1.0</td>\n",
              "      <td>550</td>\n",
              "      <td>540</td>\n",
              "      <td>1090</td>\n",
              "      <td>3.44</td>\n",
              "      <td>80</td>\n",
              "      <td>3.0</td>\n",
              "    </tr>\n",
              "    <tr>\n",
              "      <th>358</th>\n",
              "      <td>Sophomore</td>\n",
              "      <td>M</td>\n",
              "      <td>Yes</td>\n",
              "      <td>Olympic</td>\n",
              "      <td>Math</td>\n",
              "      <td>8.0</td>\n",
              "      <td>10.0</td>\n",
              "      <td>61.0</td>\n",
              "      <td>180.0</td>\n",
              "      <td>2</td>\n",
              "      <td>1.0</td>\n",
              "      <td>600</td>\n",
              "      <td>620</td>\n",
              "      <td>1220</td>\n",
              "      <td>3.00</td>\n",
              "      <td>74</td>\n",
              "      <td>0.0</td>\n",
              "    </tr>\n",
              "    <tr>\n",
              "      <th>359</th>\n",
              "      <td>Sophomore</td>\n",
              "      <td>F</td>\n",
              "      <td>Yes</td>\n",
              "      <td>Nobel</td>\n",
              "      <td>Verbal</td>\n",
              "      <td>1.0</td>\n",
              "      <td>1.0</td>\n",
              "      <td>65.0</td>\n",
              "      <td>150.0</td>\n",
              "      <td>2</td>\n",
              "      <td>2.0</td>\n",
              "      <td>540</td>\n",
              "      <td>450</td>\n",
              "      <td>990</td>\n",
              "      <td>3.27</td>\n",
              "      <td>78</td>\n",
              "      <td>2.0</td>\n",
              "    </tr>\n",
              "    <tr>\n",
              "      <th>360</th>\n",
              "      <td>FirstYear</td>\n",
              "      <td>M</td>\n",
              "      <td>Yes</td>\n",
              "      <td>Olympic</td>\n",
              "      <td>Verbal</td>\n",
              "      <td>14.0</td>\n",
              "      <td>5.0</td>\n",
              "      <td>77.0</td>\n",
              "      <td>205.0</td>\n",
              "      <td>2</td>\n",
              "      <td>2.0</td>\n",
              "      <td>550</td>\n",
              "      <td>550</td>\n",
              "      <td>1100</td>\n",
              "      <td>2.30</td>\n",
              "      <td>72</td>\n",
              "      <td>0.0</td>\n",
              "    </tr>\n",
              "    <tr>\n",
              "      <th>361</th>\n",
              "      <td>Sophomore</td>\n",
              "      <td>F</td>\n",
              "      <td>Yes</td>\n",
              "      <td>Olympic</td>\n",
              "      <td>Math</td>\n",
              "      <td>12.0</td>\n",
              "      <td>5.0</td>\n",
              "      <td>60.0</td>\n",
              "      <td>115.0</td>\n",
              "      <td>0</td>\n",
              "      <td>1.0</td>\n",
              "      <td>500</td>\n",
              "      <td>510</td>\n",
              "      <td>1010</td>\n",
              "      <td>2.60</td>\n",
              "      <td>91</td>\n",
              "      <td>5.0</td>\n",
              "    </tr>\n",
              "  </tbody>\n",
              "</table>\n",
              "<p>362 rows × 17 columns</p>\n",
              "</div>"
            ],
            "text/plain": [
              "          Year Gender Smoke    Award  ...   SAT   GPA  Pulse  Piercings\n",
              "0       Senior      M    No  Olympic  ...  1210  3.13     54        0.0\n",
              "1    Sophomore      F   Yes  Academy  ...  1150  2.50     66        3.0\n",
              "2    FirstYear      M    No    Nobel  ...  1110  2.55    130        0.0\n",
              "3       Junior      M    No    Nobel  ...  1120  3.10     78        0.0\n",
              "4    Sophomore      F    No    Nobel  ...  1170  2.70     40        6.0\n",
              "..         ...    ...   ...      ...  ...   ...   ...    ...        ...\n",
              "357  Sophomore      F   Yes    Nobel  ...  1090  3.44     80        3.0\n",
              "358  Sophomore      M   Yes  Olympic  ...  1220  3.00     74        0.0\n",
              "359  Sophomore      F   Yes    Nobel  ...   990  3.27     78        2.0\n",
              "360  FirstYear      M   Yes  Olympic  ...  1100  2.30     72        0.0\n",
              "361  Sophomore      F   Yes  Olympic  ...  1010  2.60     91        5.0\n",
              "\n",
              "[362 rows x 17 columns]"
            ]
          },
          "metadata": {
            "tags": []
          },
          "execution_count": 39
        }
      ]
    },
    {
      "cell_type": "markdown",
      "metadata": {
        "id": "187QjtdLiDKH"
      },
      "source": [
        "Looking at our data table, we can see that SAT is related to VerbalSAT and MathSAT, \r\n",
        "$$\r\n",
        "i.e. SAT = VerbalSAT + MathSAT\r\n",
        "$$\r\n",
        "\r\n",
        "Now, lets use SAT and MathSAT to plot a graph."
      ]
    },
    {
      "cell_type": "code",
      "metadata": {
        "colab": {
          "base_uri": "https://localhost:8080/",
          "height": 312
        },
        "id": "NUO-VgcpknGr",
        "outputId": "30f3b308-b943-4d5e-cf4e-09fe50190a91"
      },
      "source": [
        "plt.scatter(data[\"MathSAT\"], data[\"SAT\"], label=\"SAT Score value\")\r\n",
        "plt.title(\"Positive Relation between SAT and MathSAT\")\r\n",
        "plt.xlabel(\"Math Scores\")\r\n",
        "plt.ylabel(\"SAT Scores\")\r\n",
        "plt.legend()"
      ],
      "execution_count": null,
      "outputs": [
        {
          "output_type": "execute_result",
          "data": {
            "text/plain": [
              "<matplotlib.legend.Legend at 0x7fcf7f0bfa90>"
            ]
          },
          "metadata": {
            "tags": []
          },
          "execution_count": 40
        },
        {
          "output_type": "display_data",
          "data": {
            "image/png": "[encoded data removed]",
            "text/plain": [
              "<Figure size 432x288 with 1 Axes>"
            ]
          },
          "metadata": {
            "tags": [],
            "needs_background": "light"
          }
        }
      ]
    },
    {
      "cell_type": "code",
      "metadata": {
        "id": "VVJC2nW9kwKr",
        "colab": {
          "base_uri": "https://localhost:8080/"
        },
        "outputId": "24169186-b412-4aaf-eaad-b7ef5c84ff46"
      },
      "source": [
        "stats.pearsonr(data[\"MathSAT\"],data[\"SAT\"])"
      ],
      "execution_count": null,
      "outputs": [
        {
          "output_type": "execute_result",
          "data": {
            "text/plain": [
              "(0.8365916602784123, 4.093448362147636e-96)"
            ]
          },
          "metadata": {
            "tags": []
          },
          "execution_count": 41
        }
      ]
    },
    {
      "cell_type": "markdown",
      "metadata": {
        "id": "0wcXatZZlJiL"
      },
      "source": [
        "Looking at what we've just graphed, we see that the relationship shown here is a positive one."
      ]
    },
    {
      "cell_type": "markdown",
      "metadata": {
        "id": "1dlSADtIluK9"
      },
      "source": [
        "##Linear Regression\n",
        "\n",
        "The linear regression is used to estimate the relationship between two quantitative variables and uses a straight line. \n",
        "\n",
        "Now, I am going to define some functions:"
      ]
    },
    {
      "cell_type": "code",
      "metadata": {
        "id": "j6rkxbtKlyXH"
      },
      "source": [
        "def sum(data_list):\r\n",
        "  sum = 0\r\n",
        "  for i in data_list:\r\n",
        "    sum += i\r\n",
        "  return sum\r\n",
        "\r\n",
        "def sum_of_square(data_list1, data_list2):\r\n",
        "  sum = 0\r\n",
        "  for i in range(len(data_list1)):\r\n",
        "    sum = sum + data_list1[i]*data_list2[i]\r\n",
        "  return sum"
      ],
      "execution_count": null,
      "outputs": []
    },
    {
      "cell_type": "markdown",
      "metadata": {
        "id": "_cClPScG0UO_"
      },
      "source": [
        "1.   The len() function is returning the total number of objects that is inside of our data. \r\n",
        "\r\n",
        "2.   We're using sum, a function that has been defined above to obtain our x̅ and ȳ. \r\n",
        "1.   Sum_of_square is used to find xx and xy. Going through the first given list, and for every i in that, using the second list to actually obtain the sum inside of the for loop."
      ]
    },
    {
      "cell_type": "code",
      "metadata": {
        "id": "cz0gZZSfl7GV"
      },
      "source": [
        "n = len(data['MathSAT'])\r\n",
        "xbar = sum(data['MathSAT'])/n\r\n",
        "ybar = sum(data['SAT'])/n\r\n",
        "xy = sum_of_square(data['MathSAT'],data['SAT'])\r\n",
        "xx = sum_of_square(data['MathSAT'],data['MathSAT'])\r\n",
        "\r\n",
        "slope = (xy-n*xbar*ybar)/(xx-n*xbar**2)\r\n",
        "intercept = ybar - slope*xbar"
      ],
      "execution_count": null,
      "outputs": []
    },
    {
      "cell_type": "code",
      "metadata": {
        "id": "TBUsIG9BpDHh",
        "colab": {
          "base_uri": "https://localhost:8080/"
        },
        "outputId": "d20bd2b5-fdc9-4d70-d75c-23603d8b98aa"
      },
      "source": [
        "print(\"xy = \",xy)\r\n",
        "\r\n",
        "print (\"xx = \",xx)\r\n",
        "\r\n",
        "print(\"x̅ = \",xbar)\r\n",
        "\r\n",
        "print(\"ȳ = \", ybar)\r\n",
        "\r\n",
        "print (\"n = \",n)"
      ],
      "execution_count": null,
      "outputs": [
        {
          "output_type": "stream",
          "text": [
            "xy =  268048133\n",
            "xx =  136144846\n",
            "x̅ =  609.4364640883978\n",
            "ȳ =  1203.6270718232045\n",
            "n =  362\n"
          ],
          "name": "stdout"
        }
      ]
    },
    {
      "cell_type": "markdown",
      "metadata": {
        "id": "JZNSw7GCpDnT"
      },
      "source": [
        "Above is the output of the five variables that we've set above. \r\n",
        "\r\n"
      ]
    },
    {
      "cell_type": "code",
      "metadata": {
        "id": "J38Es87Wl8eG"
      },
      "source": [
        "def formula(variable,slope, intercept):\r\n",
        "  return variable*slope+intercept"
      ],
      "execution_count": null,
      "outputs": []
    },
    {
      "cell_type": "code",
      "metadata": {
        "id": "5DcXdjwMhhrz",
        "colab": {
          "base_uri": "https://localhost:8080/"
        },
        "outputId": "c4243a13-9e4d-4187-9d0a-3b81ad71067f"
      },
      "source": [
        "print(f\"slope = {slope}\")\r\n",
        "print(f\"intercept = {intercept}\")"
      ],
      "execution_count": null,
      "outputs": [
        {
          "output_type": "stream",
          "text": [
            "slope = 1.4814731127631662\n",
            "intercept = 300.76333633878824\n"
          ],
          "name": "stdout"
        }
      ]
    },
    {
      "cell_type": "markdown",
      "metadata": {
        "id": "to8x_4WuhvFo"
      },
      "source": [
        "Python has a builtin package to do linear regression. Let's check my work using the builtin package."
      ]
    },
    {
      "cell_type": "code",
      "metadata": {
        "id": "sgEvb5kAuz92",
        "colab": {
          "base_uri": "https://localhost:8080/"
        },
        "outputId": "3fecfa50-cd3c-40ce-a4b0-39db60bae992"
      },
      "source": [
        "regression = stats.linregress(data[\"MathSAT\"],data[\"SAT\"])\r\n",
        "regression"
      ],
      "execution_count": null,
      "outputs": [
        {
          "output_type": "execute_result",
          "data": {
            "text/plain": [
              "LinregressResult(slope=1.4814731127631733, intercept=300.7633363387839, rvalue=0.8365916602784129, pvalue=4.093448362145017e-96, stderr=0.05112960119117141)"
            ]
          },
          "metadata": {
            "tags": []
          },
          "execution_count": 47
        }
      ]
    },
    {
      "cell_type": "markdown",
      "metadata": {
        "id": "JaBLUZ8Ovynh"
      },
      "source": [
        "Let's pull slope and and intercept from above."
      ]
    },
    {
      "cell_type": "code",
      "metadata": {
        "id": "aAuxV1TywoCr"
      },
      "source": [
        "m = regression[0]\r\n",
        "b = regression[1]\r\n",
        "\r\n",
        "def y(x):\r\n",
        "  return formula(x,m,b)"
      ],
      "execution_count": null,
      "outputs": []
    },
    {
      "cell_type": "code",
      "metadata": {
        "id": "Mt69w8B0xxsB",
        "colab": {
          "base_uri": "https://localhost:8080/",
          "height": 284
        },
        "outputId": "61b6b181-c388-405e-83d4-66b1cd7b7153"
      },
      "source": [
        "x = np.arange( 0,500,1)\r\n",
        "plt.scatter(data[\"MathSAT\"],data[\"SAT\"])\r\n",
        "plt.plot(x,y(x))"
      ],
      "execution_count": null,
      "outputs": [
        {
          "output_type": "execute_result",
          "data": {
            "text/plain": [
              "[<matplotlib.lines.Line2D at 0x7fcf7fc24208>]"
            ]
          },
          "metadata": {
            "tags": []
          },
          "execution_count": 49
        },
        {
          "output_type": "display_data",
          "data": {
            "image/png": "[encoded data removed]",
            "text/plain": [
              "<Figure size 432x288 with 1 Axes>"
            ]
          },
          "metadata": {
            "tags": [],
            "needs_background": "light"
          }
        }
      ]
    },
    {
      "cell_type": "markdown",
      "metadata": {
        "id": "10ZLaPT0y7st"
      },
      "source": [
        "##Nonlinear Regression\n",
        "\n",
        "The Nonlinear regression is a type of regression in which data is fit to a model and then expressed as a mathematical function and it uses a curved line. "
      ]
    },
    {
      "cell_type": "markdown",
      "metadata": {
        "id": "h_HfUZMc4-P5"
      },
      "source": [
        "More than a straight line can be used graphing a nonlinear equation, depending on the mathematical function expressed, compared to the linear regression above. "
      ]
    },
    {
      "cell_type": "code",
      "metadata": {
        "id": "jZZqOqNK2IE-",
        "colab": {
          "base_uri": "https://localhost:8080/",
          "height": 312
        },
        "outputId": "5c5a2b26-ce5a-414b-ef04-45966b18032d"
      },
      "source": [
        "plt.scatter(data[\"Siblings\"],data[\"BirthOrder\"], label=\"Number of Children\")\r\n",
        "plt.xlabel(\"Siblings\")\r\n",
        "plt.ylabel(\"Birthorder\")\r\n",
        "plt.title(\"Relation Between Birthorder and Number of Siblings\")\r\n",
        "plt.legend()\r\n"
      ],
      "execution_count": null,
      "outputs": [
        {
          "output_type": "execute_result",
          "data": {
            "text/plain": [
              "<matplotlib.legend.Legend at 0x7fcf7e217400>"
            ]
          },
          "metadata": {
            "tags": []
          },
          "execution_count": 64
        },
        {
          "output_type": "display_data",
          "data": {
            "image/png": "[encoded data removed]",
            "text/plain": [
              "<Figure size 432x288 with 1 Axes>"
            ]
          },
          "metadata": {
            "tags": [],
            "needs_background": "light"
          }
        }
      ]
    },
    {
      "cell_type": "markdown",
      "metadata": {
        "id": "1WOnCB_02URG"
      },
      "source": [
        "Looks like a quadratic equation"
      ]
    },
    {
      "cell_type": "markdown",
      "metadata": {
        "id": "2NOZTWmy0lTY"
      },
      "source": [
        "Setting our variables of x, xx, xxx and xxxx using the functions that we defined earlier in our project. This is to create our variable matrix."
      ]
    },
    {
      "cell_type": "code",
      "metadata": {
        "id": "9T904QJA2aUp"
      },
      "source": [
        "x = sum(data['Siblings'])\r\n",
        "xx = sum_of_square(data['Siblings'],data['Siblings'])\r\n",
        "xxx = sum_of_square(data['Siblings']**2,data['Siblings'])\r\n",
        "xxxx = sum_of_square(data['Siblings']**3,data['Siblings'])\r\n",
        "\r\n",
        "matrix = [[n,x,xx,sum(data['BirthOrder'])]\r\n",
        "          ,[x,xx,xxx,sum_of_square(data['Siblings'],data['BirthOrder'])]\r\n",
        "          ,[xx,xxx,xxxx,sum_of_square(data['Siblings']**2,data['BirthOrder'])]\r\n",
        "          ]"
      ],
      "execution_count": null,
      "outputs": []
    },
    {
      "cell_type": "markdown",
      "metadata": {
        "id": "GSTbMzkR3JSJ"
      },
      "source": [
        "Here, I am going to import the Gauss Jordan function from project 4. "
      ]
    },
    {
      "cell_type": "code",
      "metadata": {
        "id": "FsUoIeSb20IY"
      },
      "source": [
        "# import math\r\n",
        "# import numpy as np\r\n",
        "\r\n",
        "# def swap(matrix, row1, row2):\r\n",
        "#   swapped_matrix = []\r\n",
        "#   size = len(matrix)      #to find the size of a matrix\r\n",
        "#   for i in range(size):   #using loop to go through each row\r\n",
        "#     if i == row1:\r\n",
        "#       swapped_matrix.append(matrix[row2,:])   \r\n",
        "#     elif i == row2:\r\n",
        "#       swapped_matrix.append(matrix[row1,:])\r\n",
        "#     else:\r\n",
        "#       swapped_matrix.append(matrix[i,:])\r\n",
        "#   return np.array(swapped_matrix)\r\n",
        "\r\n",
        "\r\n",
        "\r\n",
        "# def add_rows(matrix, target_row, adding_row, multiplier):\r\n",
        "#     added_matrix = []\r\n",
        "#     size = len(matrix)\r\n",
        "#     for i in range(size):   #using loop to go through each row\r\n",
        "#       if i == target_row:\r\n",
        "#         old_row = matrix[target_row,:]\r\n",
        "#         adding_values = multiplier * matrix[adding_row,:]\r\n",
        "#         new_row = old_row + adding_values\r\n",
        "#         added_matrix.append(new_row)\r\n",
        "#       else:\r\n",
        "#         added_matrix.append(matrix[i,:])\r\n",
        "#     return np.array(added_matrix)\r\n",
        "\r\n",
        "\r\n",
        "\r\n",
        "# def multiply(matrix, target_row, constant):\r\n",
        "#     new_matrix = []\r\n",
        "#     size = len(matrix)\r\n",
        "#     for i in range(size):   #using loop to go through each row\r\n",
        "#       if i == target_row:\r\n",
        "#         new_matrix.append(constant * matrix[target_row,:])\r\n",
        "#       else:\r\n",
        "#         new_matrix.append(matrix[i,:])\r\n",
        "#     return np.array(new_matrix)\r\n",
        "\r\n",
        "\r\n",
        "\r\n",
        "# def max_value_row(matrix, column):\r\n",
        "#   col = matrix[column:,column]\r\n",
        "#   max = 0\r\n",
        "#   for i in range(len(col)):\r\n",
        "#     if col[max] < col[i]:\r\n",
        "#       max = i\r\n",
        "#   max_row = max + column\r\n",
        "#   return max_row\r\n",
        "\r\n",
        "\r\n",
        "\r\n",
        "# def gaussJordan(matrix):\r\n",
        "#     for i in range(len(matrix)):  #using loop to go through each row\r\n",
        "#       pos = max_value_row(matrix, i)  #using max_value_row function to find the row with largest leftmost value   \r\n",
        "#       matrix = swap(matrix, pos, i)   #swapping current row with row found on previous step   \r\n",
        "#       constant = 1/matrix[i,i]        \r\n",
        "#       matrix = multiply(matrix,i,constant)  #using multiply function to make the diagonal 1\r\n",
        "#       for column in range(0,i):             \r\n",
        "#         matrix = add_rows(matrix,column,i,-matrix[column,i])    #using add_rows function to make all values except diagonal 0\r\n",
        "#       for column in range(i+1,len(matrix)):\r\n",
        "#         matrix = add_rows(matrix,column,i,-matrix[column,i])    #using add_rows function to make all values except diagonal 0\r\n",
        "#     return np.array(matrix)"
      ],
      "execution_count": null,
      "outputs": []
    },
    {
      "cell_type": "code",
      "metadata": {
        "id": "Y_3D-AwO5nkM"
      },
      "source": [
        "import math\r\n",
        "import numpy as np\r\n",
        "import scipy.linalg as la\r\n",
        "\r\n",
        "def addRows(matrix,targetRow, modifierRow, value):\r\n",
        "  newRow = matrix[targetRow,:]+value*matrix[modifierRow,:]\r\n",
        "  newMatrix = []\r\n",
        "  for i in range(len(matrix)):\r\n",
        "    if i != targetRow:\r\n",
        "      newMatrix.append(matrix[i,:])\r\n",
        "    else:\r\n",
        "      newMatrix.append(newRow)\r\n",
        "  return np.array(newMatrix)\r\n",
        "\r\n",
        "\r\n",
        "def changeToLeadingOne(matrix,row,column):\r\n",
        "  newMatrix =[]\r\n",
        "  for i in range(len(matrix)):\r\n",
        "    if i != row:\r\n",
        "      newMatrix.append(matrix[i,:])\r\n",
        "    else:\r\n",
        "      newMatrix.append(1/matrix[row,column]*matrix[row,:])\r\n",
        "  return np.array(newMatrix)\r\n",
        "\r\n",
        "\r\n",
        "def gaussJordan(matrix):\r\n",
        "  newMatrix = matrix\r\n",
        "  for pivot in range(len(matrix)):\r\n",
        "    newMatrix = changeToLeadingOne(newMatrix,pivot,pivot)\r\n",
        "    for column in range(0,pivot):\r\n",
        "      newMatrix = addRows(newMatrix,column,pivot,-newMatrix[column,pivot])\r\n",
        "    for column in range(pivot+1,len(matrix)):\r\n",
        "      newMatrix = addRows(newMatrix,column,pivot,-newMatrix[column,pivot])\r\n",
        "  return newMatrix"
      ],
      "execution_count": null,
      "outputs": []
    },
    {
      "cell_type": "code",
      "metadata": {
        "id": "5kB09YYB3zri",
        "colab": {
          "base_uri": "https://localhost:8080/"
        },
        "outputId": "8f061176-f56a-4d13-e2ca-b01e7bc7efed"
      },
      "source": [
        "gaussJordan(np.array(matrix))"
      ],
      "execution_count": null,
      "outputs": [
        {
          "output_type": "execute_result",
          "data": {
            "text/plain": [
              "array([[ 1.,  0.,  0., nan],\n",
              "       [ 0.,  1.,  0., nan],\n",
              "       [ 0.,  0.,  1., nan]])"
            ]
          },
          "metadata": {
            "tags": []
          },
          "execution_count": 54
        }
      ]
    }
  ]
}