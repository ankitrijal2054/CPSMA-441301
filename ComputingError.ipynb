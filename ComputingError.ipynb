{
  "nbformat": 4,
  "nbformat_minor": 0,
  "metadata": {
    "colab": {
      "name": "ComputingError.ipynb",
      "provenance": [],
      "collapsed_sections": [],
      "include_colab_link": true
    },
    "kernelspec": {
      "display_name": "Python 3",
      "name": "python3"
    }
  },
  "cells": [
    {
      "cell_type": "markdown",
      "metadata": {
        "id": "view-in-github",
        "colab_type": "text"
      },
      "source": [
        "<a href=\"https://colab.research.google.com/github/ankitrijal2054/CPSMA-441301/blob/main/ComputingError.ipynb\" target=\"_parent\"><img src=\"https://colab.research.google.com/assets/colab-badge.svg\" alt=\"Open In Colab\"/></a>"
      ]
    },
    {
      "cell_type": "markdown",
      "metadata": {
        "id": "SvUTUevRJdcH"
      },
      "source": [
        "# Project Module 1: Computing Errors\n",
        "\n",
        "\n",
        "\n",
        "$Ankit Rijal$\n",
        "\n",
        "$Min Sun Kim$\n",
        "\n",
        "$Tylar Gifford$\n",
        "\n",
        "$CPSMA - 441301$\n",
        "\n",
        "$Dr. Nicolas Jacob$\n",
        "\n",
        "\n"
      ]
    },
    {
      "cell_type": "markdown",
      "metadata": {
        "id": "RHPYkIXh1g7n"
      },
      "source": [
        "To begin, I will list definition of some computing errors. "
      ]
    },
    {
      "cell_type": "code",
      "metadata": {
        "id": "dYS4rXwjJmCu"
      },
      "source": [
        "def true_error(est_value, actual_value):\r\n",
        "  trueError = actual_value - est_value\r\n",
        "  return trueError\r\n",
        "\r\n",
        "def relative_error(est_value, actual_value):\r\n",
        "  relative_error = (actual_value - est_value)/actual_value\r\n",
        "  return relative_error\r\n",
        "\r\n",
        "def approximate_error(previous_approximation, present_approximation):\r\n",
        "  approximate_error = present_approximation - previous_approximation\r\n",
        "  return approximate_error\r\n",
        "\r\n",
        "def relative_approxiamte_error(previous_approximation, present_approximation):\r\n",
        "  relative_approximate_error = (present_approximation - previous_approximation)/present_approximation\r\n",
        "  return relative_approximate_error\r\n",
        " \r\n",
        "\r\n",
        "\r\n"
      ],
      "execution_count": null,
      "outputs": []
    },
    {
      "cell_type": "markdown",
      "metadata": {
        "id": "oWeBEbxPI60N"
      },
      "source": [
        "In the above list, I have used other functions and some naming conventions that helps in directing where do each input belong. \n"
      ]
    },
    {
      "cell_type": "markdown",
      "metadata": {
        "id": "_DP26WkIPtO9"
      },
      "source": [
        "**Taylor Expansion**"
      ]
    },
    {
      "cell_type": "markdown",
      "metadata": {
        "id": "SuAiJUe_y_oN"
      },
      "source": [
        "Here, I will estimate for $e^{x}$ centered at c=3 \n",
        "\n",
        "$$\n",
        "f_{n}(x) = \\sum_{i=0}^{n} \\frac{e^{c(n)}}{n!} (x-c)^n\n",
        "$$\n",
        "\n",
        "Since, \n",
        "$$\n",
        "\\frac{d}{dx} e^x = e^x \n",
        "$$\n",
        "\n",
        "So,\n",
        "\n",
        "$$\n",
        "f_{n}(x) = \\sum_{i=0}^{n} \\frac{e^c}{n!} (x-c)^n \n",
        "$$\n",
        "\n",
        "$$\n",
        "= \\sum_{i=0}^{n} \\frac{e^3}{n!} (x-3)^n\n",
        "$$\n",
        "\n",
        "I will now import the math package to compute the above. \n",
        "          \n",
        "          \n",
        "     "
      ]
    },
    {
      "cell_type": "code",
      "metadata": {
        "id": "MQ2ik9yltfAm"
      },
      "source": [
        "import math\r\n",
        "\r\n",
        "def taylorPolynomialTerm(degree, input):\r\n",
        "  term = (math.exp(3)/math.factorial(degree))*(input-3)**degree\r\n",
        "  return term\r\n",
        "\r\n",
        "def taylorPolynomial(degree, input):\r\n",
        "  sum = 0\r\n",
        "  for i in range(0, degree+1):\r\n",
        "    sum += taylorPolynomialTerm(i, input)\r\n",
        "  return sum"
      ],
      "execution_count": null,
      "outputs": []
    },
    {
      "cell_type": "markdown",
      "metadata": {
        "id": "KNDEXZ3GLkAe"
      },
      "source": [
        "By using package plotly, I am going to create a table that is useful while making visualizations."
      ]
    },
    {
      "cell_type": "code",
      "metadata": {
        "id": "ROrhPriXtIS5",
        "colab": {
          "base_uri": "https://localhost:8080/"
        },
        "outputId": "26b0c245-d992-4a1f-b63b-3575af332331"
      },
      "source": [
        "degree = []\r\n",
        "actual_value = []\r\n",
        "est_value = []\r\n",
        "abs_error = []\r\n",
        "rel_error = []\r\n",
        "app_error = []\r\n",
        "rel_app_error = []\r\n",
        "for i in range(0,21):\r\n",
        "  degree.append(i)\r\n",
        "for i in degree:\r\n",
        "  actual_value.append(math.exp(3+0.1))\r\n",
        "  est_value.append(taylorPolynomial(i, 3.1))\r\n",
        "  abs_error.append(true_error(est_value[i],actual_value[i]))\r\n",
        "  rel_error.append(relative_error(est_value[i],actual_value[i]))\r\n",
        "for i in range(0,19):\r\n",
        "  app_error.append(approximate_error(est_value[i],est_value[i+1]))\r\n",
        "  rel_app_error.append(relative_approxiamte_error(est_value[i],est_value[i+1]))\r\n",
        "\r\n",
        "\r\n"
      ],
      "execution_count": null,
      "outputs": [
        {
          "output_type": "stream",
          "text": [
            "[0.09090909090909105, 0.0045248868778279975, 0.00015080681646812382, 3.770156197627768e-06, 7.540311819010217e-08, 1.2567186455921557e-09, 1.7953102930676224e-11, 2.2438577842282895e-13, 2.560750681002321e-15, 0.0, 0.0, 0.0, 0.0, 0.0, 0.0, 0.0, 0.0, 0.0, 0.0]\n"
          ],
          "name": "stdout"
        }
      ]
    },
    {
      "cell_type": "code",
      "metadata": {
        "colab": {
          "base_uri": "https://localhost:8080/",
          "height": 817
        },
        "id": "jCb1KczZtMQ5",
        "outputId": "be51f4a4-2a2b-4e0c-b7b8-d4bbb41b8a38"
      },
      "source": [
        "import plotly.graph_objects as go\r\n",
        "fig = go.Figure(data=[go.Table(\r\n",
        "    header=dict(values=['Degree', 'Actual Value', 'Estimated Value','Absolute Error','Relative Error','Approximate Error','Relative Approximate Error'],\r\n",
        "                line_color='darkslategray',\r\n",
        "                fill_color='lightgreen',\r\n",
        "                align='left'),\r\n",
        "    cells=dict(values=[degree, actual_value, est_value, abs_error, rel_error, app_error,rel_app_error ], \r\n",
        "               line_color='darkslategray',\r\n",
        "               fill_color='white',\r\n",
        "               align='left'))\r\n",
        "])\r\n",
        "\r\n",
        "fig.update_layout(width=1500, height=800)\r\n",
        "fig.show()\r\n"
      ],
      "execution_count": null,
      "outputs": [
        {
          "output_type": "display_data",
          "data": {
            "text/html": [
              "<html>\n",
              "<head><meta charset=\"utf-8\" /></head>\n",
              "<body>\n",
              "    <div>\n",
              "            <script src=\"https://cdnjs.cloudflare.com/ajax/libs/mathjax/2.7.5/MathJax.js?config=TeX-AMS-MML_SVG\"></script><script type=\"text/javascript\">if (window.MathJax) {MathJax.Hub.Config({SVG: {font: \"STIX-Web\"}});}</script>\n",
              "                <script type=\"text/javascript\">window.PlotlyConfig = {MathJaxConfig: 'local'};</script>\n",
              "        <script src=\"https://cdn.plot.ly/plotly-latest.min.js\"></script>    \n",
              "            <div id=\"63b279d6-d6ec-4aaa-a8f5-e2ce9d8babff\" class=\"plotly-graph-div\" style=\"height:800px; width:1500px;\"></div>\n",
              "            <script type=\"text/javascript\">\n",
              "                \n",
              "                    window.PLOTLYENV=window.PLOTLYENV || {};\n",
              "                    \n",
              "                if (document.getElementById(\"63b279d6-d6ec-4aaa-a8f5-e2ce9d8babff\")) {\n",
              "                    Plotly.newPlot(\n",
              "                        '63b279d6-d6ec-4aaa-a8f5-e2ce9d8babff',\n",
              "                        [{\"cells\": {\"align\": \"left\", \"fill\": {\"color\": \"white\"}, \"line\": {\"color\": \"darkslategray\"}, \"values\": [[0, 1, 2, 3, 4, 5, 6, 7, 8, 9, 10, 11, 12, 13, 14, 15, 16, 17, 18, 19, 20], [22.197951281441636, 22.197951281441636, 22.197951281441636, 22.197951281441636, 22.197951281441636, 22.197951281441636, 22.197951281441636, 22.197951281441636, 22.197951281441636, 22.197951281441636, 22.197951281441636, 22.197951281441636, 22.197951281441636, 22.197951281441636, 22.197951281441636, 22.197951281441636, 22.197951281441636, 22.197951281441636, 22.197951281441636, 22.197951281441636, 22.197951281441636], [20.085536923187668, 22.09409061550644, 22.194518300122375, 22.197865889609574, 22.197949579346755, 22.197951253141497, 22.197951281038076, 22.1979512814366, 22.19795128144158, 22.197951281441636, 22.197951281441636, 22.197951281441636, 22.197951281441636, 22.197951281441636, 22.197951281441636, 22.197951281441636, 22.197951281441636, 22.197951281441636, 22.197951281441636, 22.197951281441636, 22.197951281441636], [2.112414358253968, 0.10386066593519772, 0.0034329813192606196, 8.539183206224266e-05, 1.702094881039784e-06, 2.8300139121029133e-08, 4.035598522023065e-10, 5.03774799653911e-12, 5.684341886080802e-14, 0.0, 0.0, 0.0, 0.0, 0.0, 0.0, 0.0, 0.0, 0.0, 0.0, 0.0, 0.0], [0.09516258196404052, 0.0046788401604444165, 0.00015465307026467473, 3.846833925328668e-06, 7.667801678899991e-08, 1.2748986950290844e-09, 1.818004945977598e-11, 2.269465291038307e-13, 2.560750681002321e-15, 0.0, 0.0, 0.0, 0.0, 0.0, 0.0, 0.0, 0.0, 0.0, 0.0, 0.0, 0.0], [2.0085536923187703, 0.1004276846159371, 0.003347589487198377, 8.368973718120287e-05, 1.6737947419187549e-06, 2.7896579268826827e-08, 3.985221042057674e-10, 4.980904577678302e-12, 5.684341886080802e-14, 0.0, 0.0, 0.0, 0.0, 0.0, 0.0, 0.0, 0.0, 0.0, 0.0], [0.09090909090909105, 0.0045248868778279975, 0.00015080681646812382, 3.770156197627768e-06, 7.540311819010217e-08, 1.2567186455921557e-09, 1.7953102930676224e-11, 2.2438577842282895e-13, 2.560750681002321e-15, 0.0, 0.0, 0.0, 0.0, 0.0, 0.0, 0.0, 0.0, 0.0, 0.0]]}, \"header\": {\"align\": \"left\", \"fill\": {\"color\": \"lightgreen\"}, \"line\": {\"color\": \"darkslategray\"}, \"values\": [\"Degree\", \"Actual Value\", \"Estimated Value\", \"Absolute Error\", \"Relative Error\", \"Approximate Error\", \"Relative Approximate Error\"]}, \"type\": \"table\"}],\n",
              "                        {\"height\": 800, \"template\": {\"data\": {\"bar\": [{\"error_x\": {\"color\": \"#2a3f5f\"}, \"error_y\": {\"color\": \"#2a3f5f\"}, \"marker\": {\"line\": {\"color\": \"#E5ECF6\", \"width\": 0.5}}, \"type\": \"bar\"}], \"barpolar\": [{\"marker\": {\"line\": {\"color\": \"#E5ECF6\", \"width\": 0.5}}, \"type\": \"barpolar\"}], \"carpet\": [{\"aaxis\": {\"endlinecolor\": \"#2a3f5f\", \"gridcolor\": \"white\", \"linecolor\": \"white\", \"minorgridcolor\": \"white\", \"startlinecolor\": \"#2a3f5f\"}, \"baxis\": {\"endlinecolor\": \"#2a3f5f\", \"gridcolor\": \"white\", \"linecolor\": \"white\", \"minorgridcolor\": \"white\", \"startlinecolor\": \"#2a3f5f\"}, \"type\": \"carpet\"}], \"choropleth\": [{\"colorbar\": {\"outlinewidth\": 0, \"ticks\": \"\"}, \"type\": \"choropleth\"}], \"contour\": [{\"colorbar\": {\"outlinewidth\": 0, \"ticks\": \"\"}, \"colorscale\": [[0.0, \"#0d0887\"], [0.1111111111111111, \"#46039f\"], [0.2222222222222222, \"#7201a8\"], [0.3333333333333333, \"#9c179e\"], [0.4444444444444444, \"#bd3786\"], [0.5555555555555556, \"#d8576b\"], [0.6666666666666666, \"#ed7953\"], [0.7777777777777778, \"#fb9f3a\"], [0.8888888888888888, \"#fdca26\"], [1.0, \"#f0f921\"]], \"type\": \"contour\"}], \"contourcarpet\": [{\"colorbar\": {\"outlinewidth\": 0, \"ticks\": \"\"}, \"type\": \"contourcarpet\"}], \"heatmap\": [{\"colorbar\": {\"outlinewidth\": 0, \"ticks\": \"\"}, \"colorscale\": [[0.0, \"#0d0887\"], [0.1111111111111111, \"#46039f\"], [0.2222222222222222, \"#7201a8\"], [0.3333333333333333, \"#9c179e\"], [0.4444444444444444, \"#bd3786\"], [0.5555555555555556, \"#d8576b\"], [0.6666666666666666, \"#ed7953\"], [0.7777777777777778, \"#fb9f3a\"], [0.8888888888888888, \"#fdca26\"], [1.0, \"#f0f921\"]], \"type\": \"heatmap\"}], \"heatmapgl\": [{\"colorbar\": {\"outlinewidth\": 0, \"ticks\": \"\"}, \"colorscale\": [[0.0, \"#0d0887\"], [0.1111111111111111, \"#46039f\"], [0.2222222222222222, \"#7201a8\"], [0.3333333333333333, \"#9c179e\"], [0.4444444444444444, \"#bd3786\"], [0.5555555555555556, \"#d8576b\"], [0.6666666666666666, \"#ed7953\"], [0.7777777777777778, \"#fb9f3a\"], [0.8888888888888888, \"#fdca26\"], [1.0, \"#f0f921\"]], \"type\": \"heatmapgl\"}], \"histogram\": [{\"marker\": {\"colorbar\": {\"outlinewidth\": 0, \"ticks\": \"\"}}, \"type\": \"histogram\"}], \"histogram2d\": [{\"colorbar\": {\"outlinewidth\": 0, \"ticks\": \"\"}, \"colorscale\": [[0.0, \"#0d0887\"], [0.1111111111111111, \"#46039f\"], [0.2222222222222222, \"#7201a8\"], [0.3333333333333333, \"#9c179e\"], [0.4444444444444444, \"#bd3786\"], [0.5555555555555556, \"#d8576b\"], [0.6666666666666666, \"#ed7953\"], [0.7777777777777778, \"#fb9f3a\"], [0.8888888888888888, \"#fdca26\"], [1.0, \"#f0f921\"]], \"type\": \"histogram2d\"}], \"histogram2dcontour\": [{\"colorbar\": {\"outlinewidth\": 0, \"ticks\": \"\"}, \"colorscale\": [[0.0, \"#0d0887\"], [0.1111111111111111, \"#46039f\"], [0.2222222222222222, \"#7201a8\"], [0.3333333333333333, \"#9c179e\"], [0.4444444444444444, \"#bd3786\"], [0.5555555555555556, \"#d8576b\"], [0.6666666666666666, \"#ed7953\"], [0.7777777777777778, \"#fb9f3a\"], [0.8888888888888888, \"#fdca26\"], [1.0, \"#f0f921\"]], \"type\": \"histogram2dcontour\"}], \"mesh3d\": [{\"colorbar\": {\"outlinewidth\": 0, \"ticks\": \"\"}, \"type\": \"mesh3d\"}], \"parcoords\": [{\"line\": {\"colorbar\": {\"outlinewidth\": 0, \"ticks\": \"\"}}, \"type\": \"parcoords\"}], \"pie\": [{\"automargin\": true, \"type\": \"pie\"}], \"scatter\": [{\"marker\": {\"colorbar\": {\"outlinewidth\": 0, \"ticks\": \"\"}}, \"type\": \"scatter\"}], \"scatter3d\": [{\"line\": {\"colorbar\": {\"outlinewidth\": 0, \"ticks\": \"\"}}, \"marker\": {\"colorbar\": {\"outlinewidth\": 0, \"ticks\": \"\"}}, \"type\": \"scatter3d\"}], \"scattercarpet\": [{\"marker\": {\"colorbar\": {\"outlinewidth\": 0, \"ticks\": \"\"}}, \"type\": \"scattercarpet\"}], \"scattergeo\": [{\"marker\": {\"colorbar\": {\"outlinewidth\": 0, \"ticks\": \"\"}}, \"type\": \"scattergeo\"}], \"scattergl\": [{\"marker\": {\"colorbar\": {\"outlinewidth\": 0, \"ticks\": \"\"}}, \"type\": \"scattergl\"}], \"scattermapbox\": [{\"marker\": {\"colorbar\": {\"outlinewidth\": 0, \"ticks\": \"\"}}, \"type\": \"scattermapbox\"}], \"scatterpolar\": [{\"marker\": {\"colorbar\": {\"outlinewidth\": 0, \"ticks\": \"\"}}, \"type\": \"scatterpolar\"}], \"scatterpolargl\": [{\"marker\": {\"colorbar\": {\"outlinewidth\": 0, \"ticks\": \"\"}}, \"type\": \"scatterpolargl\"}], \"scatterternary\": [{\"marker\": {\"colorbar\": {\"outlinewidth\": 0, \"ticks\": \"\"}}, \"type\": \"scatterternary\"}], \"surface\": [{\"colorbar\": {\"outlinewidth\": 0, \"ticks\": \"\"}, \"colorscale\": [[0.0, \"#0d0887\"], [0.1111111111111111, \"#46039f\"], [0.2222222222222222, \"#7201a8\"], [0.3333333333333333, \"#9c179e\"], [0.4444444444444444, \"#bd3786\"], [0.5555555555555556, \"#d8576b\"], [0.6666666666666666, \"#ed7953\"], [0.7777777777777778, \"#fb9f3a\"], [0.8888888888888888, \"#fdca26\"], [1.0, \"#f0f921\"]], \"type\": \"surface\"}], \"table\": [{\"cells\": {\"fill\": {\"color\": \"#EBF0F8\"}, \"line\": {\"color\": \"white\"}}, \"header\": {\"fill\": {\"color\": \"#C8D4E3\"}, \"line\": {\"color\": \"white\"}}, \"type\": \"table\"}]}, \"layout\": {\"annotationdefaults\": {\"arrowcolor\": \"#2a3f5f\", \"arrowhead\": 0, \"arrowwidth\": 1}, \"coloraxis\": {\"colorbar\": {\"outlinewidth\": 0, \"ticks\": \"\"}}, \"colorscale\": {\"diverging\": [[0, \"#8e0152\"], [0.1, \"#c51b7d\"], [0.2, \"#de77ae\"], [0.3, \"#f1b6da\"], [0.4, \"#fde0ef\"], [0.5, \"#f7f7f7\"], [0.6, \"#e6f5d0\"], [0.7, \"#b8e186\"], [0.8, \"#7fbc41\"], [0.9, \"#4d9221\"], [1, \"#276419\"]], \"sequential\": [[0.0, \"#0d0887\"], [0.1111111111111111, \"#46039f\"], [0.2222222222222222, \"#7201a8\"], [0.3333333333333333, \"#9c179e\"], [0.4444444444444444, \"#bd3786\"], [0.5555555555555556, \"#d8576b\"], [0.6666666666666666, \"#ed7953\"], [0.7777777777777778, \"#fb9f3a\"], [0.8888888888888888, \"#fdca26\"], [1.0, \"#f0f921\"]], \"sequentialminus\": [[0.0, \"#0d0887\"], [0.1111111111111111, \"#46039f\"], [0.2222222222222222, \"#7201a8\"], [0.3333333333333333, \"#9c179e\"], [0.4444444444444444, \"#bd3786\"], [0.5555555555555556, \"#d8576b\"], [0.6666666666666666, \"#ed7953\"], [0.7777777777777778, \"#fb9f3a\"], [0.8888888888888888, \"#fdca26\"], [1.0, \"#f0f921\"]]}, \"colorway\": [\"#636efa\", \"#EF553B\", \"#00cc96\", \"#ab63fa\", \"#FFA15A\", \"#19d3f3\", \"#FF6692\", \"#B6E880\", \"#FF97FF\", \"#FECB52\"], \"font\": {\"color\": \"#2a3f5f\"}, \"geo\": {\"bgcolor\": \"white\", \"lakecolor\": \"white\", \"landcolor\": \"#E5ECF6\", \"showlakes\": true, \"showland\": true, \"subunitcolor\": \"white\"}, \"hoverlabel\": {\"align\": \"left\"}, \"hovermode\": \"closest\", \"mapbox\": {\"style\": \"light\"}, \"paper_bgcolor\": \"white\", \"plot_bgcolor\": \"#E5ECF6\", \"polar\": {\"angularaxis\": {\"gridcolor\": \"white\", \"linecolor\": \"white\", \"ticks\": \"\"}, \"bgcolor\": \"#E5ECF6\", \"radialaxis\": {\"gridcolor\": \"white\", \"linecolor\": \"white\", \"ticks\": \"\"}}, \"scene\": {\"xaxis\": {\"backgroundcolor\": \"#E5ECF6\", \"gridcolor\": \"white\", \"gridwidth\": 2, \"linecolor\": \"white\", \"showbackground\": true, \"ticks\": \"\", \"zerolinecolor\": \"white\"}, \"yaxis\": {\"backgroundcolor\": \"#E5ECF6\", \"gridcolor\": \"white\", \"gridwidth\": 2, \"linecolor\": \"white\", \"showbackground\": true, \"ticks\": \"\", \"zerolinecolor\": \"white\"}, \"zaxis\": {\"backgroundcolor\": \"#E5ECF6\", \"gridcolor\": \"white\", \"gridwidth\": 2, \"linecolor\": \"white\", \"showbackground\": true, \"ticks\": \"\", \"zerolinecolor\": \"white\"}}, \"shapedefaults\": {\"line\": {\"color\": \"#2a3f5f\"}}, \"ternary\": {\"aaxis\": {\"gridcolor\": \"white\", \"linecolor\": \"white\", \"ticks\": \"\"}, \"baxis\": {\"gridcolor\": \"white\", \"linecolor\": \"white\", \"ticks\": \"\"}, \"bgcolor\": \"#E5ECF6\", \"caxis\": {\"gridcolor\": \"white\", \"linecolor\": \"white\", \"ticks\": \"\"}}, \"title\": {\"x\": 0.05}, \"xaxis\": {\"automargin\": true, \"gridcolor\": \"white\", \"linecolor\": \"white\", \"ticks\": \"\", \"title\": {\"standoff\": 15}, \"zerolinecolor\": \"white\", \"zerolinewidth\": 2}, \"yaxis\": {\"automargin\": true, \"gridcolor\": \"white\", \"linecolor\": \"white\", \"ticks\": \"\", \"title\": {\"standoff\": 15}, \"zerolinecolor\": \"white\", \"zerolinewidth\": 2}}}, \"width\": 1500},\n",
              "                        {\"responsive\": true}\n",
              "                    ).then(function(){\n",
              "                            \n",
              "var gd = document.getElementById('63b279d6-d6ec-4aaa-a8f5-e2ce9d8babff');\n",
              "var x = new MutationObserver(function (mutations, observer) {{\n",
              "        var display = window.getComputedStyle(gd).display;\n",
              "        if (!display || display === 'none') {{\n",
              "            console.log([gd, 'removed!']);\n",
              "            Plotly.purge(gd);\n",
              "            observer.disconnect();\n",
              "        }}\n",
              "}});\n",
              "\n",
              "// Listen for the removal of the full notebook cells\n",
              "var notebookContainer = gd.closest('#notebook-container');\n",
              "if (notebookContainer) {{\n",
              "    x.observe(notebookContainer, {childList: true});\n",
              "}}\n",
              "\n",
              "// Listen for the clearing of the current output cell\n",
              "var outputEl = gd.closest('.output');\n",
              "if (outputEl) {{\n",
              "    x.observe(outputEl, {childList: true});\n",
              "}}\n",
              "\n",
              "                        })\n",
              "                };\n",
              "                \n",
              "            </script>\n",
              "        </div>\n",
              "</body>\n",
              "</html>"
            ]
          },
          "metadata": {
            "tags": []
          }
        }
      ]
    },
    {
      "cell_type": "markdown",
      "metadata": {
        "id": "OurUMXBPsSvi"
      },
      "source": [
        "As we can see in the above table, the error has surpassed the floating point error by the ninth degree. \n",
        "\n",
        "Now, I am going to use additonal packages to graph the 5th Taylor approximation and the function. "
      ]
    },
    {
      "cell_type": "code",
      "metadata": {
        "colab": {
          "base_uri": "https://localhost:8080/",
          "height": 298
        },
        "id": "Y2dpJ7SyMmYJ",
        "outputId": "f6eb194f-1404-488e-fa5d-0b07f4cfc03d"
      },
      "source": [
        "from matplotlib import pyplot as plot\r\n",
        "import numpy as npy\r\n",
        "\r\n",
        "pi = math.pi\r\n",
        "sqrt2 = math.sqrt(2)\r\n",
        "\r\n",
        "x = npy.arange(0, 3, .001)\r\n",
        "\r\n",
        "fig, ax = plot.subplots()  \r\n",
        "ax.plot(x, taylorPolynomial(5,x), label='Taylor Series: 5th order')\r\n",
        "ax.plot(x, npy.e**x, label='y =e^x')\r\n",
        "ax.set_title('Taylor Approximation Centered at 3')\r\n",
        "ax.legend()  "
      ],
      "execution_count": null,
      "outputs": [
        {
          "output_type": "execute_result",
          "data": {
            "text/plain": [
              "<matplotlib.legend.Legend at 0x7f6fa6e3d7b8>"
            ]
          },
          "metadata": {
            "tags": []
          },
          "execution_count": 5
        },
        {
          "output_type": "display_data",
          "data": {
            "image/png": "[encoded data removed]",
            "text/plain": [
              "<Figure size 432x288 with 1 Axes>"
            ]
          },
          "metadata": {
            "tags": [],
            "needs_background": "light"
          }
        }
      ]
    },
    {
      "cell_type": "markdown",
      "metadata": {
        "id": "z-FOnj6MTi9D"
      },
      "source": [
        "I have tried using various x values until I achieved the desired window size. \n",
        "\n",
        "I am now going to try the 20th order to check where the graph deviation will start for this one. "
      ]
    },
    {
      "cell_type": "code",
      "metadata": {
        "colab": {
          "base_uri": "https://localhost:8080/",
          "height": 298
        },
        "id": "u-z0fmV2sXpV",
        "outputId": "3c383306-71f0-4d3d-9a90-5c64c2ee2580"
      },
      "source": [
        "x = npy.arange(-20, 25, .001)\r\n",
        "\r\n",
        "fig, ax = plot.subplots()  \r\n",
        "ax.plot(x, taylorPolynomial(20,x), label='Taylor Series: 5th order')\r\n",
        "ax.plot(x, npy.e**x, label='y =e^x')\r\n",
        "ax.set_title('Tylor Approximation centered at 3')\r\n",
        "ax.legend()  "
      ],
      "execution_count": null,
      "outputs": [
        {
          "output_type": "execute_result",
          "data": {
            "text/plain": [
              "<matplotlib.legend.Legend at 0x7f6fa69189e8>"
            ]
          },
          "metadata": {
            "tags": []
          },
          "execution_count": 6
        },
        {
          "output_type": "display_data",
          "data": {
            "image/png": "[encoded data removed]",
            "text/plain": [
              "<Figure size 432x288 with 1 Axes>"
            ]
          },
          "metadata": {
            "tags": [],
            "needs_background": "light"
          }
        }
      ]
    },
    {
      "cell_type": "markdown",
      "metadata": {
        "id": "RbOgvUkVPy2n"
      },
      "source": [
        "Given series expands from n to infinity. Since, we only try to get the most from the 5th polynomila term, we ignore lots of small values that contributes to the accuracy of the expansion. this is called truncating, where the small values are ignored and results in less accurate final value. The reason for us to go over 20th term is to avoid truncation error. "
      ]
    }
  ]
}