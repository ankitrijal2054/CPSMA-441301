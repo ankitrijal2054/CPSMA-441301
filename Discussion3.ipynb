{
  "nbformat": 4,
  "nbformat_minor": 0,
  "metadata": {
    "colab": {
      "name": "Discussion3.ipynb",
      "provenance": [],
      "authorship_tag": "ABX9TyNDv3H37r2+q9g0l8NnQFt7",
      "include_colab_link": true
    },
    "kernelspec": {
      "name": "python3",
      "display_name": "Python 3"
    }
  },
  "cells": [
    {
      "cell_type": "markdown",
      "metadata": {
        "id": "view-in-github",
        "colab_type": "text"
      },
      "source": [
        "<a href=\"https://colab.research.google.com/github/ankitrijal2054/CPSMA-441301/blob/main/Discussion3.ipynb\" target=\"_parent\"><img src=\"https://colab.research.google.com/assets/colab-badge.svg\" alt=\"Open In Colab\"/></a>"
      ]
    },
    {
      "cell_type": "markdown",
      "metadata": {
        "id": "j7AGFoqR-HlE"
      },
      "source": [
        "I am going to use Newton-Raphson method to calculate the root of 5x^3+2x^2-6x-3.\r\n",
        "I am going to use the formula below to calculate the root of my function.\r\n",
        "$$\r\n",
        "x_{i+1}= x_i-\\frac{f(x_i)}{f'(x_i)}\r\n",
        "$$\r\n",
        "\r\n",
        "Looking at my function, I would guess the root of this function will be around 1. So I will set the initial root of the function to be 1.\r\n"
      ]
    },
    {
      "cell_type": "code",
      "metadata": {
        "id": "saMaOLcp12mx"
      },
      "source": [
        "import numpy as np\r\n",
        "# importing derivative to calculate the deriavtive of the cubic function \r\n",
        "from scipy.misc import derivative     \r\n",
        "\r\n",
        "# setting starting point for the equation. \r\n",
        "root = 1.0                                               \r\n",
        "\r\n",
        "# setting range to perform a calcualtion.\r\n",
        "x = np.linspace(-1, 1,300)     \r\n",
        "\r\n",
        "#functing to return a value of equation when x-value is passed\r\n",
        "def func(x):\r\n",
        "  return 5*x**3 + 2*x**2 - 6*x - 3\r\n",
        "\r\n",
        "#function to calculate the next value for root\r\n",
        "def next_value(func, x, root): \r\n",
        "  slope = derivative(func, root, dx=1)                         \r\n",
        "  return root - func(root)/slope                              \r\n"
      ],
      "execution_count": 53,
      "outputs": []
    },
    {
      "cell_type": "markdown",
      "metadata": {
        "id": "E0uc6fodCH3C"
      },
      "source": [
        "Now I have written all the necessary function to calculate root. I am going to print all the roots using a loop until I get the same values."
      ]
    },
    {
      "cell_type": "code",
      "metadata": {
        "colab": {
          "base_uri": "https://localhost:8080/"
        },
        "id": "lIVcPdi85jv4",
        "outputId": "538867b9-26e7-48e5-8f07-3ba24cc18d77"
      },
      "source": [
        "print(\"roots are:\")\r\n",
        "#using loop to print all the root value\r\n",
        "for value in range (30):                                     \r\n",
        "  print(root)     \r\n",
        "  root = next_value(func,x,root)"
      ],
      "execution_count": 54,
      "outputs": [
        {
          "output_type": "stream",
          "text": [
            "roots are:\n",
            "1.0\n",
            "1.1111111111111112\n",
            "1.126538005121479\n",
            "1.1297618599118335\n",
            "1.130464399635703\n",
            "1.130618792548911\n",
            "1.13065278444632\n",
            "1.1306602712615326\n",
            "1.1306619203996913\n",
            "1.1306622836662206\n",
            "1.1306623636856745\n",
            "1.1306623813121786\n",
            "1.1306623851949058\n",
            "1.1306623860501843\n",
            "1.1306623862385834\n",
            "1.1306623862800833\n",
            "1.1306623862892249\n",
            "1.1306623862912386\n",
            "1.130662386291682\n",
            "1.1306623862917797\n",
            "1.1306623862918013\n",
            "1.1306623862918062\n",
            "1.130662386291807\n",
            "1.1306623862918075\n",
            "1.1306623862918075\n",
            "1.1306623862918075\n",
            "1.1306623862918075\n",
            "1.1306623862918075\n",
            "1.1306623862918075\n",
            "1.1306623862918075\n"
          ],
          "name": "stdout"
        }
      ]
    },
    {
      "cell_type": "markdown",
      "metadata": {
        "id": "ylne4n40_-rO"
      },
      "source": [
        "Now, I am going to represent my cubic function in a graph to show its root."
      ]
    },
    {
      "cell_type": "code",
      "metadata": {
        "colab": {
          "base_uri": "https://localhost:8080/",
          "height": 295
        },
        "id": "-43kvvNF5lsC",
        "outputId": "e3347c67-846e-466a-a34c-a34e30d907e3"
      },
      "source": [
        "import matplotlib.pyplot as plt\r\n",
        "\r\n",
        "x = np.arange(-5,5,0.5)\r\n",
        "y = [(5*i**3 + 2*i**2 - 6*i - 3)for i in x]\r\n",
        "plt.plot(x,y, label='5x^3+2x^2-6x-3')\r\n",
        "plt.legend()\r\n",
        "ply.grid(True)\r\n",
        "plt.xlabel(\"x\")\r\n",
        "plt.ylabel(\"y\")\r\n",
        "plt.title(\"Graph of cubical function\")\r\n",
        "plt.show()\r\n",
        "plt.close()\r\n"
      ],
      "execution_count": 55,
      "outputs": [
        {
          "output_type": "display_data",
          "data": {
            "image/png": "[encoded data removed]",
            "text/plain": [
              "<Figure size 432x288 with 1 Axes>"
            ]
          },
          "metadata": {
            "tags": [],
            "needs_background": "light"
          }
        }
      ]
    }
  ]
}