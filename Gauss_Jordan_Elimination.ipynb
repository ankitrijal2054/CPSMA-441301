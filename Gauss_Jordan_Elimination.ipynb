{
  "nbformat": 4,
  "nbformat_minor": 0,
  "metadata": {
    "colab": {
      "name": "Gauss-Jordan Elimination.ipynb",
      "provenance": [],
      "authorship_tag": "ABX9TyMqMTtuOQr6Y6XxufHfUSZ5",
      "include_colab_link": true
    },
    "kernelspec": {
      "name": "python3",
      "display_name": "Python 3"
    }
  },
  "cells": [
    {
      "cell_type": "markdown",
      "metadata": {
        "id": "view-in-github",
        "colab_type": "text"
      },
      "source": [
        "<a href=\"https://colab.research.google.com/github/ankitrijal2054/CPSMA-441301/blob/main/Gauss_Jordan_Elimination.ipynb\" target=\"_parent\"><img src=\"https://colab.research.google.com/assets/colab-badge.svg\" alt=\"Open In Colab\"/></a>"
      ]
    },
    {
      "cell_type": "markdown",
      "metadata": {
        "id": "jKv6Cyd7NSBc"
      },
      "source": [
        "Project 4"
      ]
    },
    {
      "cell_type": "markdown",
      "metadata": {
        "id": "oEicjiC_NdVf"
      },
      "source": [
        "Function for swapping row"
      ]
    },
    {
      "cell_type": "code",
      "metadata": {
        "id": "awODh7qvNA1y"
      },
      "source": [
        "def swap(matrix, row1, row2)\r\n",
        "  swapped_matrix = []\r\n",
        "  size = len(matrix)\r\n",
        "  for i in range(size):\r\n",
        "    if i == row1:\r\n",
        "      swapped_matrix.append(matrix[row2,:])\r\n",
        "    elif i == row2:\r\n",
        "      swapped_matrix.append(matrix[row1,:])\r\n",
        "    else:\r\n",
        "      swapped_matrix.append(matrix[i,:])\r\n",
        "  return swapped_matrix\r\n"
      ],
      "execution_count": null,
      "outputs": []
    },
    {
      "cell_type": "markdown",
      "metadata": {
        "id": "AejA2KSJOkmr"
      },
      "source": [
        "Function for adding rows"
      ]
    },
    {
      "cell_type": "code",
      "metadata": {
        "id": "bqAZKi1jOo6e"
      },
      "source": [
        "def add_rows(matrix, target_row, adding_row, multiplier)\r\n",
        "  added_matrix = []\r\n",
        "  size = len(matrix)\r\n",
        "  for i in range(size):\r\n",
        "    if i == target_row:\r\n",
        "      old_row = matrix[target_row,:]\r\n",
        "      adding_values = multiplier * matrix[adding_row,:]\r\n",
        "      new_row = old_row + adding_values\r\n",
        "      added_matrix.append(new_row)\r\n",
        "    else:\r\n",
        "      added_matrix.append(i,:)\r\n",
        "  return added_matrix"
      ],
      "execution_count": null,
      "outputs": []
    },
    {
      "cell_type": "markdown",
      "metadata": {
        "id": "X9fdOKm8RUFN"
      },
      "source": [
        "Function for multiplying by a constant"
      ]
    },
    {
      "cell_type": "code",
      "metadata": {
        "id": "rT8q0aHeRdx8"
      },
      "source": [
        ""
      ],
      "execution_count": null,
      "outputs": []
    }
  ]
}