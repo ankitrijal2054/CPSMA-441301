{
  "nbformat": 4,
  "nbformat_minor": 0,
  "metadata": {
    "colab": {
      "name": "Copy of Gauss-Jordan Elimination.ipynb",
      "provenance": [],
      "include_colab_link": true
    },
    "kernelspec": {
      "name": "python3",
      "display_name": "Python 3"
    }
  },
  "cells": [
    {
      "cell_type": "markdown",
      "metadata": {
        "id": "view-in-github",
        "colab_type": "text"
      },
      "source": [
        "<a href=\"https://colab.research.google.com/github/ankitrijal2054/CPSMA-441301/blob/main/Gauss_Jordan_Elimination.ipynb\" target=\"_parent\"><img src=\"https://colab.research.google.com/assets/colab-badge.svg\" alt=\"Open In Colab\"/></a>"
      ]
    },
    {
      "cell_type": "markdown",
      "metadata": {
        "id": "jKv6Cyd7NSBc"
      },
      "source": [
        "#Project 4: Gauss-Jordan Elimination\n",
        "\n",
        "$Ankit Rijal$\n",
        "\n",
        "$Min Sun Kim$\n",
        "\n",
        "$Tylar Gifford$\n",
        "\n",
        "$CPSMA - 441301$\n",
        "\n",
        "$Dr. Nicolas Jacob$"
      ]
    },
    {
      "cell_type": "markdown",
      "metadata": {
        "id": "iQBCo_P_5gXW"
      },
      "source": [
        "##Gauss-Jordan Algorithm"
      ]
    },
    {
      "cell_type": "markdown",
      "metadata": {
        "id": "ESf3s2h2nC25"
      },
      "source": [
        "Gauss-Jordan algorithm is used to solve equations similar to this form,\r\n",
        "\r\n",
        "\r\n",
        "\r\n",
        "$$\r\n",
        "\\left\\{\r\n",
        "\\begin{align}\r\n",
        "a_{1,1} x_1 +&\\dots a_{1,n} x_n = y_1\\\\\r\n",
        "&\\vdots\\\\\r\n",
        "a_{n,1}x_1+&\\dots a_{n,n} x_n = y_n\r\n",
        "\\end{align}\r\n",
        "\\right.\r\n",
        "$$\r\n",
        "\r\n",
        "\r\n",
        "\r\n",
        "Let's use Gauss-Jordan algorithm to solve the following algorithm\r\n",
        "\r\n",
        "$$\r\n",
        "x+3y+z = 10\\\\\r\n",
        "x-2y-z = -6\\\\\r\n",
        "2x+y+2z = 10\r\n",
        "$$\r\n",
        "\r\n",
        "First we need to break it down to an augmented matrix\r\n",
        "\r\n",
        "$$\r\n",
        "\\left[\r\n",
        "\\begin{array}{ccc|c}\r\n",
        "1 & 3 & 1 & 10\\\\\r\n",
        "1 & -2 & -1 & -6\\\\\r\n",
        "2 & 1 & 2 & 10\r\n",
        "\\end{array}\r\n",
        "\\right]\r\n",
        "$$\r\n"
      ]
    },
    {
      "cell_type": "markdown",
      "metadata": {
        "id": "PvDj0Qk1XuR7"
      },
      "source": [
        "First I'm going to import necessary module for this project."
      ]
    },
    {
      "cell_type": "code",
      "metadata": {
        "id": "wlSpuAjg7AsO"
      },
      "source": [
        "#importing necessary modules\r\n",
        "import math\r\n",
        "import numpy as np"
      ],
      "execution_count": null,
      "outputs": []
    },
    {
      "cell_type": "markdown",
      "metadata": {
        "id": "snrQR2MkplRO"
      },
      "source": [
        "Then, I'm going to create a matrix mat with above values."
      ]
    },
    {
      "cell_type": "code",
      "metadata": {
        "id": "LOH4zg3Pp2n_",
        "colab": {
          "base_uri": "https://localhost:8080/"
        },
        "outputId": "7003b764-d326-4f82-979a-a9d8c1b6dec6"
      },
      "source": [
        "mat = np.array([[1,3,1,10],[1,-2,-1,-6],[2,1,2,10]]) \r\n",
        "\r\n",
        "print(mat)"
      ],
      "execution_count": null,
      "outputs": [
        {
          "output_type": "stream",
          "text": [
            "[[ 1  3  1 10]\n",
            " [ 1 -2 -1 -6]\n",
            " [ 2  1  2 10]]\n"
          ],
          "name": "stdout"
        }
      ]
    },
    {
      "cell_type": "markdown",
      "metadata": {
        "id": "oEicjiC_NdVf"
      },
      "source": [
        "Now, I am going to write the function for swapping rows."
      ]
    },
    {
      "cell_type": "code",
      "metadata": {
        "id": "awODh7qvNA1y"
      },
      "source": [
        "def swap(matrix, row1, row2):\r\n",
        "  swapped_matrix = []\r\n",
        "  size = len(matrix)      #to find the size of a matrix\r\n",
        "  for i in range(size):   #using loop to go through each row\r\n",
        "    if i == row1:\r\n",
        "      swapped_matrix.append(matrix[row2,:])   \r\n",
        "    elif i == row2:\r\n",
        "      swapped_matrix.append(matrix[row1,:])\r\n",
        "    else:\r\n",
        "      swapped_matrix.append(matrix[i,:])\r\n",
        "  return np.array(swapped_matrix)\r\n"
      ],
      "execution_count": null,
      "outputs": []
    },
    {
      "cell_type": "markdown",
      "metadata": {
        "id": "34BgpOHQuHfd"
      },
      "source": [
        "Let's try if our function works or not."
      ]
    },
    {
      "cell_type": "code",
      "metadata": {
        "id": "Hd4QMPJiuB-C",
        "colab": {
          "base_uri": "https://localhost:8080/"
        },
        "outputId": "7a0d1133-851b-4c18-bf86-7a444d551c47"
      },
      "source": [
        "swap(mat, 0, 2)"
      ],
      "execution_count": null,
      "outputs": [
        {
          "output_type": "execute_result",
          "data": {
            "text/plain": [
              "array([[ 2,  1,  2, 10],\n",
              "       [ 1, -2, -1, -6],\n",
              "       [ 1,  3,  1, 10]])"
            ]
          },
          "metadata": {
            "tags": []
          },
          "execution_count": 132
        }
      ]
    },
    {
      "cell_type": "markdown",
      "metadata": {
        "id": "AejA2KSJOkmr"
      },
      "source": [
        "Secondly, I am going to define the function for adding two rows of a matrix.\r\n",
        "\r\n",
        "---\r\n",
        "\r\n"
      ]
    },
    {
      "cell_type": "code",
      "metadata": {
        "id": "bqAZKi1jOo6e"
      },
      "source": [
        "def add_rows(matrix, target_row, adding_row, multiplier):\r\n",
        "  added_matrix = []\r\n",
        "  size = len(matrix)\r\n",
        "  for i in range(size):   #using loop to go through each row\r\n",
        "    if i == target_row:\r\n",
        "      old_row = matrix[target_row,:]\r\n",
        "      adding_values = multiplier * matrix[adding_row,:]\r\n",
        "      new_row = old_row + adding_values\r\n",
        "      added_matrix.append(new_row)\r\n",
        "    else:\r\n",
        "      added_matrix.append(matrix[i,:])\r\n",
        "  return np.array(added_matrix)"
      ],
      "execution_count": null,
      "outputs": []
    },
    {
      "cell_type": "markdown",
      "metadata": {
        "id": "QyFmRet2u1HE"
      },
      "source": [
        "Let's check this function by multiplying row 3 of mat and adding it to row 1."
      ]
    },
    {
      "cell_type": "code",
      "metadata": {
        "id": "JOX9nocfvDEU",
        "colab": {
          "base_uri": "https://localhost:8080/"
        },
        "outputId": "81d3ced2-9be9-458c-ad84-4dc4042b4348"
      },
      "source": [
        "add_rows(mat, 0, 2, 2)"
      ],
      "execution_count": null,
      "outputs": [
        {
          "output_type": "execute_result",
          "data": {
            "text/plain": [
              "array([[ 5,  5,  5, 30],\n",
              "       [ 1, -2, -1, -6],\n",
              "       [ 2,  1,  2, 10]])"
            ]
          },
          "metadata": {
            "tags": []
          },
          "execution_count": 134
        }
      ]
    },
    {
      "cell_type": "markdown",
      "metadata": {
        "id": "X9fdOKm8RUFN"
      },
      "source": [
        "And now, I am going to write the function for multiplying user defined row by a user defined constant."
      ]
    },
    {
      "cell_type": "code",
      "metadata": {
        "id": "rT8q0aHeRdx8"
      },
      "source": [
        "def multiply(matrix, target_row, constant):\r\n",
        "  new_matrix = []\r\n",
        "  size = len(matrix)\r\n",
        "  for i in range(size):   #using loop to go through each row\r\n",
        "    if i == target_row:\r\n",
        "      new_matrix.append(constant * matrix[target_row,:])\r\n",
        "    else:\r\n",
        "      new_matrix.append(matrix[i,:])\r\n",
        "  return np.array(new_matrix)"
      ],
      "execution_count": null,
      "outputs": []
    },
    {
      "cell_type": "markdown",
      "metadata": {
        "id": "QhSNl5Y-vo_N"
      },
      "source": [
        "Let's check this function by multiplying row 2 of mat by 3."
      ]
    },
    {
      "cell_type": "code",
      "metadata": {
        "id": "5sJfquL-vws5",
        "colab": {
          "base_uri": "https://localhost:8080/"
        },
        "outputId": "6e3c7da3-34c8-46bc-c92d-2421ce0045d2"
      },
      "source": [
        "multiply(mat, 1, 3)"
      ],
      "execution_count": null,
      "outputs": [
        {
          "output_type": "execute_result",
          "data": {
            "text/plain": [
              "array([[  1,   3,   1,  10],\n",
              "       [  3,  -6,  -3, -18],\n",
              "       [  2,   1,   2,  10]])"
            ]
          },
          "metadata": {
            "tags": []
          },
          "execution_count": 138
        }
      ]
    },
    {
      "cell_type": "markdown",
      "metadata": {
        "id": "7MoElXBfv75w"
      },
      "source": [
        "According to the Gauss-Jordan algorithm, the first step is to swap the rows so that the row with the largest, leftmost nonzero value is on top.\r\n",
        "For that, we are going to write a function to find the row with largest leftmost value to swap it with the current row."
      ]
    },
    {
      "cell_type": "code",
      "metadata": {
        "id": "czrUB2dD-CcN"
      },
      "source": [
        "def max_value_row(matrix, column):\r\n",
        "  col = matrix[column:,column]\r\n",
        "  max = 0\r\n",
        "  for i in range(len(col)):\r\n",
        "    if col[max] < col[i]:\r\n",
        "      max = i\r\n",
        "  max_row = max + column\r\n",
        "  return max_row"
      ],
      "execution_count": null,
      "outputs": []
    },
    {
      "cell_type": "markdown",
      "metadata": {
        "id": "A0BF7jrbzEqi"
      },
      "source": [
        "Let's check the function."
      ]
    },
    {
      "cell_type": "code",
      "metadata": {
        "id": "gnVSpJ1ezIBk",
        "colab": {
          "base_uri": "https://localhost:8080/"
        },
        "outputId": "c08dff8c-65e0-4acc-bd34-c652235175d9"
      },
      "source": [
        "max_value_row(mat, 0)"
      ],
      "execution_count": null,
      "outputs": [
        {
          "output_type": "execute_result",
          "data": {
            "text/plain": [
              "2"
            ]
          },
          "metadata": {
            "tags": []
          },
          "execution_count": 142
        }
      ]
    },
    {
      "cell_type": "markdown",
      "metadata": {
        "id": "yGadJVU9zcN-"
      },
      "source": [
        "Once we use Gauss-Jordan elimination, our matrix mat should look like below and the last column will give us the value of x, y and z.\r\n",
        "$$\r\n",
        "\\left[\r\n",
        "\\begin{array}{cccc}\r\n",
        "1 & 0 & 0 & 1 \\\\\r\n",
        "0 & 1 & 0 & 2\\\\\r\n",
        "0 & 0 & 1 & 3\r\n",
        "\\end{array}\r\n",
        "\\right]\r\n",
        "$$\r\n",
        "\r\n",
        "\\\\\r\n",
        "$$\r\n",
        "x=1, y=2, z=3\r\n",
        "$$\r\n",
        "\r\n",
        "Now, using all the above functions I'm going to write a Gauss-Jordan function to solve the linear equation."
      ]
    },
    {
      "cell_type": "code",
      "metadata": {
        "id": "wfJK3IXq096m"
      },
      "source": [
        "def gaussJordan(matrix):\r\n",
        "  for i in range(len(matrix)):  #using loop to go through each row\r\n",
        "    pos = max_value_row(matrix, i)  #using max_value_row function to find the row with largest leftmost value   \r\n",
        "    matrix = swap(matrix, pos, i)   #swapping current row with row found on previous step   \r\n",
        "    constant = 1/matrix[i,i]        \r\n",
        "    matrix = multiply(matrix,i,constant)  #using multiply function to make the diagonal 1\r\n",
        "    for column in range(0,i):             \r\n",
        "      matrix = add_rows(matrix,column,i,-matrix[column,i])    #using add_rows function to make all values except diagonal 0\r\n",
        "    for column in range(i+1,len(matrix)):\r\n",
        "      matrix = add_rows(matrix,column,i,-matrix[column,i])    #using add_rows function to make all values except diagonal 0\r\n",
        "  return np.array(matrix)"
      ],
      "execution_count": null,
      "outputs": []
    },
    {
      "cell_type": "markdown",
      "metadata": {
        "id": "xrcdap6NL1Qo"
      },
      "source": [
        "Now, let's use our Gauss-Jordan function to calculate the value of x, y and z of the function abave."
      ]
    },
    {
      "cell_type": "code",
      "metadata": {
        "id": "nTGbA-iw1cUN",
        "colab": {
          "base_uri": "https://localhost:8080/"
        },
        "outputId": "553e914d-46c9-490e-e55c-8aaee85a6cd1"
      },
      "source": [
        "gaussJordan(mat)"
      ],
      "execution_count": null,
      "outputs": [
        {
          "output_type": "execute_result",
          "data": {
            "text/plain": [
              "array([[ 1.,  0.,  0.,  1.],\n",
              "       [ 0.,  1.,  0.,  2.],\n",
              "       [-0., -0.,  1.,  3.]])"
            ]
          },
          "metadata": {
            "tags": []
          },
          "execution_count": 150
        }
      ]
    },
    {
      "cell_type": "markdown",
      "metadata": {
        "id": "VYHlNFQy1CD5"
      },
      "source": [
        "We have sucessfully created a Gauss-Jordan function to solve the linear equation. However, this function has its own limitation.\r\n",
        "$$\r\n",
        "\\\\\r\n",
        "$$\r\n",
        "Let's try to solve the following equation:\r\n",
        "$$\r\n",
        "x-2y = 2\\\\\r\n",
        "2x-4y = 4\\\\\r\n",
        "\\\\\r\n",
        "$$\r\n"
      ]
    },
    {
      "cell_type": "code",
      "metadata": {
        "id": "e-m4vY4Q4J5R",
        "colab": {
          "base_uri": "https://localhost:8080/"
        },
        "outputId": "f3f173e1-e2fe-4f6f-8e19-66698a1cac2a"
      },
      "source": [
        "new_mat = np.array([[1,-2,2],[2,-4,4]]) \r\n",
        "gaussJordan(new_mat)"
      ],
      "execution_count": null,
      "outputs": [
        {
          "output_type": "stream",
          "text": [
            "/usr/local/lib/python3.6/dist-packages/ipykernel_launcher.py:5: RuntimeWarning: divide by zero encountered in double_scalars\n",
            "  \"\"\"\n",
            "/usr/local/lib/python3.6/dist-packages/ipykernel_launcher.py:6: RuntimeWarning: invalid value encountered in multiply\n",
            "  \n"
          ],
          "name": "stderr"
        },
        {
          "output_type": "execute_result",
          "data": {
            "text/plain": [
              "array([[nan, nan, nan],\n",
              "       [nan, nan, nan]])"
            ]
          },
          "metadata": {
            "tags": []
          },
          "execution_count": 164
        }
      ]
    },
    {
      "cell_type": "markdown",
      "metadata": {
        "id": "pFN7JvKi4mV4"
      },
      "source": [
        "We are getting this error because on the above equation, values of x depends on values of y and vice versa. That means the above function can have infinite different solution. But our function can only solve a equation with one unique solution. So, this is the limitation of our Gauss-Jordan function."
      ]
    }
  ]
}