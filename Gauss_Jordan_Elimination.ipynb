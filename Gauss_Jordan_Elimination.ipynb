{
  "nbformat": 4,
  "nbformat_minor": 0,
  "metadata": {
    "colab": {
      "name": "Copy of Gauss-Jordan Elimination.ipynb",
      "provenance": [],
      "collapsed_sections": []
    },
    "kernelspec": {
      "name": "python3",
      "display_name": "Python 3"
    }
  },
  "cells": [
    {
      "cell_type": "markdown",
      "metadata": {
        "id": "jKv6Cyd7NSBc"
      },
      "source": [
        "#Project 4: Gauss-Jordan Elimination\n",
        "\n",
        "$Ankit Rijal$\n",
        "\n",
        "$Min Sun Kim$\n",
        "\n",
        "$Tylar Gifford$\n",
        "\n",
        "$CPSMA - 441301$\n",
        "\n",
        "$Dr. Nicolas Jacob$"
      ]
    },
    {
      "cell_type": "markdown",
      "metadata": {
        "id": "oEicjiC_NdVf"
      },
      "source": [
        "First, I am going to write the function for swapping rows."
      ]
    },
    {
      "cell_type": "code",
      "metadata": {
        "id": "wlSpuAjg7AsO"
      },
      "source": [
        "import math\r\n",
        "import numpy as np"
      ],
      "execution_count": null,
      "outputs": []
    },
    {
      "cell_type": "code",
      "metadata": {
        "id": "awODh7qvNA1y"
      },
      "source": [
        "def swap(matrix, row1, row2):\r\n",
        "  swapped_matrix = []\r\n",
        "  size = len(matrix)\r\n",
        "  for i in range(size):\r\n",
        "    if i == row1:\r\n",
        "      swapped_matrix.append(matrix[row2,:])\r\n",
        "    elif i == row2:\r\n",
        "      swapped_matrix.append(matrix[row1,:])\r\n",
        "    else:\r\n",
        "      swapped_matrix.append(matrix[i,:])\r\n",
        "  return np.array(swapped_matrix)\r\n"
      ],
      "execution_count": null,
      "outputs": []
    },
    {
      "cell_type": "markdown",
      "metadata": {
        "id": "AejA2KSJOkmr"
      },
      "source": [
        "Secondly, I am going to define the function for adding rows."
      ]
    },
    {
      "cell_type": "code",
      "metadata": {
        "id": "bqAZKi1jOo6e"
      },
      "source": [
        "def add_rows(matrix, target_row, adding_row, multiplier):\r\n",
        "  added_matrix = []\r\n",
        "  size = len(matrix)\r\n",
        "  for i in range(size):\r\n",
        "    if i == target_row:\r\n",
        "      old_row = matrix[target_row,:]\r\n",
        "      adding_values = multiplier * matrix[adding_row,:]\r\n",
        "      new_row = old_row + adding_values\r\n",
        "      added_matrix.append(new_row)\r\n",
        "    else:\r\n",
        "      added_matrix.append(matrix[i,:])\r\n",
        "  return np.array(added_matrix)"
      ],
      "execution_count": null,
      "outputs": []
    },
    {
      "cell_type": "markdown",
      "metadata": {
        "id": "X9fdOKm8RUFN"
      },
      "source": [
        "And now, I am going to list the function for multiplying by a constant."
      ]
    },
    {
      "cell_type": "code",
      "metadata": {
        "id": "rT8q0aHeRdx8"
      },
      "source": [
        "def multiply(matrix, target_row, constant):\r\n",
        "  new_matrix = []\r\n",
        "  size = len(matrix)\r\n",
        "  for i in range(size):\r\n",
        "    if i == target_row:\r\n",
        "      new_matrix.append(constant * matrix[target_row,:])\r\n",
        "    else:\r\n",
        "      new_matrix.append(matrix[i,:])\r\n",
        "  return np.array(new_matrix)"
      ],
      "execution_count": null,
      "outputs": []
    },
    {
      "cell_type": "markdown",
      "metadata": {
        "id": "iQBCo_P_5gXW"
      },
      "source": [
        "##Gauss-Jordan Algorithm"
      ]
    },
    {
      "cell_type": "markdown",
      "metadata": {
        "id": "ESf3s2h2nC25"
      },
      "source": [
        "Using the function above and the function below we will be able to solve equations similar to this,\r\n",
        "\r\n",
        "$$\r\n",
        "x+3y+z = 10\\\\\r\n",
        "x-2y-z = -6\\\\\r\n",
        "2x+y+2z = 10\r\n",
        "$$\r\n",
        "\r\n",
        "Breaking down an augmented matrix\r\n",
        "\r\n",
        "$$\r\n",
        "\\left[\r\n",
        "\\begin{array}{ccc|c}\r\n",
        "2 & 1 & 2 & 10\\\\\r\n",
        "1 & -2 & -1 & -6\\\\\r\n",
        "2 & 1 & 2 & 10\r\n",
        "\\end{array}\r\n",
        "\\right]\r\n",
        "$$\r\n",
        "\r\n",
        "Into a reduced one, using row operations.\r\n",
        "\r\n",
        "$$\r\n",
        "\\left[\r\n",
        "\\begin{array}{cccc}\r\n",
        "1 & 0 & 0 & 1 \\\\\r\n",
        "0 & 1 & 0 & 2\\\\\r\n",
        "0 & 0 & 1 & 3\r\n",
        "\\end{array}\r\n",
        "\\right]\r\n",
        "$$\r\n",
        "\r\n",
        "//\r\n",
        "\r\n",
        "$$\r\n",
        "x=1, y=2, z=3\r\n",
        "$$"
      ]
    },
    {
      "cell_type": "code",
      "metadata": {
        "id": "BaR8HhD2zfoP"
      },
      "source": [
        "def gaussJordan(matrix):\r\n",
        "  for i in range(len(matrix)):\r\n",
        "    constant = matrix[i,i]\r\n",
        "    matrix = multiply(matrix,i,constant)\r\n",
        "    for column in range(0,i):\r\n",
        "      matrix = add_rows(matrix,column,i,-matrix[column,i])\r\n",
        "    for column in range(i+1,len(matrix)):\r\n",
        "      matrix = add_rows(matrix,column,i,-matrix[column,i])\r\n",
        "  return np.array(matrix)"
      ],
      "execution_count": null,
      "outputs": []
    },
    {
      "cell_type": "markdown",
      "metadata": {
        "id": "xrcdap6NL1Qo"
      },
      "source": [
        "Above is the function for Gauss-Jordan Algorithm."
      ]
    },
    {
      "cell_type": "code",
      "metadata": {
        "id": "wTFOFgm463Sv",
        "colab": {
          "base_uri": "https://localhost:8080/"
        },
        "outputId": "0c06529a-7c95-4390-c9e2-5439631cb3c3"
      },
      "source": [
        "#A = np.array([[1,2,3],[2,3,4]])\r\n",
        "\r\n",
        "\r\n",
        "#gaussJordan(A)\r\n",
        "B = np.array([[1,-2,2],[2,-4,4]])\r\n",
        "gaussJordan(B)"
      ],
      "execution_count": null,
      "outputs": [
        {
          "output_type": "execute_result",
          "data": {
            "text/plain": [
              "array([[ 1, -2,  2],\n",
              "       [ 0,  0,  0]])"
            ]
          },
          "metadata": {
            "tags": []
          },
          "execution_count": 53
        }
      ]
    },
    {
      "cell_type": "code",
      "metadata": {
        "id": "czrUB2dD-CcN"
      },
      "source": [
        ""
      ],
      "execution_count": null,
      "outputs": []
    }
  ]
}
