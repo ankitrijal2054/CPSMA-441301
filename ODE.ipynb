{
  "nbformat": 4,
  "nbformat_minor": 0,
  "metadata": {
    "colab": {
      "name": "ODE.ipynb",
      "provenance": [],
      "authorship_tag": "ABX9TyMvdKOsnBAmYW8cumCrL22v",
      "include_colab_link": true
    },
    "kernelspec": {
      "name": "python3",
      "display_name": "Python 3"
    }
  },
  "cells": [
    {
      "cell_type": "markdown",
      "metadata": {
        "id": "view-in-github",
        "colab_type": "text"
      },
      "source": [
        "<a href=\"https://colab.research.google.com/github/ankitrijal2054/CPSMA-441301/blob/main/ODE.ipynb\" target=\"_parent\"><img src=\"https://colab.research.google.com/assets/colab-badge.svg\" alt=\"Open In Colab\"/></a>"
      ]
    },
    {
      "cell_type": "markdown",
      "metadata": {
        "id": "IuiMUY0Wh2bN"
      },
      "source": [
        "##Ordinary Differential Equations"
      ]
    },
    {
      "cell_type": "code",
      "metadata": {
        "id": "_6aEIN95NsRf"
      },
      "source": [
        "import numpy as np\r\n",
        "from scipy import integrate\r\n",
        "import matplotlib.pyplot as plt\r\n",
        "import pandas as pa\r\n",
        "import math"
      ],
      "execution_count": 128,
      "outputs": []
    },
    {
      "cell_type": "markdown",
      "metadata": {
        "id": "thNwort0Spa4"
      },
      "source": [
        "My function from project 1,\r\n",
        "$$\r\n",
        "f(x) = e^x\r\n",
        "$$\r\n",
        "Using that function my differential equation function will be,\r\n",
        "$$\r\n",
        "\\frac{dy}{dx} = e^x\\left(1-y\\right)\\quad\\quad y(0) = 2\r\n",
        "$$\r\n",
        "After solving the above function, we get the function,\r\n",
        "$$\r\n",
        "y(x) = 1+ e^{-e^x+1}\r\n",
        "$$\r\n"
      ]
    },
    {
      "cell_type": "markdown",
      "metadata": {
        "id": "8gD7BWJTXwFF"
      },
      "source": [
        "Now, Let's plot the solution on the graph."
      ]
    },
    {
      "cell_type": "code",
      "metadata": {
        "colab": {
          "base_uri": "https://localhost:8080/",
          "height": 282
        },
        "id": "7tdBMfs8X5Yx",
        "outputId": "ebc85c55-b36b-4322-b3fa-e0388f3f847d"
      },
      "source": [
        "y = lambda x: 1+math.e**((-math.e**x)+1)\r\n",
        "x = np.linspace(-10, 10, 1000)\r\n",
        "\r\n",
        "plt.plot(x,y(x))"
      ],
      "execution_count": 129,
      "outputs": [
        {
          "output_type": "execute_result",
          "data": {
            "text/plain": [
              "[<matplotlib.lines.Line2D at 0x7fbb48729150>]"
            ]
          },
          "metadata": {
            "tags": []
          },
          "execution_count": 129
        },
        {
          "output_type": "display_data",
          "data": {
            "image/png": "[encoded data removed]",
            "text/plain": [
              "<Figure size 432x288 with 1 Axes>"
            ]
          },
          "metadata": {
            "tags": [],
            "needs_background": "light"
          }
        }
      ]
    },
    {
      "cell_type": "markdown",
      "metadata": {
        "id": "s09BRAqOY8NI"
      },
      "source": [
        "## Euler's Method\r\n",
        "\r\n",
        "For our first method, we will approximate the solution by computing the next value using\r\n",
        "$$\r\n",
        "y_{i+1} = y_i + f(x_i,y_i)h\r\n",
        "$$\r\n",
        "for h the step size, $h = x_{i+1}-x_i$."
      ]
    },
    {
      "cell_type": "markdown",
      "metadata": {
        "id": "KIO-IMp8aCWF"
      },
      "source": [
        "First let's define our differential equation function from above."
      ]
    },
    {
      "cell_type": "code",
      "metadata": {
        "id": "vTOeuMlmaSMd"
      },
      "source": [
        "f = lambda x,y: (math.e**x)*(1-y)"
      ],
      "execution_count": 130,
      "outputs": []
    },
    {
      "cell_type": "markdown",
      "metadata": {
        "id": "ZW1J71tCabit"
      },
      "source": [
        "Now, Let's create an euler method function"
      ]
    },
    {
      "cell_type": "code",
      "metadata": {
        "id": "uTgLFucwZfOR"
      },
      "source": [
        "def eulerMethod(function,init,interval):\r\n",
        "  eu_solution = []\r\n",
        "  y=init\r\n",
        "  h = interval[1]-interval[0]\r\n",
        "  for i in interval:\r\n",
        "    eu_solution.append([y])\r\n",
        "    y = y + f(i,y)*h\r\n",
        "  return np.array(eu_solution)"
      ],
      "execution_count": 131,
      "outputs": []
    },
    {
      "cell_type": "markdown",
      "metadata": {
        "id": "KO68PRtVcdIS"
      },
      "source": [
        "Now, using euler method function, let's graph the analytic solution and numerical solution"
      ]
    },
    {
      "cell_type": "code",
      "metadata": {
        "colab": {
          "base_uri": "https://localhost:8080/",
          "height": 282
        },
        "id": "igK9o0Csb4tf",
        "outputId": "9d860e0d-42b4-4bbe-8532-0845b44d5e7f"
      },
      "source": [
        "plt.plot(x, y(x), 'b')\r\n",
        "plt.plot(x, eulerMethod(f,4,x), 'y')"
      ],
      "execution_count": 132,
      "outputs": [
        {
          "output_type": "execute_result",
          "data": {
            "text/plain": [
              "[<matplotlib.lines.Line2D at 0x7fbb48648910>]"
            ]
          },
          "metadata": {
            "tags": []
          },
          "execution_count": 132
        },
        {
          "output_type": "display_data",
          "data": {
            "image/png": "[encoded data removed]",
            "text/plain": [
              "<Figure size 432x288 with 1 Axes>"
            ]
          },
          "metadata": {
            "tags": [],
            "needs_background": "light"
          }
        }
      ]
    },
    {
      "cell_type": "markdown",
      "metadata": {
        "id": "lvDVKysscxSR"
      },
      "source": [
        "##Runge-Kutta 4th Order\r\n",
        "\r\n",
        "Much like Euler's method we are interested in solving a differential equation fo the form, $\\frac{dy}{dx}= f(x,y)$.  We will have an initial point and iterate to the next using\r\n",
        "$$\r\n",
        "y_{i+1} = y_i + \\frac h6 \\left( k_1+2k_2+2k_3+k_4\\right)\r\n",
        "$$\r\n",
        "where \r\n",
        "$$\r\n",
        "\\begin{align}\r\n",
        "&k_1 = f(x_i,y_i)\\\\\r\n",
        "&k_2 = f\\left(x_i+\\frac h2,y_i+\\frac {k_1h}2\\right)\\\\\r\n",
        "&k_3 = f\\left(x_i+\\frac h 2,y_i +\\frac{k_2 h}2\\right)\\\\\r\n",
        "&k_4 = f\\left(x_i+h,y_i +k_3 h\\right)\r\n",
        "\\end{align}\r\n",
        "$$"
      ]
    },
    {
      "cell_type": "code",
      "metadata": {
        "id": "UY8AwA9-dB9X"
      },
      "source": [
        "def rungeKutta(function, init, interval):\r\n",
        "  ru_solution = []\r\n",
        "  y = init\r\n",
        "  h = interval[1]-interval[0]\r\n",
        "  for i in interval:\r\n",
        "    ru_solution.append([y])\r\n",
        "    k1 = function(i,y)\r\n",
        "    k2 = function(i+h/2,y+k1*h/2)\r\n",
        "    k3 = function(i+ h/2,y+k2*h/2)\r\n",
        "    k4 = function(i+ h , y+k3*h)\r\n",
        "    y = y+h/6*(k1+2*k2+2*k3+k4)\r\n",
        "  return np.array(ru_solution)"
      ],
      "execution_count": 133,
      "outputs": []
    },
    {
      "cell_type": "markdown",
      "metadata": {
        "id": "AauE8obXdaPe"
      },
      "source": [
        "Now, Let's graph all three different solutions on the same interval."
      ]
    },
    {
      "cell_type": "code",
      "metadata": {
        "colab": {
          "base_uri": "https://localhost:8080/",
          "height": 282
        },
        "id": "iBg0eBzGdiuo",
        "outputId": "2d9c8cde-5f00-4ee3-f369-3c570f58b8b5"
      },
      "source": [
        "plt.plot(x, y(x),'b')\r\n",
        "plt.plot(x, eulerMethod(f,4,x),'y')\r\n",
        "plt.plot(x,rungeKutta(f,4,x),'r')"
      ],
      "execution_count": 134,
      "outputs": [
        {
          "output_type": "execute_result",
          "data": {
            "text/plain": [
              "[<matplotlib.lines.Line2D at 0x7fbb48d7f650>]"
            ]
          },
          "metadata": {
            "tags": []
          },
          "execution_count": 134
        },
        {
          "output_type": "display_data",
          "data": {
            "image/png": "[encoded data removed]",
            "text/plain": [
              "<Figure size 432x288 with 1 Axes>"
            ]
          },
          "metadata": {
            "tags": [],
            "needs_background": "light"
          }
        }
      ]
    }
  ]
}