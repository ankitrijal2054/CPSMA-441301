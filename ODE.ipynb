{
  "nbformat": 4,
  "nbformat_minor": 0,
  "metadata": {
    "colab": {
      "name": "Copy of ODE.ipynb",
      "provenance": [],
      "include_colab_link": true
    },
    "kernelspec": {
      "name": "python3",
      "display_name": "Python 3"
    }
  },
  "cells": [
    {
      "cell_type": "markdown",
      "metadata": {
        "id": "view-in-github",
        "colab_type": "text"
      },
      "source": [
        "<a href=\"https://colab.research.google.com/github/ankitrijal2054/CPSMA-441301/blob/main/ODE.ipynb\" target=\"_parent\"><img src=\"https://colab.research.google.com/assets/colab-badge.svg\" alt=\"Open In Colab\"/></a>"
      ]
    },
    {
      "cell_type": "markdown",
      "metadata": {
        "id": "IuiMUY0Wh2bN"
      },
      "source": [
        "# Project Module 8: Ordinary Differential Equations\n",
        "\n",
        "\n",
        "\n",
        "$Ankit Rijal$\n",
        "\n",
        "$Min Sun Kim$\n",
        "\n",
        "$Tylar Gifford$\n",
        "\n",
        "$CPSMA - 441301$\n",
        "\n",
        "$Dr. Nicolas Jacob$"
      ]
    },
    {
      "cell_type": "markdown",
      "metadata": {
        "id": "x0PhJC1Qg63q"
      },
      "source": [
        "First, let's import some packages."
      ]
    },
    {
      "cell_type": "code",
      "metadata": {
        "id": "_6aEIN95NsRf"
      },
      "source": [
        "import numpy as np\r\n",
        "from scipy import integrate\r\n",
        "import matplotlib.pyplot as plt\r\n",
        "import pandas as pa\r\n",
        "import math"
      ],
      "execution_count": 49,
      "outputs": []
    },
    {
      "cell_type": "markdown",
      "metadata": {
        "id": "thNwort0Spa4"
      },
      "source": [
        "My function from project 1,\r\n",
        "$$\r\n",
        "f(x) = e^x\r\n",
        "$$\r\n",
        "Using that function my differential equation function will be,\r\n",
        "$$\r\n",
        "\\frac{dy}{dx} = e^x\\left(1-y\\right)\\quad\\quad y(0) = 2\r\n",
        "$$\r\n",
        "After solving the above function, we get the function,\r\n",
        "$$\r\n",
        "y(x) = 1+ e^{-e^x+1}\r\n",
        "$$\r\n"
      ]
    },
    {
      "cell_type": "markdown",
      "metadata": {
        "id": "8gD7BWJTXwFF"
      },
      "source": [
        "Now, Let's plot the solution on the graph."
      ]
    },
    {
      "cell_type": "code",
      "metadata": {
        "colab": {
          "base_uri": "https://localhost:8080/",
          "height": 283
        },
        "id": "7tdBMfs8X5Yx",
        "outputId": "0500c569-bb53-4dbd-99e6-0018bc156dbf"
      },
      "source": [
        "y = lambda x: 1+math.e**((-math.e**x)+1)\r\n",
        "x = np.linspace(-10, 10, 1000)\r\n",
        "\r\n",
        "plt.plot(x,y(x))"
      ],
      "execution_count": 50,
      "outputs": [
        {
          "output_type": "execute_result",
          "data": {
            "text/plain": [
              "[<matplotlib.lines.Line2D at 0x7f44b2ee3850>]"
            ]
          },
          "metadata": {
            "tags": []
          },
          "execution_count": 50
        },
        {
          "output_type": "display_data",
          "data": {
            "image/png": "[encoded data removed]",
            "text/plain": [
              "<Figure size 432x288 with 1 Axes>"
            ]
          },
          "metadata": {
            "tags": [],
            "needs_background": "light"
          }
        }
      ]
    },
    {
      "cell_type": "markdown",
      "metadata": {
        "id": "s09BRAqOY8NI"
      },
      "source": [
        "## Euler's Method\r\n",
        "\r\n",
        "The Euler’s method is a straightforward numerical method used to estimate values of differential equations which cannot be solved by standard methods. This method uses Taylor’s Series for the solution and gives a reasonably good approximation if the value of step-size is reasonably small.\r\n",
        "\r\n",
        "For the first method, let's approximate the solution by computing the next value using\r\n",
        "$$\r\n",
        "y_{i+1} = y_i + f(x_i,y_i)h\r\n",
        "$$\r\n",
        "for h the step size, $h = x_{i+1}-x_i$."
      ]
    },
    {
      "cell_type": "markdown",
      "metadata": {
        "id": "KIO-IMp8aCWF"
      },
      "source": [
        "First let's define our differential equation function from above."
      ]
    },
    {
      "cell_type": "code",
      "metadata": {
        "id": "vTOeuMlmaSMd"
      },
      "source": [
        "f = lambda x,y: (math.e**x)*(1-y)"
      ],
      "execution_count": 51,
      "outputs": []
    },
    {
      "cell_type": "markdown",
      "metadata": {
        "id": "ZW1J71tCabit"
      },
      "source": [
        "Now, Let's create an euler method function"
      ]
    },
    {
      "cell_type": "code",
      "metadata": {
        "id": "uTgLFucwZfOR"
      },
      "source": [
        "def eulerMethod(function,init,interval):\r\n",
        "  eu_solution = []\r\n",
        "  y=init\r\n",
        "  h = interval[1]-interval[0]\r\n",
        "  for i in interval:\r\n",
        "    eu_solution.append([y])\r\n",
        "    y = y + f(i,y)*h\r\n",
        "  return np.array(eu_solution)"
      ],
      "execution_count": 52,
      "outputs": []
    },
    {
      "cell_type": "markdown",
      "metadata": {
        "id": "KO68PRtVcdIS"
      },
      "source": [
        "Now, using euler method function, let's graph the analytic solution and numerical solution"
      ]
    },
    {
      "cell_type": "code",
      "metadata": {
        "colab": {
          "base_uri": "https://localhost:8080/",
          "height": 299
        },
        "id": "igK9o0Csb4tf",
        "outputId": "d3e0334f-383a-4a35-9107-e68af9bd1a8f"
      },
      "source": [
        "plt.plot(x, y(x), 'b', label=\"Dif. Func.\")\r\n",
        "plt.plot(x, eulerMethod(f,4,x), 'y', label=\"Euler Func.\")\r\n",
        "plt.title(\"Comparison of Differential function and Euler Function\")\r\n",
        "plt.legend(loc=\"upper right\")"
      ],
      "execution_count": 53,
      "outputs": [
        {
          "output_type": "execute_result",
          "data": {
            "text/plain": [
              "<matplotlib.legend.Legend at 0x7f44b33b0650>"
            ]
          },
          "metadata": {
            "tags": []
          },
          "execution_count": 53
        },
        {
          "output_type": "display_data",
          "data": {
            "image/png": "[encoded data removed]",
            "text/plain": [
              "<Figure size 432x288 with 1 Axes>"
            ]
          },
          "metadata": {
            "tags": [],
            "needs_background": "light"
          }
        }
      ]
    },
    {
      "cell_type": "markdown",
      "metadata": {
        "id": "lvDVKysscxSR"
      },
      "source": [
        "###Runge-Kutta 4th Order\r\n",
        "\r\n",
        "The Runge-Kutta method finds approximate value of y for a given x where, only the first order ordinary differential equations can be solved by using the Runge Kutta 4th order method.\r\n",
        "\r\n",
        "Much like Euler's method we are interested in solving a differential equation fo the form, $\\frac{dy}{dx}= f(x,y)$.  We will have an initial point and iterate to the next using\r\n",
        "$$\r\n",
        "y_{i+1} = y_i + \\frac h6 \\left( k_1+2k_2+2k_3+k_4\\right)\r\n",
        "$$\r\n",
        "where \r\n",
        "$$\r\n",
        "\\begin{align}\r\n",
        "&k_1 = f(x_i,y_i)\\\\\r\n",
        "&k_2 = f\\left(x_i+\\frac h2,y_i+\\frac {k_1h}2\\right)\\\\\r\n",
        "&k_3 = f\\left(x_i+\\frac h 2,y_i +\\frac{k_2 h}2\\right)\\\\\r\n",
        "&k_4 = f\\left(x_i+h,y_i +k_3 h\\right)\r\n",
        "\\end{align}\r\n",
        "$$"
      ]
    },
    {
      "cell_type": "code",
      "metadata": {
        "id": "UY8AwA9-dB9X"
      },
      "source": [
        "def rungeKutta(function, init, interval):\r\n",
        "  ru_solution = []\r\n",
        "  y = init\r\n",
        "  h = interval[1]-interval[0]\r\n",
        "  for i in interval:\r\n",
        "    ru_solution.append([y])\r\n",
        "    k1 = function(i,y)\r\n",
        "    k2 = function(i+h/2,y+k1*h/2)\r\n",
        "    k3 = function(i+ h/2,y+k2*h/2)\r\n",
        "    k4 = function(i+ h , y+k3*h)\r\n",
        "    y = y+h/6*(k1+2*k2+2*k3+k4)\r\n",
        "  return np.array(ru_solution)"
      ],
      "execution_count": 54,
      "outputs": []
    },
    {
      "cell_type": "markdown",
      "metadata": {
        "id": "AauE8obXdaPe"
      },
      "source": [
        "Now, Let's graph all three different solutions on the same interval."
      ]
    },
    {
      "cell_type": "code",
      "metadata": {
        "colab": {
          "base_uri": "https://localhost:8080/",
          "height": 299
        },
        "id": "iBg0eBzGdiuo",
        "outputId": "aefee215-c781-4733-ac1c-82d37f4a12db"
      },
      "source": [
        "plt.plot(x, y(x),'b', label=\"Dif. Func.\")\r\n",
        "plt.plot(x, eulerMethod(f,4,x),'y', label=\"Euler Func.\")\r\n",
        "plt.plot(x,rungeKutta(f,4,x),'r', label=\"Runge Kutta\")\r\n",
        "plt.legend(loc=\"upper right\")\r\n",
        "plt.title(\"Comparison adding Runge-Kutta 4th Order \")"
      ],
      "execution_count": 55,
      "outputs": [
        {
          "output_type": "execute_result",
          "data": {
            "text/plain": [
              "Text(0.5, 1.0, 'Comparison adding Runge-Kutta 4th Order ')"
            ]
          },
          "metadata": {
            "tags": []
          },
          "execution_count": 55
        },
        {
          "output_type": "display_data",
          "data": {
            "image/png": "[encoded data removed]",
            "text/plain": [
              "<Figure size 432x288 with 1 Axes>"
            ]
          },
          "metadata": {
            "tags": [],
            "needs_background": "light"
          }
        }
      ]
    },
    {
      "cell_type": "markdown",
      "metadata": {
        "id": "3Y81LqN2jKda"
      },
      "source": [
        "Now let's compute the error for our value"
      ]
    },
    {
      "cell_type": "code",
      "metadata": {
        "id": "Cko9-io9ieyu"
      },
      "source": [
        "#function to compute error\r\n",
        "def error(actual_value, estimate_value):\r\n",
        "\r\n",
        "  error = (actual_value - estimate_value)/estimate_value\r\n",
        "  return abs(error)*100"
      ],
      "execution_count": 56,
      "outputs": []
    },
    {
      "cell_type": "code",
      "metadata": {
        "id": "7hDutU9HiFhx"
      },
      "source": [
        "points = np.linspace(-10, 10, 20)\r\n",
        "actual_value = [1+math.e**((-math.e**x)+1) for x in range(-10,10)]\r\n",
        "euler_value = eulerMethod(f,4,points)\r\n",
        "runge_value = rungeKutta(f,4,points)\r\n",
        "euler_estimate = []\r\n",
        "runge_estimate = []\r\n",
        "\r\n",
        "for value in euler_value:\r\n",
        "  euler_estimate.append(value[0]) \r\n",
        "for value in runge_value:\r\n",
        "  runge_estimate.append(value[0]) \r\n"
      ],
      "execution_count": 57,
      "outputs": []
    },
    {
      "cell_type": "code",
      "metadata": {
        "id": "Fvq3jvqWknzA"
      },
      "source": [
        "euler_error = []\r\n",
        "runge_error = []\r\n",
        "\r\n",
        "for i in range(0,len(euler_estimate)):\r\n",
        "  euler_error.append(error(actual_value[i],euler_estimate[i]))\r\n",
        "\r\n",
        "for i in range(0,len(runge_estimate)):\r\n",
        "  runge_error.append(error(actual_value[i],runge_estimate[i]))"
      ],
      "execution_count": 58,
      "outputs": []
    },
    {
      "cell_type": "code",
      "metadata": {
        "id": "WAofAZhijhH-",
        "outputId": "0d1657b7-1d99-42b6-a92c-7db1739371f0",
        "colab": {
          "base_uri": "https://localhost:8080/",
          "height": 837
        }
      },
      "source": [
        "import plotly.graph_objects as go\r\n",
        "fig = go.Figure(data=[go.Table(\r\n",
        "    header=dict(values=['Points', 'Actual Value', \"Euler's Estimated Value\",'Runge-Kutta Estimated Value', 'Percentage Error for Euler', 'Percentage Error for Runge-Kutta'],\r\n",
        "                line_color='darkslategray',\r\n",
        "                fill_color='lightgreen',\r\n",
        "                align='left'),\r\n",
        "    cells=dict(values=[points, actual_value , euler_estimate, runge_estimate, euler_error, runge_error], \r\n",
        "               line_color='darkslategray',\r\n",
        "               fill_color='white',\r\n",
        "               align='left'))\r\n",
        "])\r\n",
        "\r\n",
        "fig.update_layout(width=1500, height=800)\r\n",
        "fig.show()"
      ],
      "execution_count": 59,
      "outputs": [
        {
          "output_type": "display_data",
          "data": {
            "text/html": [
              "<html>\n",
              "<head><meta charset=\"utf-8\" /></head>\n",
              "<body>\n",
              "    <div>\n",
              "            <script src=\"https://cdnjs.cloudflare.com/ajax/libs/mathjax/2.7.5/MathJax.js?config=TeX-AMS-MML_SVG\"></script><script type=\"text/javascript\">if (window.MathJax) {MathJax.Hub.Config({SVG: {font: \"STIX-Web\"}});}</script>\n",
              "                <script type=\"text/javascript\">window.PlotlyConfig = {MathJaxConfig: 'local'};</script>\n",
              "        <script src=\"https://cdn.plot.ly/plotly-latest.min.js\"></script>    \n",
              "            <div id=\"c22d3824-87ae-433c-acd4-e9bb3b504af0\" class=\"plotly-graph-div\" style=\"height:800px; width:1500px;\"></div>\n",
              "            <script type=\"text/javascript\">\n",
              "                \n",
              "                    window.PLOTLYENV=window.PLOTLYENV || {};\n",
              "                    \n",
              "                if (document.getElementById(\"c22d3824-87ae-433c-acd4-e9bb3b504af0\")) {\n",
              "                    Plotly.newPlot(\n",
              "                        'c22d3824-87ae-433c-acd4-e9bb3b504af0',\n",
              "                        [{\"cells\": {\"align\": \"left\", \"fill\": {\"color\": \"white\"}, \"line\": {\"color\": \"darkslategray\"}, \"values\": [[-10.0, -8.947368421052632, -7.894736842105264, -6.842105263157895, -5.7894736842105265, -4.736842105263158, -3.6842105263157894, -2.6315789473684212, -1.578947368421053, -0.526315789473685, 0.5263157894736832, 1.5789473684210513, 2.6315789473684212, 3.6842105263157894, 4.7368421052631575, 5.789473684210526, 6.842105263157894, 7.894736842105264, 8.94736842105263, 10.0], [3.718158421456314, 3.7179463865299796, 3.717370099427549, 3.715804206103635, 3.711552225414732, 3.70002775611737, 3.668947930156542, 3.5862602973158775, 3.3742099197276874, 2.881596387531645, 2.0, 1.1793740787340172, 1.0016798410570682, 1.000000005143475, 1.0, 1.0, 1.0, 1.0, 1.0, 1.0], [4.0, 3.9998566318007502, 3.999445875568595, 3.9982691456985804, 3.99489892415902, 3.9852534831254727, 3.9577065521700687, 3.8795079164307187, 3.661378390236928, 3.0837415394712213, 1.787922964416977, 0.3840228927196079, 3.5286495813974232, -33.45802272061819, 1410.647901065075, -167856.01482126693, 57582193.93720458, -56703825232.0256, 160094201720015.7, -1.2953617211502502e+18], [4.0, 3.9997458686367713, 3.9990178553233457, 3.996932942520197, 3.990967304115267, 3.9739402787849927, 3.9256890815395273, 3.7917278018355156, 3.4408773845496934, 2.6608763783163583, 1.5534289302457605, 1.5791599212053242, 83.44923820062562, 1078423.5831127798, 1067565721583.1703, 7.423368933714623e+19, 3.5297432967793344e+29, 1.1368616318943722e+41, 2.472030838147808e+54, 3.624753961462918e+69], [7.046039463592146, 7.04800874684985, 7.052871445621042, 7.064680473019856, 7.09271258481055, 7.157028485535924, 7.296109961846361, 7.558886988549804, 7.843179259346043, 6.5551911323359064, 11.861642800263441, 207.11035750546532, 71.6129409296465, 102.98881979217272, 99.92911058817407, 100.0005957486844, 99.99999826335203, 100.00000000176354, 99.99999999999937, 100.0], [7.046039463592146, 7.045434669149047, 7.042923189774646, 7.033611533129734, 7.001186865460351, 6.892718648287531, 6.540027649930432, 5.418835825192266, 1.9375135284203329, 8.295011786866441, 28.747441293216404, 25.316362016467764, 98.79965370247136, 99.99990727205703, 99.99999999990634, 100.0, 100.0, 100.0, 100.0, 100.0]]}, \"header\": {\"align\": \"left\", \"fill\": {\"color\": \"lightgreen\"}, \"line\": {\"color\": \"darkslategray\"}, \"values\": [\"Points\", \"Actual Value\", \"Euler's Estimated Value\", \"Runge-Kutta Estimated Value\", \"Percentage Error for Euler\", \"Percentage Error for Runge-Kutta\"]}, \"type\": \"table\"}],\n",
              "                        {\"height\": 800, \"template\": {\"data\": {\"bar\": [{\"error_x\": {\"color\": \"#2a3f5f\"}, \"error_y\": {\"color\": \"#2a3f5f\"}, \"marker\": {\"line\": {\"color\": \"#E5ECF6\", \"width\": 0.5}}, \"type\": \"bar\"}], \"barpolar\": [{\"marker\": {\"line\": {\"color\": \"#E5ECF6\", \"width\": 0.5}}, \"type\": \"barpolar\"}], \"carpet\": [{\"aaxis\": {\"endlinecolor\": \"#2a3f5f\", \"gridcolor\": \"white\", \"linecolor\": \"white\", \"minorgridcolor\": \"white\", \"startlinecolor\": \"#2a3f5f\"}, \"baxis\": {\"endlinecolor\": \"#2a3f5f\", \"gridcolor\": \"white\", \"linecolor\": \"white\", \"minorgridcolor\": \"white\", \"startlinecolor\": \"#2a3f5f\"}, \"type\": \"carpet\"}], \"choropleth\": [{\"colorbar\": {\"outlinewidth\": 0, \"ticks\": \"\"}, \"type\": \"choropleth\"}], \"contour\": [{\"colorbar\": {\"outlinewidth\": 0, \"ticks\": \"\"}, \"colorscale\": [[0.0, \"#0d0887\"], [0.1111111111111111, \"#46039f\"], [0.2222222222222222, \"#7201a8\"], [0.3333333333333333, \"#9c179e\"], [0.4444444444444444, \"#bd3786\"], [0.5555555555555556, \"#d8576b\"], [0.6666666666666666, \"#ed7953\"], [0.7777777777777778, \"#fb9f3a\"], [0.8888888888888888, \"#fdca26\"], [1.0, \"#f0f921\"]], \"type\": \"contour\"}], \"contourcarpet\": [{\"colorbar\": {\"outlinewidth\": 0, \"ticks\": \"\"}, \"type\": \"contourcarpet\"}], \"heatmap\": [{\"colorbar\": {\"outlinewidth\": 0, \"ticks\": \"\"}, \"colorscale\": [[0.0, \"#0d0887\"], [0.1111111111111111, \"#46039f\"], [0.2222222222222222, \"#7201a8\"], [0.3333333333333333, \"#9c179e\"], [0.4444444444444444, \"#bd3786\"], [0.5555555555555556, \"#d8576b\"], [0.6666666666666666, \"#ed7953\"], [0.7777777777777778, \"#fb9f3a\"], [0.8888888888888888, \"#fdca26\"], [1.0, \"#f0f921\"]], \"type\": \"heatmap\"}], \"heatmapgl\": [{\"colorbar\": {\"outlinewidth\": 0, \"ticks\": \"\"}, \"colorscale\": [[0.0, \"#0d0887\"], [0.1111111111111111, \"#46039f\"], [0.2222222222222222, \"#7201a8\"], [0.3333333333333333, \"#9c179e\"], [0.4444444444444444, \"#bd3786\"], [0.5555555555555556, \"#d8576b\"], [0.6666666666666666, \"#ed7953\"], [0.7777777777777778, \"#fb9f3a\"], [0.8888888888888888, \"#fdca26\"], [1.0, \"#f0f921\"]], \"type\": \"heatmapgl\"}], \"histogram\": [{\"marker\": {\"colorbar\": {\"outlinewidth\": 0, \"ticks\": \"\"}}, \"type\": \"histogram\"}], \"histogram2d\": [{\"colorbar\": {\"outlinewidth\": 0, \"ticks\": \"\"}, \"colorscale\": [[0.0, \"#0d0887\"], [0.1111111111111111, \"#46039f\"], [0.2222222222222222, \"#7201a8\"], [0.3333333333333333, \"#9c179e\"], [0.4444444444444444, \"#bd3786\"], [0.5555555555555556, \"#d8576b\"], [0.6666666666666666, \"#ed7953\"], [0.7777777777777778, \"#fb9f3a\"], [0.8888888888888888, \"#fdca26\"], [1.0, \"#f0f921\"]], \"type\": \"histogram2d\"}], \"histogram2dcontour\": [{\"colorbar\": {\"outlinewidth\": 0, \"ticks\": \"\"}, \"colorscale\": [[0.0, \"#0d0887\"], [0.1111111111111111, \"#46039f\"], [0.2222222222222222, \"#7201a8\"], [0.3333333333333333, \"#9c179e\"], [0.4444444444444444, \"#bd3786\"], [0.5555555555555556, \"#d8576b\"], [0.6666666666666666, \"#ed7953\"], [0.7777777777777778, \"#fb9f3a\"], [0.8888888888888888, \"#fdca26\"], [1.0, \"#f0f921\"]], \"type\": \"histogram2dcontour\"}], \"mesh3d\": [{\"colorbar\": {\"outlinewidth\": 0, \"ticks\": \"\"}, \"type\": \"mesh3d\"}], \"parcoords\": [{\"line\": {\"colorbar\": {\"outlinewidth\": 0, \"ticks\": \"\"}}, \"type\": \"parcoords\"}], \"pie\": [{\"automargin\": true, \"type\": \"pie\"}], \"scatter\": [{\"marker\": {\"colorbar\": {\"outlinewidth\": 0, \"ticks\": \"\"}}, \"type\": \"scatter\"}], \"scatter3d\": [{\"line\": {\"colorbar\": {\"outlinewidth\": 0, \"ticks\": \"\"}}, \"marker\": {\"colorbar\": {\"outlinewidth\": 0, \"ticks\": \"\"}}, \"type\": \"scatter3d\"}], \"scattercarpet\": [{\"marker\": {\"colorbar\": {\"outlinewidth\": 0, \"ticks\": \"\"}}, \"type\": \"scattercarpet\"}], \"scattergeo\": [{\"marker\": {\"colorbar\": {\"outlinewidth\": 0, \"ticks\": \"\"}}, \"type\": \"scattergeo\"}], \"scattergl\": [{\"marker\": {\"colorbar\": {\"outlinewidth\": 0, \"ticks\": \"\"}}, \"type\": \"scattergl\"}], \"scattermapbox\": [{\"marker\": {\"colorbar\": {\"outlinewidth\": 0, \"ticks\": \"\"}}, \"type\": \"scattermapbox\"}], \"scatterpolar\": [{\"marker\": {\"colorbar\": {\"outlinewidth\": 0, \"ticks\": \"\"}}, \"type\": \"scatterpolar\"}], \"scatterpolargl\": [{\"marker\": {\"colorbar\": {\"outlinewidth\": 0, \"ticks\": \"\"}}, \"type\": \"scatterpolargl\"}], \"scatterternary\": [{\"marker\": {\"colorbar\": {\"outlinewidth\": 0, \"ticks\": \"\"}}, \"type\": \"scatterternary\"}], \"surface\": [{\"colorbar\": {\"outlinewidth\": 0, \"ticks\": \"\"}, \"colorscale\": [[0.0, \"#0d0887\"], [0.1111111111111111, \"#46039f\"], [0.2222222222222222, \"#7201a8\"], [0.3333333333333333, \"#9c179e\"], [0.4444444444444444, \"#bd3786\"], [0.5555555555555556, \"#d8576b\"], [0.6666666666666666, \"#ed7953\"], [0.7777777777777778, \"#fb9f3a\"], [0.8888888888888888, \"#fdca26\"], [1.0, \"#f0f921\"]], \"type\": \"surface\"}], \"table\": [{\"cells\": {\"fill\": {\"color\": \"#EBF0F8\"}, \"line\": {\"color\": \"white\"}}, \"header\": {\"fill\": {\"color\": \"#C8D4E3\"}, \"line\": {\"color\": \"white\"}}, \"type\": \"table\"}]}, \"layout\": {\"annotationdefaults\": {\"arrowcolor\": \"#2a3f5f\", \"arrowhead\": 0, \"arrowwidth\": 1}, \"coloraxis\": {\"colorbar\": {\"outlinewidth\": 0, \"ticks\": \"\"}}, \"colorscale\": {\"diverging\": [[0, \"#8e0152\"], [0.1, \"#c51b7d\"], [0.2, \"#de77ae\"], [0.3, \"#f1b6da\"], [0.4, \"#fde0ef\"], [0.5, \"#f7f7f7\"], [0.6, \"#e6f5d0\"], [0.7, \"#b8e186\"], [0.8, \"#7fbc41\"], [0.9, \"#4d9221\"], [1, \"#276419\"]], \"sequential\": [[0.0, \"#0d0887\"], [0.1111111111111111, \"#46039f\"], [0.2222222222222222, \"#7201a8\"], [0.3333333333333333, \"#9c179e\"], [0.4444444444444444, \"#bd3786\"], [0.5555555555555556, \"#d8576b\"], [0.6666666666666666, \"#ed7953\"], [0.7777777777777778, \"#fb9f3a\"], [0.8888888888888888, \"#fdca26\"], [1.0, \"#f0f921\"]], \"sequentialminus\": [[0.0, \"#0d0887\"], [0.1111111111111111, \"#46039f\"], [0.2222222222222222, \"#7201a8\"], [0.3333333333333333, \"#9c179e\"], [0.4444444444444444, \"#bd3786\"], [0.5555555555555556, \"#d8576b\"], [0.6666666666666666, \"#ed7953\"], [0.7777777777777778, \"#fb9f3a\"], [0.8888888888888888, \"#fdca26\"], [1.0, \"#f0f921\"]]}, \"colorway\": [\"#636efa\", \"#EF553B\", \"#00cc96\", \"#ab63fa\", \"#FFA15A\", \"#19d3f3\", \"#FF6692\", \"#B6E880\", \"#FF97FF\", \"#FECB52\"], \"font\": {\"color\": \"#2a3f5f\"}, \"geo\": {\"bgcolor\": \"white\", \"lakecolor\": \"white\", \"landcolor\": \"#E5ECF6\", \"showlakes\": true, \"showland\": true, \"subunitcolor\": \"white\"}, \"hoverlabel\": {\"align\": \"left\"}, \"hovermode\": \"closest\", \"mapbox\": {\"style\": \"light\"}, \"paper_bgcolor\": \"white\", \"plot_bgcolor\": \"#E5ECF6\", \"polar\": {\"angularaxis\": {\"gridcolor\": \"white\", \"linecolor\": \"white\", \"ticks\": \"\"}, \"bgcolor\": \"#E5ECF6\", \"radialaxis\": {\"gridcolor\": \"white\", \"linecolor\": \"white\", \"ticks\": \"\"}}, \"scene\": {\"xaxis\": {\"backgroundcolor\": \"#E5ECF6\", \"gridcolor\": \"white\", \"gridwidth\": 2, \"linecolor\": \"white\", \"showbackground\": true, \"ticks\": \"\", \"zerolinecolor\": \"white\"}, \"yaxis\": {\"backgroundcolor\": \"#E5ECF6\", \"gridcolor\": \"white\", \"gridwidth\": 2, \"linecolor\": \"white\", \"showbackground\": true, \"ticks\": \"\", \"zerolinecolor\": \"white\"}, \"zaxis\": {\"backgroundcolor\": \"#E5ECF6\", \"gridcolor\": \"white\", \"gridwidth\": 2, \"linecolor\": \"white\", \"showbackground\": true, \"ticks\": \"\", \"zerolinecolor\": \"white\"}}, \"shapedefaults\": {\"line\": {\"color\": \"#2a3f5f\"}}, \"ternary\": {\"aaxis\": {\"gridcolor\": \"white\", \"linecolor\": \"white\", \"ticks\": \"\"}, \"baxis\": {\"gridcolor\": \"white\", \"linecolor\": \"white\", \"ticks\": \"\"}, \"bgcolor\": \"#E5ECF6\", \"caxis\": {\"gridcolor\": \"white\", \"linecolor\": \"white\", \"ticks\": \"\"}}, \"title\": {\"x\": 0.05}, \"xaxis\": {\"automargin\": true, \"gridcolor\": \"white\", \"linecolor\": \"white\", \"ticks\": \"\", \"title\": {\"standoff\": 15}, \"zerolinecolor\": \"white\", \"zerolinewidth\": 2}, \"yaxis\": {\"automargin\": true, \"gridcolor\": \"white\", \"linecolor\": \"white\", \"ticks\": \"\", \"title\": {\"standoff\": 15}, \"zerolinecolor\": \"white\", \"zerolinewidth\": 2}}}, \"width\": 1500},\n",
              "                        {\"responsive\": true}\n",
              "                    ).then(function(){\n",
              "                            \n",
              "var gd = document.getElementById('c22d3824-87ae-433c-acd4-e9bb3b504af0');\n",
              "var x = new MutationObserver(function (mutations, observer) {{\n",
              "        var display = window.getComputedStyle(gd).display;\n",
              "        if (!display || display === 'none') {{\n",
              "            console.log([gd, 'removed!']);\n",
              "            Plotly.purge(gd);\n",
              "            observer.disconnect();\n",
              "        }}\n",
              "}});\n",
              "\n",
              "// Listen for the removal of the full notebook cells\n",
              "var notebookContainer = gd.closest('#notebook-container');\n",
              "if (notebookContainer) {{\n",
              "    x.observe(notebookContainer, {childList: true});\n",
              "}}\n",
              "\n",
              "// Listen for the clearing of the current output cell\n",
              "var outputEl = gd.closest('.output');\n",
              "if (outputEl) {{\n",
              "    x.observe(outputEl, {childList: true});\n",
              "}}\n",
              "\n",
              "                        })\n",
              "                };\n",
              "                \n",
              "            </script>\n",
              "        </div>\n",
              "</body>\n",
              "</html>"
            ]
          },
          "metadata": {
            "tags": []
          }
        }
      ]
    }
  ]
}